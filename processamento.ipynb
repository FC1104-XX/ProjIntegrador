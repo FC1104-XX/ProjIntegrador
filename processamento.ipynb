{
 "cells": [
  {
   "cell_type": "code",
   "execution_count": 51,
   "id": "4ba48aae",
   "metadata": {},
   "outputs": [],
   "source": [
    "import pandas as pd\n",
    "import geopandas as gpd\n",
    "import xarray as xr\n",
    "import os"
   ]
  },
  {
   "cell_type": "code",
   "execution_count": 52,
   "id": "879b1d0b",
   "metadata": {},
   "outputs": [
    {
     "name": "stdout",
     "output_type": "stream",
     "text": [
      "/home/franc/Desktop/ProjIntegrador\n"
     ]
    }
   ],
   "source": [
    "print(os.getcwd())"
   ]
  },
  {
   "cell_type": "code",
   "execution_count": 53,
   "id": "4aea2be5",
   "metadata": {},
   "outputs": [],
   "source": [
    "apa2017 = pd.read_excel('apa/PM10_2017-01-01_2017-12-31.xlsx', header=0)\n",
    "apa2018 = pd.read_excel('apa/PM10_2018-01-01_2018-12-31.xlsx', header=0)"
   ]
  },
  {
   "cell_type": "code",
   "execution_count": 54,
   "id": "95053e85",
   "metadata": {},
   "outputs": [
    {
     "name": "stdout",
     "output_type": "stream",
     "text": [
      "Apa 2017 dimensões: (8760, 61)\n",
      "        PM10 (µg/m3)\\t  Alverca  Anta-Espinho  Arcos  Aveiro  \\\n",
      "0  2017-01-01 00:00:00     45.5           NaN   48.8    86.0   \n",
      "1  2017-01-01 01:00:00     32.2           NaN   48.0    80.0   \n",
      "2  2017-01-01 02:00:00     31.4           NaN   46.8    75.0   \n",
      "3  2017-01-01 03:00:00     26.6           NaN   43.3    73.0   \n",
      "4  2017-01-01 04:00:00     26.1           NaN   37.3    71.0   \n",
      "\n",
      "   Avenida da Liberdade  Avintes  Burgães-Santo Tirso  \\\n",
      "0                  69.2      NaN                  NaN   \n",
      "1                  69.7      NaN                  NaN   \n",
      "2                  55.4      NaN                  NaN   \n",
      "3                  53.0      NaN                  NaN   \n",
      "4                  42.7      NaN                  NaN   \n",
      "\n",
      "   Cascais - Escola da Cidadela  Cerro  ...  Reboleira  Santa Cruz de Benfica  \\\n",
      "0                          55.0   23.1  ...       75.5                   70.9   \n",
      "1                          52.2   20.5  ...       66.9                   48.7   \n",
      "2                          43.6   20.1  ...       64.4                   45.0   \n",
      "3                          41.1   23.3  ...       51.3                   37.3   \n",
      "4                          32.5   23.8  ...       47.7                   31.9   \n",
      "\n",
      "   Santana  Santiago do Cacém  São Gonçalo  São João  Seara-Matosinhos Sonega  \\\n",
      "0     39.2               24.0         41.0      72.1               NaN   15.0   \n",
      "1     42.4               25.0         45.4      72.6               NaN   13.0   \n",
      "2     48.0               22.0         45.4      72.6               NaN   12.0   \n",
      "3     48.0               26.0         46.3      77.7               NaN   11.0   \n",
      "4     50.0               16.0         52.5      78.4               NaN   10.0   \n",
      "\n",
      "   Terena  VNTelha-Maia  \n",
      "0    33.0           NaN  \n",
      "1    23.0           NaN  \n",
      "2    22.0           NaN  \n",
      "3    19.0           NaN  \n",
      "4    17.0           NaN  \n",
      "\n",
      "[5 rows x 61 columns]\n"
     ]
    }
   ],
   "source": [
    "print(f\"Apa 2017 dimensões: {apa2017.shape}\")\n",
    "print(apa2017.head())"
   ]
  },
  {
   "cell_type": "code",
   "execution_count": 55,
   "id": "7040814d",
   "metadata": {},
   "outputs": [
    {
     "name": "stdout",
     "output_type": "stream",
     "text": [
      "Apa 2018 dimensões: (8760, 61)\n",
      "        PM10 (µg/m3)\\t  Alverca  Anta-Espinho  Arcos  Aveiro  \\\n",
      "0  2018-01-01 00:00:00     54.4           NaN   55.5    85.0   \n",
      "1  2018-01-01 01:00:00     41.6           NaN   54.8    96.0   \n",
      "2  2018-01-01 02:00:00     40.0          35.0   53.6    96.0   \n",
      "3  2018-01-01 03:00:00     21.9          30.0   48.7    79.0   \n",
      "4  2018-01-01 04:00:00     20.0          33.0   39.8    79.0   \n",
      "\n",
      "   Avenida da Liberdade  Avintes  Burgães-Santo Tirso  \\\n",
      "0                  64.9      NaN                 22.0   \n",
      "1                  68.1      NaN                 43.0   \n",
      "2                  79.0      NaN                  NaN   \n",
      "3                  83.4      NaN                  NaN   \n",
      "4                  79.4     43.0                  NaN   \n",
      "\n",
      "   Cascais - Escola da Cidadela  Cerro  ...  Reboleira  Santa Cruz de Benfica  \\\n",
      "0                          61.9   23.7  ...       50.0                    NaN   \n",
      "1                          63.3   27.2  ...       70.2                    NaN   \n",
      "2                          59.4   32.4  ...       79.9                    NaN   \n",
      "3                          58.8   35.7  ...       75.5                    NaN   \n",
      "4                          46.1   35.5  ...       73.3                    NaN   \n",
      "\n",
      "   Santana  São Gonçalo  São João  Seara-Matosinhos  Sonega  Terena  \\\n",
      "0      5.5         31.1      35.8               NaN    21.0    27.0   \n",
      "1      5.5         31.1      35.9               NaN    20.0    27.0   \n",
      "2      5.7         40.6      55.0               NaN    20.0     4.0   \n",
      "3      7.2        208.5     341.0               NaN    21.0    14.0   \n",
      "4      7.2        208.5     341.0               NaN    20.0     2.0   \n",
      "\n",
      "   VNTelha-Maia  Alfragide/Amadora  \n",
      "0          49.0                NaN  \n",
      "1           NaN                NaN  \n",
      "2           NaN                NaN  \n",
      "3           NaN                NaN  \n",
      "4           NaN                NaN  \n",
      "\n",
      "[5 rows x 61 columns]\n"
     ]
    }
   ],
   "source": [
    "print(f\"Apa 2018 dimensões: {apa2018.shape}\")\n",
    "print(apa2018.head())"
   ]
  },
  {
   "cell_type": "code",
   "execution_count": 56,
   "id": "91b12e14",
   "metadata": {},
   "outputs": [
    {
     "name": "stdout",
     "output_type": "stream",
     "text": [
      "<class 'str'>\n",
      "<class 'pandas._libs.tslibs.timestamps.Timestamp'>\n"
     ]
    }
   ],
   "source": [
    "print(type(apa2017.iloc[0,0]))\n",
    "apa2017[\"PM10 (µg/m3)\\t\"] = pd.to_datetime(apa2017[\"PM10 (µg/m3)\t\"], format='%Y-%m-%d %H:%M:%S')\n",
    "print(type(apa2017.iloc[0,0]))\n",
    "apa2018[\"PM10 (µg/m3)\\t\"] = pd.to_datetime(apa2018[\"PM10 (µg/m3)\t\"], format='%Y-%m-%d %H:%M:%S')"
   ]
  },
  {
   "cell_type": "code",
   "execution_count": 57,
   "id": "5e17efdf",
   "metadata": {},
   "outputs": [
    {
     "name": "stdout",
     "output_type": "stream",
     "text": [
      "          PM10 (µg/m3)\\t  Alverca  Anta-Espinho  Arcos  Aveiro  \\\n",
      "6864 2017-10-14 00:00:00     47.2           0.0   50.8    34.0   \n",
      "6865 2017-10-14 01:00:00     42.2           5.0   48.4    37.0   \n",
      "6866 2017-10-14 02:00:00     43.3          40.0   48.2    33.0   \n",
      "6867 2017-10-14 03:00:00     45.5          38.0   46.3    29.0   \n",
      "6868 2017-10-14 04:00:00     46.6          24.0   46.1    28.0   \n",
      "...                  ...      ...           ...    ...     ...   \n",
      "6979 2017-10-18 19:00:00      8.9           2.0    8.9    23.0   \n",
      "6980 2017-10-18 20:00:00      8.3          19.0    8.6    25.0   \n",
      "6981 2017-10-18 21:00:00      6.7          22.0    5.9    26.0   \n",
      "6982 2017-10-18 22:00:00      6.9          42.0    5.6    25.0   \n",
      "6983 2017-10-18 23:00:00      7.8          38.0   12.0    24.0   \n",
      "\n",
      "      Avenida da Liberdade  Avintes  Burgães-Santo Tirso  \\\n",
      "6864                  82.1     46.0                  1.0   \n",
      "6865                  69.8     40.0                  0.0   \n",
      "6866                  68.2     30.0                  0.0   \n",
      "6867                  49.3     25.0                  0.0   \n",
      "6868                  46.9     13.0                  0.0   \n",
      "...                    ...      ...                  ...   \n",
      "6979                   8.7     15.0                  0.0   \n",
      "6980                   8.8     28.0                  0.0   \n",
      "6981                  14.8     20.0                  0.0   \n",
      "6982                  15.6      2.0                  0.0   \n",
      "6983                  15.8     12.0                  0.0   \n",
      "\n",
      "      Cascais - Escola da Cidadela  Cerro  ...  Reboleira  \\\n",
      "6864                          49.7   30.3  ...       65.5   \n",
      "6865                          47.7   29.3  ...       58.0   \n",
      "6866                          49.7   30.0  ...       54.4   \n",
      "6867                          51.1   30.6  ...       48.8   \n",
      "6868                          51.1   36.4  ...       46.6   \n",
      "...                            ...    ...  ...        ...   \n",
      "6979                           NaN    8.2  ...        3.1   \n",
      "6980                           NaN    NaN  ...        3.3   \n",
      "6981                           NaN    NaN  ...        3.3   \n",
      "6982                           NaN    NaN  ...        3.3   \n",
      "6983                           NaN    NaN  ...        4.7   \n",
      "\n",
      "      Santa Cruz de Benfica  Santana  Santiago do Cacém  São Gonçalo  \\\n",
      "6864                   81.6     42.9               10.0         39.6   \n",
      "6865                   72.4     44.3               27.0         46.1   \n",
      "6866                   59.2     45.7               32.0         46.1   \n",
      "6867                   55.0     45.7               36.0         46.1   \n",
      "6868                   57.8     47.0               23.0         55.0   \n",
      "...                     ...      ...                ...          ...   \n",
      "6979                   16.8     14.1               25.0         11.4   \n",
      "6980                   15.8     15.4               16.0         10.5   \n",
      "6981                   15.5     15.4               17.0         10.5   \n",
      "6982                   17.3     15.4               15.0          9.9   \n",
      "6983                   16.0     15.7               36.0          9.1   \n",
      "\n",
      "      São João  Seara-Matosinhos Sonega  Terena  VNTelha-Maia  \n",
      "6864      60.0              27.0   24.0    56.0          18.0  \n",
      "6865      63.5              27.0   22.0    37.0          26.0  \n",
      "6866      69.2              27.0   21.0    32.0          26.0  \n",
      "6867      69.2              31.0   19.0    33.0          32.0  \n",
      "6868      72.6              32.0   21.0    30.0          40.0  \n",
      "...        ...               ...    ...     ...           ...  \n",
      "6979      23.5              19.0    2.0    18.0           6.0  \n",
      "6980      26.3              22.0    3.0    32.0          11.0  \n",
      "6981      27.1              27.0    5.0    18.0          20.0  \n",
      "6982      27.1              28.0    6.0    12.0          20.0  \n",
      "6983      25.5              21.0    6.0    47.0          17.0  \n",
      "\n",
      "[120 rows x 61 columns]\n"
     ]
    }
   ],
   "source": [
    "#outubro de 2017 (14-18)\n",
    "mask = (apa2017[\"PM10 (µg/m3)\\t\"] >= pd.to_datetime('2017-10-14')) & (apa2017[\"PM10 (µg/m3)\\t\"] < pd.to_datetime('2017-10-19')) #devolve um dicionario de falso ou correto para a condição\n",
    "Napa2017 = apa2017.loc[mask]\n",
    "Napa2017 = Napa2017.copy() #só para não haver mutabilidade visto que o dataframe é uma fatia de outro\n",
    "print(Napa2017)\n",
    "Napa2017.to_excel(\"apa/apa2017_14_18outubro.xlsx\", index=False)"
   ]
  },
  {
   "cell_type": "code",
   "execution_count": 58,
   "id": "aaa39acc",
   "metadata": {},
   "outputs": [
    {
     "name": "stdout",
     "output_type": "stream",
     "text": [
      "          PM10 (µg/m3)\\t  Alverca  Anta-Espinho  Arcos  Aveiro  \\\n",
      "3984 2018-06-16 00:00:00     18.9          25.0   16.9    20.0   \n",
      "3985 2018-06-16 01:00:00     17.8           4.0   17.1    19.0   \n",
      "3986 2018-06-16 02:00:00     10.0           6.0   17.1    19.0   \n",
      "3987 2018-06-16 03:00:00     10.3          28.0   17.4    17.0   \n",
      "3988 2018-06-16 04:00:00     12.2          28.0   16.5    18.0   \n",
      "...                  ...      ...           ...    ...     ...   \n",
      "4147 2018-06-22 19:00:00      NaN           0.0   24.9    17.0   \n",
      "4148 2018-06-22 20:00:00      NaN           0.0   25.3    18.0   \n",
      "4149 2018-06-22 21:00:00      NaN           0.0   31.4    19.0   \n",
      "4150 2018-06-22 22:00:00      NaN           1.0   32.0    19.0   \n",
      "4151 2018-06-22 23:00:00      NaN          18.0   34.9    19.0   \n",
      "\n",
      "      Avenida da Liberdade  Avintes  Burgães-Santo Tirso  \\\n",
      "3984                  29.8     22.0                  0.0   \n",
      "3985                  26.0     25.0                  0.0   \n",
      "3986                  25.0      NaN                  0.0   \n",
      "3987                  25.6      NaN                  0.0   \n",
      "3988                  25.8      NaN                  0.0   \n",
      "...                    ...      ...                  ...   \n",
      "4147                  39.8     28.0                 23.0   \n",
      "4148                  40.9     46.0                 20.0   \n",
      "4149                  35.7     45.0                 20.0   \n",
      "4150                  34.4     42.0                 13.0   \n",
      "4151                  47.9     42.0                 15.0   \n",
      "\n",
      "      Cascais - Escola da Cidadela  Cerro  ...  Reboleira  \\\n",
      "3984                          26.6    NaN  ...       17.8   \n",
      "3985                          26.6    NaN  ...       18.3   \n",
      "3986                          18.9    NaN  ...       22.2   \n",
      "3987                          18.9   29.2  ...       21.7   \n",
      "3988                          24.4   27.9  ...       17.8   \n",
      "...                            ...    ...  ...        ...   \n",
      "4147                          23.3   11.3  ...       14.2   \n",
      "4148                          21.9   11.5  ...       11.1   \n",
      "4149                          20.0   11.5  ...       11.1   \n",
      "4150                          23.0   11.5  ...       12.2   \n",
      "4151                          27.8   19.1  ...       12.5   \n",
      "\n",
      "      Santa Cruz de Benfica  Santana  São Gonçalo  São João  Seara-Matosinhos  \\\n",
      "3984                    NaN     11.1          8.4      16.9              32.0   \n",
      "3985                    NaN     12.3          8.8      16.1              32.0   \n",
      "3986                    NaN     12.3          8.8      15.9              33.0   \n",
      "3987                    NaN     15.9          7.4      15.9              31.0   \n",
      "3988                    NaN     17.5          6.8      12.9              19.0   \n",
      "...                     ...      ...          ...       ...               ...   \n",
      "4147                    NaN      9.6          7.9      16.9              22.0   \n",
      "4148                    NaN      9.6          7.8      17.6              22.0   \n",
      "4149                    NaN      9.6          7.8      17.6              21.0   \n",
      "4150                    NaN      8.3          5.8      17.6              24.0   \n",
      "4151                    NaN      8.3          5.8      14.5              30.0   \n",
      "\n",
      "      Sonega  Terena  VNTelha-Maia  Alfragide/Amadora  \n",
      "3984    10.0    14.0          18.0               12.3  \n",
      "3985     8.0    13.0          21.0                NaN  \n",
      "3986     9.0    13.0          21.0                NaN  \n",
      "3987     8.0    12.0          10.0                NaN  \n",
      "3988     9.0     7.0           0.0                NaN  \n",
      "...      ...     ...           ...                ...  \n",
      "4147    21.0    17.0           NaN                NaN  \n",
      "4148    22.0    17.0           NaN                NaN  \n",
      "4149    23.0    16.0           NaN                NaN  \n",
      "4150    23.0    13.0          16.0                NaN  \n",
      "4151    24.0    13.0          16.0                NaN  \n",
      "\n",
      "[168 rows x 61 columns]\n"
     ]
    }
   ],
   "source": [
    "#junho de 2018 (16-22)\n",
    "mask = (apa2018[\"PM10 (µg/m3)\\t\"] >= pd.to_datetime('2018-06-16')) & (apa2018[\"PM10 (µg/m3)\\t\"] < pd.to_datetime('2018-06-23'))\n",
    "Napa2018 = apa2018.loc[mask]\n",
    "Napa2018 = Napa2018.copy() #só para não haver mutabilidade visto que o dataframe é uma fatia de outro\n",
    "print(Napa2018)\n",
    "Napa2018.to_excel(\"apa/apa2018_16_23novembro.xlsx\", index=False)"
   ]
  },
  {
   "cell_type": "code",
   "execution_count": 59,
   "id": "e435e178",
   "metadata": {},
   "outputs": [],
   "source": [
    "#a média do dia só é calculada se houver pelo menos 19 valores válidos (≈80%) c.c. = NaN\n",
    "\n",
    "Napa2017[\"Data\"] = Napa2017[\"PM10 (µg/m3)\\t\"].dt.date\n",
    "Napa2017.to_excel(\"apa/teste2017.xlsx\", index=False)"
   ]
  },
  {
   "cell_type": "code",
   "execution_count": 60,
   "id": "f7b9bd47",
   "metadata": {},
   "outputs": [
    {
     "name": "stdout",
     "output_type": "stream",
     "text": [
      "              Alverca  Anta-Espinho      Arcos     Aveiro  \\\n",
      "Data                                                        \n",
      "2017-10-14  54.300000     42.208333  54.062500  44.791667   \n",
      "2017-10-15  59.066667     63.333333  49.929167  73.458333   \n",
      "2017-10-16  64.258333     54.500000  64.600000  93.000000   \n",
      "2017-10-17  28.808333     17.541667  31.158333  45.000000   \n",
      "2017-10-18  11.125000      9.458333  10.304167  16.083333   \n",
      "\n",
      "            Avenida da Liberdade    Avintes  Burgães-Santo Tirso  \\\n",
      "Data                                                               \n",
      "2017-10-14             61.962500  31.500000             4.222222   \n",
      "2017-10-15             57.408333  32.000000             1.545455   \n",
      "2017-10-16             67.820833        NaN            30.600000   \n",
      "2017-10-17             23.591667  22.571429            23.812500   \n",
      "2017-10-18             13.220833   9.454545             6.565217   \n",
      "\n",
      "            Cascais - Escola da Cidadela      Cerro   Chamusca  ...  \\\n",
      "Data                                                            ...   \n",
      "2017-10-14                     53.904167  32.041667  36.033333  ...   \n",
      "2017-10-15                     57.825000  30.841667  47.195833  ...   \n",
      "2017-10-16                           NaN  49.977778  82.329167  ...   \n",
      "2017-10-17                           NaN  19.094737  65.591667  ...   \n",
      "2017-10-18                           NaN  14.810000   8.529167  ...   \n",
      "\n",
      "            Reboleira  Santa Cruz de Benfica    Santana  Santiago do Cacém  \\\n",
      "Data                                                                         \n",
      "2017-10-14  48.654167              71.808333  51.045833          36.916667   \n",
      "2017-10-15  50.816667              61.808696  52.725000          39.250000   \n",
      "2017-10-16  49.337500              78.937500   9.433333          82.695652   \n",
      "2017-10-17  13.837500                    NaN  11.787500          46.125000   \n",
      "2017-10-18   3.733333              21.021429  17.429167          30.941176   \n",
      "\n",
      "            São Gonçalo   São João  Seara-Matosinhos     Sonega     Terena  \\\n",
      "Data                                                                         \n",
      "2017-10-14    56.933333  79.258333         40.500000  33.083333  55.083333   \n",
      "2017-10-15    54.883333  59.991667         56.500000  31.250000  58.375000   \n",
      "2017-10-16     9.970833  15.283333         55.666667  34.916667  59.208333   \n",
      "2017-10-17     8.908333  19.254167         23.791667  11.791667  99.666667   \n",
      "2017-10-18    15.658333  24.783333          9.625000   5.666667  21.666667   \n",
      "\n",
      "            VNTelha-Maia  \n",
      "Data                      \n",
      "2017-10-14     47.833333  \n",
      "2017-10-15     59.291667  \n",
      "2017-10-16     42.461538  \n",
      "2017-10-17     18.285714  \n",
      "2017-10-18     10.916667  \n",
      "\n",
      "[5 rows x 59 columns]\n"
     ]
    }
   ],
   "source": [
    "colunas_numericas = Napa2017.select_dtypes(include='number').columns #se usarmos .mean() no dataframe inteiro dá erro porque a primeira e ultima coluna sao datas e não floats\n",
    "media2017 = Napa2017.groupby(\"Data\")[colunas_numericas].mean()\n",
    "print(media2017)"
   ]
  },
  {
   "cell_type": "code",
   "execution_count": 61,
   "id": "7a4216e3",
   "metadata": {},
   "outputs": [
    {
     "name": "stdout",
     "output_type": "stream",
     "text": [
      "            PM10 (µg/m3)\\t  Alverca  Anta-Espinho  Arcos  Aveiro  \\\n",
      "Data                                                               \n",
      "2017-10-14              24       24            24     24      24   \n",
      "2017-10-15              24       24            24     24      24   \n",
      "2017-10-16              24       24            24     24      24   \n",
      "2017-10-17              24       24            24     24      24   \n",
      "2017-10-18              24       24            24     24      24   \n",
      "\n",
      "            Avenida da Liberdade  Avintes  Burgães-Santo Tirso  \\\n",
      "Data                                                             \n",
      "2017-10-14                    24       12                   18   \n",
      "2017-10-15                    24        5                   11   \n",
      "2017-10-16                    24        0                   10   \n",
      "2017-10-17                    24       14                   16   \n",
      "2017-10-18                    24       22                   23   \n",
      "\n",
      "            Cascais - Escola da Cidadela  Cerro  ...  Reboleira  \\\n",
      "Data                                             ...              \n",
      "2017-10-14                            24     24  ...         24   \n",
      "2017-10-15                            16     24  ...         24   \n",
      "2017-10-16                             0     18  ...         24   \n",
      "2017-10-17                             0     19  ...         24   \n",
      "2017-10-18                             0     20  ...         24   \n",
      "\n",
      "            Santa Cruz de Benfica  Santana  Santiago do Cacém  São Gonçalo  \\\n",
      "Data                                                                         \n",
      "2017-10-14                     24       24                 24           24   \n",
      "2017-10-15                     23       24                 24           24   \n",
      "2017-10-16                      8       24                 23           24   \n",
      "2017-10-17                      0       24                 16           24   \n",
      "2017-10-18                     14       24                 17           24   \n",
      "\n",
      "            São João  Seara-Matosinhos  Sonega  Terena  VNTelha-Maia  \n",
      "Data                                                                  \n",
      "2017-10-14        24                24      24      24            24  \n",
      "2017-10-15        24                24      24      24            24  \n",
      "2017-10-16        24                24      24      24            13  \n",
      "2017-10-17        24                24      24       3            21  \n",
      "2017-10-18        24                24      24      24            24  \n",
      "\n",
      "[5 rows x 61 columns]\n"
     ]
    }
   ],
   "source": [
    "obs_diarias = Napa2017.groupby(\"Data\").count()\n",
    "print(obs_diarias)\n",
    "mask = obs_diarias >= 19"
   ]
  },
  {
   "cell_type": "code",
   "execution_count": 62,
   "id": "9715ae9c",
   "metadata": {},
   "outputs": [
    {
     "name": "stdout",
     "output_type": "stream",
     "text": [
      "            PM10 (µg/m3)\\t  Alverca  Anta-Espinho  Arcos  Aveiro  \\\n",
      "Data                                                               \n",
      "2017-10-14            True     True          True   True    True   \n",
      "2017-10-15            True     True          True   True    True   \n",
      "2017-10-16            True     True          True   True    True   \n",
      "2017-10-17            True     True          True   True    True   \n",
      "2017-10-18            True     True          True   True    True   \n",
      "\n",
      "            Avenida da Liberdade  Avintes  Burgães-Santo Tirso  \\\n",
      "Data                                                             \n",
      "2017-10-14                  True    False                False   \n",
      "2017-10-15                  True    False                False   \n",
      "2017-10-16                  True    False                False   \n",
      "2017-10-17                  True    False                False   \n",
      "2017-10-18                  True     True                 True   \n",
      "\n",
      "            Cascais - Escola da Cidadela  Cerro  ...  Reboleira  \\\n",
      "Data                                             ...              \n",
      "2017-10-14                          True   True  ...       True   \n",
      "2017-10-15                         False   True  ...       True   \n",
      "2017-10-16                         False  False  ...       True   \n",
      "2017-10-17                         False   True  ...       True   \n",
      "2017-10-18                         False   True  ...       True   \n",
      "\n",
      "            Santa Cruz de Benfica  Santana  Santiago do Cacém  São Gonçalo  \\\n",
      "Data                                                                         \n",
      "2017-10-14                   True     True               True         True   \n",
      "2017-10-15                   True     True               True         True   \n",
      "2017-10-16                  False     True               True         True   \n",
      "2017-10-17                  False     True              False         True   \n",
      "2017-10-18                  False     True              False         True   \n",
      "\n",
      "            São João  Seara-Matosinhos  Sonega  Terena  VNTelha-Maia  \n",
      "Data                                                                  \n",
      "2017-10-14      True              True    True    True          True  \n",
      "2017-10-15      True              True    True    True          True  \n",
      "2017-10-16      True              True    True    True         False  \n",
      "2017-10-17      True              True    True   False          True  \n",
      "2017-10-18      True              True    True    True          True  \n",
      "\n",
      "[5 rows x 61 columns]\n"
     ]
    }
   ],
   "source": [
    "print(mask)"
   ]
  },
  {
   "cell_type": "code",
   "execution_count": 63,
   "id": "ed56b946",
   "metadata": {},
   "outputs": [
    {
     "name": "stdout",
     "output_type": "stream",
     "text": [
      "              Alverca  Anta-Espinho      Arcos     Aveiro  \\\n",
      "Data                                                        \n",
      "2017-10-14  54.300000     42.208333  54.062500  44.791667   \n",
      "2017-10-15  59.066667     63.333333  49.929167  73.458333   \n",
      "2017-10-16  64.258333     54.500000  64.600000  93.000000   \n",
      "2017-10-17  28.808333     17.541667  31.158333  45.000000   \n",
      "2017-10-18  11.125000      9.458333  10.304167  16.083333   \n",
      "\n",
      "            Avenida da Liberdade   Avintes  Burgães-Santo Tirso  \\\n",
      "Data                                                              \n",
      "2017-10-14             61.962500       NaN                  NaN   \n",
      "2017-10-15             57.408333       NaN                  NaN   \n",
      "2017-10-16             67.820833       NaN                  NaN   \n",
      "2017-10-17             23.591667       NaN                  NaN   \n",
      "2017-10-18             13.220833  9.454545             6.565217   \n",
      "\n",
      "            Cascais - Escola da Cidadela      Cerro   Chamusca  ...  \\\n",
      "Data                                                            ...   \n",
      "2017-10-14                     53.904167  32.041667  36.033333  ...   \n",
      "2017-10-15                           NaN  30.841667  47.195833  ...   \n",
      "2017-10-16                           NaN        NaN  82.329167  ...   \n",
      "2017-10-17                           NaN  19.094737  65.591667  ...   \n",
      "2017-10-18                           NaN  14.810000   8.529167  ...   \n",
      "\n",
      "            Reboleira  Santa Cruz de Benfica    Santana  Santiago do Cacém  \\\n",
      "Data                                                                         \n",
      "2017-10-14  48.654167              71.808333  51.045833          36.916667   \n",
      "2017-10-15  50.816667              61.808696  52.725000          39.250000   \n",
      "2017-10-16  49.337500                    NaN   9.433333          82.695652   \n",
      "2017-10-17  13.837500                    NaN  11.787500                NaN   \n",
      "2017-10-18   3.733333                    NaN  17.429167                NaN   \n",
      "\n",
      "            São Gonçalo   São João  Seara-Matosinhos     Sonega     Terena  \\\n",
      "Data                                                                         \n",
      "2017-10-14    56.933333  79.258333         40.500000  33.083333  55.083333   \n",
      "2017-10-15    54.883333  59.991667         56.500000  31.250000  58.375000   \n",
      "2017-10-16     9.970833  15.283333         55.666667  34.916667  59.208333   \n",
      "2017-10-17     8.908333  19.254167         23.791667  11.791667        NaN   \n",
      "2017-10-18    15.658333  24.783333          9.625000   5.666667  21.666667   \n",
      "\n",
      "            VNTelha-Maia  \n",
      "Data                      \n",
      "2017-10-14     47.833333  \n",
      "2017-10-15     59.291667  \n",
      "2017-10-16           NaN  \n",
      "2017-10-17     18.285714  \n",
      "2017-10-18     10.916667  \n",
      "\n",
      "[5 rows x 59 columns]\n"
     ]
    }
   ],
   "source": [
    "Fmedia2017 = media2017[mask]\n",
    "print(Fmedia2017)"
   ]
  },
  {
   "cell_type": "code",
   "execution_count": 64,
   "id": "f9f4c31d",
   "metadata": {},
   "outputs": [],
   "source": [
    "#Repetir para 2018\n",
    "\n",
    "Napa2018[\"Data\"] = Napa2018[\"PM10 (µg/m3)\\t\"].dt.date\n",
    "Napa2018.to_excel(\"apa/teste2018.xlsx\", index=False)\n",
    "colunas_numericas = Napa2018.select_dtypes(include='number').columns #se usarmos .mean() no dataframe inteiro dá erro porque a primeira e ultima coluna sao datas e não floats\n",
    "media2018 = Napa2018.groupby(\"Data\")[colunas_numericas].mean()\n",
    "obs_diarias = Napa2018.groupby(\"Data\").count()\n",
    "mask = obs_diarias >= 19\n",
    "Fmedia2018 = media2018[mask]"
   ]
  },
  {
   "cell_type": "code",
   "execution_count": 65,
   "id": "eb75e69f",
   "metadata": {},
   "outputs": [
    {
     "name": "stdout",
     "output_type": "stream",
     "text": [
      "['codigo_est', 'nome_estac', 'data_inici', 'data_fim', 'latitude', 'longitude', 'rede_codig', 'rede_nome', 'rede_aqd_o', 'geometry']\n",
      "Dimensão da info geofŕafica das estações: (65, 10)\n",
      "\n",
      "    codigo_est                      nome_estac  data_inici    data_fim  \\\n",
      "0  STA-PT01053                         Avintes  12/07/2010  0000/00/00   \n",
      "1  STA-PT01021             Custóias-Matosinhos  01/09/1998  0000/00/00   \n",
      "2  STA-PT01023               Ermesinde-Valongo  01/10/1998  0000/00/00   \n",
      "3  STA-PT01024             D.Manuel II-Vermoim  01/11/1999  0000/00/00   \n",
      "4  STA-PT01028  Francisco Sá Carneiro-Campanha  19/09/2000  0000/00/00   \n",
      "\n",
      "    latitude  longitude   rede_codig                         rede_nome  \\\n",
      "0  41.098187  -8.554351  NET-PT00015  Rede de Qualidade do Ar do Norte   \n",
      "1  41.199805  -8.644844  NET-PT00015  Rede de Qualidade do Ar do Norte   \n",
      "2  41.206605  -8.552600  NET-PT00015  Rede de Qualidade do Ar do Norte   \n",
      "3  41.235563  -8.618715  NET-PT00015  Rede de Qualidade do Ar do Norte   \n",
      "4  41.162791  -8.590847  NET-PT00015  Rede de Qualidade do Ar do Norte   \n",
      "\n",
      "  rede_aqd_o                   geometry  \n",
      "0   regional  POINT (-8.55435 41.09819)  \n",
      "1   regional  POINT (-8.64484 41.19981)  \n",
      "2   regional   POINT (-8.5526 41.20661)  \n",
      "3   regional  POINT (-8.61872 41.23556)  \n",
      "4   regional  POINT (-8.59085 41.16279)  \n"
     ]
    }
   ],
   "source": [
    "gdf = gpd.read_file(\"estacoes/qualar_estacao_inspire_vw.shp\")\n",
    "print(gdf.columns.tolist())\n",
    "print(f\"Dimensão da info geofŕafica das estações: {gdf.shape}\\n\")\n",
    "print(gdf.head())"
   ]
  },
  {
   "cell_type": "code",
   "execution_count": 66,
   "id": "8b139a18",
   "metadata": {},
   "outputs": [
    {
     "name": "stdout",
     "output_type": "stream",
     "text": [
      "<xarray.Dataset> Size: 4MB\n",
      "Dimensions:    (lon: 40, lat: 66, time: 365, bnds: 2)\n",
      "Coordinates:\n",
      "  * lon        (lon) float64 320B -10.0 -9.9 -9.8 -9.7 ... -6.4 -6.3 -6.2 -6.1\n",
      "  * lat        (lat) float64 528B 36.5 36.6 36.7 36.8 ... 42.7 42.8 42.9 43.0\n",
      "  * time       (time) datetime64[ns] 3kB 2017-01-01T11:30:00 ... 2017-12-31T1...\n",
      "Dimensions without coordinates: bnds\n",
      "Data variables:\n",
      "    time_bnds  (time, bnds) datetime64[ns] 6kB ...\n",
      "    pm10       (time, lat, lon) float32 4MB ...\n",
      "Attributes:\n",
      "    CDI:          Climate Data Interface version ?? (http://mpimet.mpg.de/cdi)\n",
      "    Conventions:  CF-1.7\n",
      "    history:      Fri Apr 11 12:39:22 2025: cdo daymean PM10_2017.nc PM10_day...\n",
      "    Title:        CAMS European air quality interim reanalysis\n",
      "    Provider:     COPERNICUS European air quality service\n",
      "    Production:   COPERNICUS Atmosphere Monitoring Service\n",
      "    CDO:          Climate Data Operators version 1.7.0 (http://mpimet.mpg.de/...\n"
     ]
    }
   ],
   "source": [
    "cams2017 = xr.open_dataset(\"cams/PM10_daymean_2017.nc\")\n",
    "print(cams2017)"
   ]
  },
  {
   "cell_type": "code",
   "execution_count": 67,
   "id": "2e59f001",
   "metadata": {},
   "outputs": [
    {
     "name": "stdout",
     "output_type": "stream",
     "text": [
      "Data variables:\n",
      "    time_bnds  (time, bnds) datetime64[ns] 6kB ...\n",
      "    pm10       (time, lat, lon) float32 4MB ...\n",
      "---------------------------------------\n",
      "\n",
      "Coordinates:\n",
      "  * lon      (lon) float64 320B -10.0 -9.9 -9.8 -9.7 ... -6.4 -6.3 -6.2 -6.1\n",
      "  * lat      (lat) float64 528B 36.5 36.6 36.7 36.8 36.9 ... 42.7 42.8 42.9 43.0\n",
      "  * time     (time) datetime64[ns] 3kB 2017-01-01T11:30:00 ... 2017-12-31T11:...\n",
      "---------------------------------------\n",
      "\n",
      "<xarray.DataArray 'pm10' (time: 365, lat: 66, lon: 40)> Size: 4MB\n",
      "[963600 values with dtype=float32]\n",
      "Coordinates:\n",
      "  * lon      (lon) float64 320B -10.0 -9.9 -9.8 -9.7 ... -6.4 -6.3 -6.2 -6.1\n",
      "  * lat      (lat) float64 528B 36.5 36.6 36.7 36.8 36.9 ... 42.7 42.8 42.9 43.0\n",
      "  * time     (time) datetime64[ns] 3kB 2017-01-01T11:30:00 ... 2017-12-31T11:...\n",
      "Attributes:\n",
      "    standard_name:  mass_concentration_of_pm10_ambient_aerosol_in_air\n",
      "    long_name:      mass concentration of particulate matter with d < 10 µm\n",
      "    units:          µg/m3\n",
      "---------------------------------------\n"
     ]
    }
   ],
   "source": [
    "print(cams2017.data_vars)\n",
    "print(\"---------------------------------------\\n\")\n",
    "print(cams2017.coords)\n",
    "print(\"---------------------------------------\\n\")\n",
    "print(cams2017[\"pm10\"])\n",
    "print(\"---------------------------------------\")"
   ]
  },
  {
   "cell_type": "markdown",
   "id": "fb1bf2b1",
   "metadata": {},
   "source": [
    "![1 de janeiro de 2017](imagens/1_janeiro_2017.png)\n",
    "![15 de outubro de 2017](imagens/15_outubro_2017.png)\n",
    "![19 de junho de 2018](imagens/19_junho_2018.png)"
   ]
  },
  {
   "cell_type": "code",
   "execution_count": 68,
   "id": "59ab5889",
   "metadata": {},
   "outputs": [
    {
     "name": "stdout",
     "output_type": "stream",
     "text": [
      "['time', 'lat', 'lon', 'pm10']\n",
      "Dimensão dos dados das camaras: (963600, 4)\n",
      "\n",
      "                 time   lat   lon       pm10\n",
      "0 2017-01-01 11:30:00  36.5 -10.0  18.154917\n",
      "1 2017-01-01 11:30:00  36.5  -9.9  17.517908\n",
      "2 2017-01-01 11:30:00  36.5  -9.8  16.446743\n",
      "3 2017-01-01 11:30:00  36.5  -9.7  16.456955\n",
      "4 2017-01-01 11:30:00  36.5  -9.6  16.954844\n"
     ]
    }
   ],
   "source": [
    "pm10 = cams2017[\"pm10\"]\n",
    "cams2017df = pm10.to_dataframe().reset_index()\n",
    "print(cams2017df.columns.tolist())\n",
    "print(f\"Dimensão dos dados das camaras: {cams2017df.shape}\\n\")\n",
    "print(cams2017df.head())\n",
    "excerto2017 = cams2017df.iloc[:len(cams2017df)//10] #para ver o que se passava é mais fácil ver somente um décimo do dataset visto que é enorme\n",
    "excerto2017.to_excel(\"cams/pm10cams2017.xlsx\", index=False)\n"
   ]
  },
  {
   "cell_type": "markdown",
   "id": "d6974fc3",
   "metadata": {},
   "source": [
    "1) Atribuir coordenadas às localidades no dataframe com os valores médios limpos\n",
    "2) É preciso projeção de coordenadas ou os dados das cams e apa estão ampas no mesmo tipo???? \n",
    "    caso não: arredondar visto que nas netCDFs a latitude e longitude estão arredondadas ---> pode levar a problemas depois na comparação\n",
    "3) Juntar dados num unico dataset (2 no nosso caso, 1 para cada): \n",
    "    ordem cronologica\n",
    "    pm10 apa e pm10 cams\n",
    "    localidade com as respetivas coordenadas"
   ]
  }
 ],
 "metadata": {
  "kernelspec": {
   "display_name": ".venv",
   "language": "python",
   "name": "python3"
  },
  "language_info": {
   "codemirror_mode": {
    "name": "ipython",
    "version": 3
   },
   "file_extension": ".py",
   "mimetype": "text/x-python",
   "name": "python",
   "nbconvert_exporter": "python",
   "pygments_lexer": "ipython3",
   "version": "3.13.3"
  }
 },
 "nbformat": 4,
 "nbformat_minor": 5
}
