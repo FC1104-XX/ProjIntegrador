{
 "cells": [
  {
   "cell_type": "code",
   "execution_count": 1,
   "id": "4ba48aae",
   "metadata": {},
   "outputs": [],
   "source": [
    "import pandas as pd\n",
    "import geopandas as gpd\n",
    "import xarray as xr\n",
    "import os\n",
    "from pyproj import Transformer\n",
    "from scipy.spatial import cKDTree\n",
    "import numpy as np\n",
    "from scipy.spatial.distance import cdist\n",
    "from scipy.optimize import linear_sum_assignment"
   ]
  },
  {
   "cell_type": "code",
   "execution_count": 2,
   "id": "879b1d0b",
   "metadata": {},
   "outputs": [
    {
     "name": "stdout",
     "output_type": "stream",
     "text": [
      "/home/franc/Desktop/ProjIntegrador\n"
     ]
    }
   ],
   "source": [
    "print(os.getcwd())"
   ]
  },
  {
   "cell_type": "code",
   "execution_count": 3,
   "id": "4aea2be5",
   "metadata": {},
   "outputs": [],
   "source": [
    "apa2017 = pd.read_excel('apa/PM10_2017-01-01_2017-12-31.xlsx', header=0)\n",
    "apa2018 = pd.read_excel('apa/PM10_2018-01-01_2018-12-31.xlsx', header=0)"
   ]
  },
  {
   "cell_type": "code",
   "execution_count": 4,
   "id": "95053e85",
   "metadata": {},
   "outputs": [
    {
     "name": "stdout",
     "output_type": "stream",
     "text": [
      "Apa 2017 dimensões: (8760, 61)\n",
      "        PM10 (µg/m3)\\t  Alverca  Anta-Espinho  Arcos  Aveiro  \\\n",
      "0  2017-01-01 00:00:00     45.5           NaN   48.8    86.0   \n",
      "1  2017-01-01 01:00:00     32.2           NaN   48.0    80.0   \n",
      "2  2017-01-01 02:00:00     31.4           NaN   46.8    75.0   \n",
      "3  2017-01-01 03:00:00     26.6           NaN   43.3    73.0   \n",
      "4  2017-01-01 04:00:00     26.1           NaN   37.3    71.0   \n",
      "\n",
      "   Avenida da Liberdade  Avintes  Burgães-Santo Tirso  \\\n",
      "0                  69.2      NaN                  NaN   \n",
      "1                  69.7      NaN                  NaN   \n",
      "2                  55.4      NaN                  NaN   \n",
      "3                  53.0      NaN                  NaN   \n",
      "4                  42.7      NaN                  NaN   \n",
      "\n",
      "   Cascais - Escola da Cidadela  Cerro  ...  Reboleira  Santa Cruz de Benfica  \\\n",
      "0                          55.0   23.1  ...       75.5                   70.9   \n",
      "1                          52.2   20.5  ...       66.9                   48.7   \n",
      "2                          43.6   20.1  ...       64.4                   45.0   \n",
      "3                          41.1   23.3  ...       51.3                   37.3   \n",
      "4                          32.5   23.8  ...       47.7                   31.9   \n",
      "\n",
      "   Santana  Santiago do Cacém  São Gonçalo  São João  Seara-Matosinhos Sonega  \\\n",
      "0     39.2               24.0         41.0      72.1               NaN   15.0   \n",
      "1     42.4               25.0         45.4      72.6               NaN   13.0   \n",
      "2     48.0               22.0         45.4      72.6               NaN   12.0   \n",
      "3     48.0               26.0         46.3      77.7               NaN   11.0   \n",
      "4     50.0               16.0         52.5      78.4               NaN   10.0   \n",
      "\n",
      "   Terena  VNTelha-Maia  \n",
      "0    33.0           NaN  \n",
      "1    23.0           NaN  \n",
      "2    22.0           NaN  \n",
      "3    19.0           NaN  \n",
      "4    17.0           NaN  \n",
      "\n",
      "[5 rows x 61 columns]\n"
     ]
    }
   ],
   "source": [
    "print(f\"Apa 2017 dimensões: {apa2017.shape}\")\n",
    "print(apa2017.head())"
   ]
  },
  {
   "cell_type": "code",
   "execution_count": 5,
   "id": "7040814d",
   "metadata": {},
   "outputs": [
    {
     "name": "stdout",
     "output_type": "stream",
     "text": [
      "Apa 2018 dimensões: (8760, 61)\n",
      "        PM10 (µg/m3)\\t  Alverca  Anta-Espinho  Arcos  Aveiro  \\\n",
      "0  2018-01-01 00:00:00     54.4           NaN   55.5    85.0   \n",
      "1  2018-01-01 01:00:00     41.6           NaN   54.8    96.0   \n",
      "2  2018-01-01 02:00:00     40.0          35.0   53.6    96.0   \n",
      "3  2018-01-01 03:00:00     21.9          30.0   48.7    79.0   \n",
      "4  2018-01-01 04:00:00     20.0          33.0   39.8    79.0   \n",
      "\n",
      "   Avenida da Liberdade  Avintes  Burgães-Santo Tirso  \\\n",
      "0                  64.9      NaN                 22.0   \n",
      "1                  68.1      NaN                 43.0   \n",
      "2                  79.0      NaN                  NaN   \n",
      "3                  83.4      NaN                  NaN   \n",
      "4                  79.4     43.0                  NaN   \n",
      "\n",
      "   Cascais - Escola da Cidadela  Cerro  ...  Reboleira  Santa Cruz de Benfica  \\\n",
      "0                          61.9   23.7  ...       50.0                    NaN   \n",
      "1                          63.3   27.2  ...       70.2                    NaN   \n",
      "2                          59.4   32.4  ...       79.9                    NaN   \n",
      "3                          58.8   35.7  ...       75.5                    NaN   \n",
      "4                          46.1   35.5  ...       73.3                    NaN   \n",
      "\n",
      "   Santana  São Gonçalo  São João  Seara-Matosinhos  Sonega  Terena  \\\n",
      "0      5.5         31.1      35.8               NaN    21.0    27.0   \n",
      "1      5.5         31.1      35.9               NaN    20.0    27.0   \n",
      "2      5.7         40.6      55.0               NaN    20.0     4.0   \n",
      "3      7.2        208.5     341.0               NaN    21.0    14.0   \n",
      "4      7.2        208.5     341.0               NaN    20.0     2.0   \n",
      "\n",
      "   VNTelha-Maia  Alfragide/Amadora  \n",
      "0          49.0                NaN  \n",
      "1           NaN                NaN  \n",
      "2           NaN                NaN  \n",
      "3           NaN                NaN  \n",
      "4           NaN                NaN  \n",
      "\n",
      "[5 rows x 61 columns]\n"
     ]
    }
   ],
   "source": [
    "print(f\"Apa 2018 dimensões: {apa2018.shape}\")\n",
    "print(apa2018.head())"
   ]
  },
  {
   "cell_type": "code",
   "execution_count": 6,
   "id": "91b12e14",
   "metadata": {},
   "outputs": [
    {
     "name": "stdout",
     "output_type": "stream",
     "text": [
      "<class 'str'>\n",
      "<class 'pandas._libs.tslibs.timestamps.Timestamp'>\n"
     ]
    }
   ],
   "source": [
    "print(type(apa2017.iloc[0,0]))\n",
    "apa2017[\"PM10 (µg/m3)\\t\"] = pd.to_datetime(apa2017[\"PM10 (µg/m3)\t\"], format='%Y-%m-%d %H:%M:%S')\n",
    "print(type(apa2017.iloc[0,0]))\n",
    "apa2018[\"PM10 (µg/m3)\\t\"] = pd.to_datetime(apa2018[\"PM10 (µg/m3)\t\"], format='%Y-%m-%d %H:%M:%S')"
   ]
  },
  {
   "cell_type": "code",
   "execution_count": 7,
   "id": "a2a8caa9",
   "metadata": {},
   "outputs": [
    {
     "name": "stdout",
     "output_type": "stream",
     "text": [
      "2017 numeric columns: 59\n",
      "2018 numeric columns: 60\n",
      "2017 localidades: 60\n",
      "2018 localidades: 60\n",
      "Non-numeric 2017 columns: Index(['Ervedeira', 'PM10 (µg/m3)\\t'], dtype='object')\n",
      "object\n"
     ]
    }
   ],
   "source": [
    "\"\"\"IMPORTANTE: EM 2017 A COLUNA DE ERVEDEIRA ESTÁ FORMATADA COMO \"object\" E NÃO \"float64\" POR ALGUMA RAZÃO\"\"\"\n",
    "\n",
    "print(\"2017 numeric columns:\", len(apa2017.select_dtypes(include='number').columns.tolist()))\n",
    "print(\"2018 numeric columns:\", len(apa2018.select_dtypes(include='number').columns.tolist()))\n",
    "print(\"2017 localidades:\", apa2017.shape[1]-1)\n",
    "print(\"2018 localidades:\", apa2018.shape[1]-1)\n",
    "non_numeric_2017 = apa2017.columns.difference(apa2017.select_dtypes(include='number').columns)\n",
    "print(\"Non-numeric 2017 columns:\", non_numeric_2017)\n",
    "print(apa2017[\"Ervedeira\"].dtype)"
   ]
  },
  {
   "cell_type": "code",
   "execution_count": 8,
   "id": "3565de7f",
   "metadata": {},
   "outputs": [
    {
     "name": "stdout",
     "output_type": "stream",
     "text": [
      "float64\n"
     ]
    }
   ],
   "source": [
    "apa2017[\"Ervedeira\"] = pd.to_numeric(apa2017[\"Ervedeira\"].astype(str).str.strip(), errors='coerce')\n",
    "print(apa2017[\"Ervedeira\"].dtype)  # Should output: float64\n"
   ]
  },
  {
   "cell_type": "code",
   "execution_count": 9,
   "id": "5e17efdf",
   "metadata": {},
   "outputs": [
    {
     "name": "stdout",
     "output_type": "stream",
     "text": [
      "          PM10 (µg/m3)\\t  Alverca  Anta-Espinho  Arcos  Aveiro  \\\n",
      "6864 2017-10-14 00:00:00     47.2           0.0   50.8    34.0   \n",
      "6865 2017-10-14 01:00:00     42.2           5.0   48.4    37.0   \n",
      "6866 2017-10-14 02:00:00     43.3          40.0   48.2    33.0   \n",
      "6867 2017-10-14 03:00:00     45.5          38.0   46.3    29.0   \n",
      "6868 2017-10-14 04:00:00     46.6          24.0   46.1    28.0   \n",
      "...                  ...      ...           ...    ...     ...   \n",
      "6979 2017-10-18 19:00:00      8.9           2.0    8.9    23.0   \n",
      "6980 2017-10-18 20:00:00      8.3          19.0    8.6    25.0   \n",
      "6981 2017-10-18 21:00:00      6.7          22.0    5.9    26.0   \n",
      "6982 2017-10-18 22:00:00      6.9          42.0    5.6    25.0   \n",
      "6983 2017-10-18 23:00:00      7.8          38.0   12.0    24.0   \n",
      "\n",
      "      Avenida da Liberdade  Avintes  Burgães-Santo Tirso  \\\n",
      "6864                  82.1     46.0                  1.0   \n",
      "6865                  69.8     40.0                  0.0   \n",
      "6866                  68.2     30.0                  0.0   \n",
      "6867                  49.3     25.0                  0.0   \n",
      "6868                  46.9     13.0                  0.0   \n",
      "...                    ...      ...                  ...   \n",
      "6979                   8.7     15.0                  0.0   \n",
      "6980                   8.8     28.0                  0.0   \n",
      "6981                  14.8     20.0                  0.0   \n",
      "6982                  15.6      2.0                  0.0   \n",
      "6983                  15.8     12.0                  0.0   \n",
      "\n",
      "      Cascais - Escola da Cidadela  Cerro  ...  Reboleira  \\\n",
      "6864                          49.7   30.3  ...       65.5   \n",
      "6865                          47.7   29.3  ...       58.0   \n",
      "6866                          49.7   30.0  ...       54.4   \n",
      "6867                          51.1   30.6  ...       48.8   \n",
      "6868                          51.1   36.4  ...       46.6   \n",
      "...                            ...    ...  ...        ...   \n",
      "6979                           NaN    8.2  ...        3.1   \n",
      "6980                           NaN    NaN  ...        3.3   \n",
      "6981                           NaN    NaN  ...        3.3   \n",
      "6982                           NaN    NaN  ...        3.3   \n",
      "6983                           NaN    NaN  ...        4.7   \n",
      "\n",
      "      Santa Cruz de Benfica  Santana  Santiago do Cacém  São Gonçalo  \\\n",
      "6864                   81.6     42.9               10.0         39.6   \n",
      "6865                   72.4     44.3               27.0         46.1   \n",
      "6866                   59.2     45.7               32.0         46.1   \n",
      "6867                   55.0     45.7               36.0         46.1   \n",
      "6868                   57.8     47.0               23.0         55.0   \n",
      "...                     ...      ...                ...          ...   \n",
      "6979                   16.8     14.1               25.0         11.4   \n",
      "6980                   15.8     15.4               16.0         10.5   \n",
      "6981                   15.5     15.4               17.0         10.5   \n",
      "6982                   17.3     15.4               15.0          9.9   \n",
      "6983                   16.0     15.7               36.0          9.1   \n",
      "\n",
      "      São João  Seara-Matosinhos  Sonega  Terena  VNTelha-Maia  \n",
      "6864      60.0              27.0    24.0    56.0          18.0  \n",
      "6865      63.5              27.0    22.0    37.0          26.0  \n",
      "6866      69.2              27.0    21.0    32.0          26.0  \n",
      "6867      69.2              31.0    19.0    33.0          32.0  \n",
      "6868      72.6              32.0    21.0    30.0          40.0  \n",
      "...        ...               ...     ...     ...           ...  \n",
      "6979      23.5              19.0     2.0    18.0           6.0  \n",
      "6980      26.3              22.0     3.0    32.0          11.0  \n",
      "6981      27.1              27.0     5.0    18.0          20.0  \n",
      "6982      27.1              28.0     6.0    12.0          20.0  \n",
      "6983      25.5              21.0     6.0    47.0          17.0  \n",
      "\n",
      "[120 rows x 61 columns]\n"
     ]
    }
   ],
   "source": [
    "#outubro de 2017 (14-18)\n",
    "mask = (apa2017[\"PM10 (µg/m3)\\t\"] >= pd.to_datetime('2017-10-14')) & (apa2017[\"PM10 (µg/m3)\\t\"] < pd.to_datetime('2017-10-19')) #devolve um dicionario de falso ou correto para a condição\n",
    "Napa2017 = apa2017.loc[mask]\n",
    "Napa2017 = Napa2017.copy() #só para não haver mutabilidade visto que o dataframe é uma fatia de outro\n",
    "print(Napa2017)\n",
    "Napa2017.to_excel(\"apa/apa2017_14_18outubro.xlsx\", index=False)"
   ]
  },
  {
   "cell_type": "code",
   "execution_count": 10,
   "id": "aaa39acc",
   "metadata": {},
   "outputs": [
    {
     "name": "stdout",
     "output_type": "stream",
     "text": [
      "          PM10 (µg/m3)\\t  Alverca  Anta-Espinho  Arcos  Aveiro  \\\n",
      "3984 2018-06-16 00:00:00     18.9          25.0   16.9    20.0   \n",
      "3985 2018-06-16 01:00:00     17.8           4.0   17.1    19.0   \n",
      "3986 2018-06-16 02:00:00     10.0           6.0   17.1    19.0   \n",
      "3987 2018-06-16 03:00:00     10.3          28.0   17.4    17.0   \n",
      "3988 2018-06-16 04:00:00     12.2          28.0   16.5    18.0   \n",
      "...                  ...      ...           ...    ...     ...   \n",
      "4147 2018-06-22 19:00:00      NaN           0.0   24.9    17.0   \n",
      "4148 2018-06-22 20:00:00      NaN           0.0   25.3    18.0   \n",
      "4149 2018-06-22 21:00:00      NaN           0.0   31.4    19.0   \n",
      "4150 2018-06-22 22:00:00      NaN           1.0   32.0    19.0   \n",
      "4151 2018-06-22 23:00:00      NaN          18.0   34.9    19.0   \n",
      "\n",
      "      Avenida da Liberdade  Avintes  Burgães-Santo Tirso  \\\n",
      "3984                  29.8     22.0                  0.0   \n",
      "3985                  26.0     25.0                  0.0   \n",
      "3986                  25.0      NaN                  0.0   \n",
      "3987                  25.6      NaN                  0.0   \n",
      "3988                  25.8      NaN                  0.0   \n",
      "...                    ...      ...                  ...   \n",
      "4147                  39.8     28.0                 23.0   \n",
      "4148                  40.9     46.0                 20.0   \n",
      "4149                  35.7     45.0                 20.0   \n",
      "4150                  34.4     42.0                 13.0   \n",
      "4151                  47.9     42.0                 15.0   \n",
      "\n",
      "      Cascais - Escola da Cidadela  Cerro  ...  Reboleira  \\\n",
      "3984                          26.6    NaN  ...       17.8   \n",
      "3985                          26.6    NaN  ...       18.3   \n",
      "3986                          18.9    NaN  ...       22.2   \n",
      "3987                          18.9   29.2  ...       21.7   \n",
      "3988                          24.4   27.9  ...       17.8   \n",
      "...                            ...    ...  ...        ...   \n",
      "4147                          23.3   11.3  ...       14.2   \n",
      "4148                          21.9   11.5  ...       11.1   \n",
      "4149                          20.0   11.5  ...       11.1   \n",
      "4150                          23.0   11.5  ...       12.2   \n",
      "4151                          27.8   19.1  ...       12.5   \n",
      "\n",
      "      Santa Cruz de Benfica  Santana  São Gonçalo  São João  Seara-Matosinhos  \\\n",
      "3984                    NaN     11.1          8.4      16.9              32.0   \n",
      "3985                    NaN     12.3          8.8      16.1              32.0   \n",
      "3986                    NaN     12.3          8.8      15.9              33.0   \n",
      "3987                    NaN     15.9          7.4      15.9              31.0   \n",
      "3988                    NaN     17.5          6.8      12.9              19.0   \n",
      "...                     ...      ...          ...       ...               ...   \n",
      "4147                    NaN      9.6          7.9      16.9              22.0   \n",
      "4148                    NaN      9.6          7.8      17.6              22.0   \n",
      "4149                    NaN      9.6          7.8      17.6              21.0   \n",
      "4150                    NaN      8.3          5.8      17.6              24.0   \n",
      "4151                    NaN      8.3          5.8      14.5              30.0   \n",
      "\n",
      "      Sonega  Terena  VNTelha-Maia  Alfragide/Amadora  \n",
      "3984    10.0    14.0          18.0               12.3  \n",
      "3985     8.0    13.0          21.0                NaN  \n",
      "3986     9.0    13.0          21.0                NaN  \n",
      "3987     8.0    12.0          10.0                NaN  \n",
      "3988     9.0     7.0           0.0                NaN  \n",
      "...      ...     ...           ...                ...  \n",
      "4147    21.0    17.0           NaN                NaN  \n",
      "4148    22.0    17.0           NaN                NaN  \n",
      "4149    23.0    16.0           NaN                NaN  \n",
      "4150    23.0    13.0          16.0                NaN  \n",
      "4151    24.0    13.0          16.0                NaN  \n",
      "\n",
      "[168 rows x 61 columns]\n"
     ]
    }
   ],
   "source": [
    "#junho de 2018 (16-22)\n",
    "mask = (apa2018[\"PM10 (µg/m3)\\t\"] >= pd.to_datetime('2018-06-16')) & (apa2018[\"PM10 (µg/m3)\\t\"] < pd.to_datetime('2018-06-23'))\n",
    "Napa2018 = apa2018.loc[mask]\n",
    "Napa2018 = Napa2018.copy() #só para não haver mutabilidade visto que o dataframe é uma fatia de outro\n",
    "print(Napa2018)\n",
    "Napa2018.to_excel(\"apa/apa2018_16_23junho.xlsx\", index=False)"
   ]
  },
  {
   "cell_type": "code",
   "execution_count": 11,
   "id": "e435e178",
   "metadata": {},
   "outputs": [],
   "source": [
    "#a média do dia só é calculada se houver pelo menos 19 valores válidos (≈80%) c.c. = NaN\n",
    "\n",
    "Napa2017[\"Data\"] = Napa2017[\"PM10 (µg/m3)\\t\"].dt.date\n",
    "Napa2017.to_excel(\"apa/teste2017.xlsx\", index=False)"
   ]
  },
  {
   "cell_type": "code",
   "execution_count": 12,
   "id": "f7b9bd47",
   "metadata": {},
   "outputs": [
    {
     "name": "stdout",
     "output_type": "stream",
     "text": [
      "              Alverca  Anta-Espinho      Arcos     Aveiro  \\\n",
      "Data                                                        \n",
      "2017-10-14  54.300000     42.208333  54.062500  44.791667   \n",
      "2017-10-15  59.066667     63.333333  49.929167  73.458333   \n",
      "2017-10-16  64.258333     54.500000  64.600000  93.000000   \n",
      "2017-10-17  28.808333     17.541667  31.158333  45.000000   \n",
      "2017-10-18  11.125000      9.458333  10.304167  16.083333   \n",
      "\n",
      "            Avenida da Liberdade    Avintes  Burgães-Santo Tirso  \\\n",
      "Data                                                               \n",
      "2017-10-14             61.962500  31.500000             4.222222   \n",
      "2017-10-15             57.408333  32.000000             1.545455   \n",
      "2017-10-16             67.820833        NaN            30.600000   \n",
      "2017-10-17             23.591667  22.571429            23.812500   \n",
      "2017-10-18             13.220833   9.454545             6.565217   \n",
      "\n",
      "            Cascais - Escola da Cidadela      Cerro   Chamusca  ...  \\\n",
      "Data                                                            ...   \n",
      "2017-10-14                     53.904167  32.041667  36.033333  ...   \n",
      "2017-10-15                     57.825000  30.841667  47.195833  ...   \n",
      "2017-10-16                           NaN  49.977778  82.329167  ...   \n",
      "2017-10-17                           NaN  19.094737  65.591667  ...   \n",
      "2017-10-18                           NaN  14.810000   8.529167  ...   \n",
      "\n",
      "            Reboleira  Santa Cruz de Benfica    Santana  Santiago do Cacém  \\\n",
      "Data                                                                         \n",
      "2017-10-14  48.654167              71.808333  51.045833          36.916667   \n",
      "2017-10-15  50.816667              61.808696  52.725000          39.250000   \n",
      "2017-10-16  49.337500              78.937500   9.433333          82.695652   \n",
      "2017-10-17  13.837500                    NaN  11.787500          46.125000   \n",
      "2017-10-18   3.733333              21.021429  17.429167          30.941176   \n",
      "\n",
      "            São Gonçalo   São João  Seara-Matosinhos     Sonega     Terena  \\\n",
      "Data                                                                         \n",
      "2017-10-14    56.933333  79.258333         40.500000  33.083333  55.083333   \n",
      "2017-10-15    54.883333  59.991667         56.500000  31.250000  58.375000   \n",
      "2017-10-16     9.970833  15.283333         55.666667  34.916667  59.208333   \n",
      "2017-10-17     8.908333  19.254167         23.791667  11.791667  99.666667   \n",
      "2017-10-18    15.658333  24.783333          9.625000   5.666667  21.666667   \n",
      "\n",
      "            VNTelha-Maia  \n",
      "Data                      \n",
      "2017-10-14     47.833333  \n",
      "2017-10-15     59.291667  \n",
      "2017-10-16     42.461538  \n",
      "2017-10-17     18.285714  \n",
      "2017-10-18     10.916667  \n",
      "\n",
      "[5 rows x 60 columns]\n"
     ]
    }
   ],
   "source": [
    "colunas_numericas = Napa2017.select_dtypes(include='number').columns #se usarmos .mean() no dataframe inteiro dá erro porque a primeira e ultima coluna sao datas e não floats\n",
    "media2017 = Napa2017.groupby(\"Data\")[colunas_numericas].mean()\n",
    "print(media2017)"
   ]
  },
  {
   "cell_type": "code",
   "execution_count": 13,
   "id": "7a4216e3",
   "metadata": {},
   "outputs": [
    {
     "name": "stdout",
     "output_type": "stream",
     "text": [
      "            Alverca  Anta-Espinho  Arcos  Aveiro  Avenida da Liberdade  \\\n",
      "Data                                                                     \n",
      "2017-10-14       24            24     24      24                    24   \n",
      "2017-10-15       24            24     24      24                    24   \n",
      "2017-10-16       24            24     24      24                    24   \n",
      "2017-10-17       24            24     24      24                    24   \n",
      "2017-10-18       24            24     24      24                    24   \n",
      "\n",
      "            Avintes  Burgães-Santo Tirso  Cascais - Escola da Cidadela  Cerro  \\\n",
      "Data                                                                            \n",
      "2017-10-14       12                   18                            24     24   \n",
      "2017-10-15        5                   11                            16     24   \n",
      "2017-10-16        0                   10                             0     18   \n",
      "2017-10-17       14                   16                             0     19   \n",
      "2017-10-18       22                   23                             0     20   \n",
      "\n",
      "            Chamusca  ...  Reboleira  Santa Cruz de Benfica  Santana  \\\n",
      "Data                  ...                                              \n",
      "2017-10-14        24  ...         24                     24       24   \n",
      "2017-10-15        24  ...         24                     23       24   \n",
      "2017-10-16        24  ...         24                      8       24   \n",
      "2017-10-17        24  ...         24                      0       24   \n",
      "2017-10-18        24  ...         24                     14       24   \n",
      "\n",
      "            Santiago do Cacém  São Gonçalo  São João  Seara-Matosinhos  \\\n",
      "Data                                                                     \n",
      "2017-10-14                 24           24        24                24   \n",
      "2017-10-15                 24           24        24                24   \n",
      "2017-10-16                 23           24        24                24   \n",
      "2017-10-17                 16           24        24                24   \n",
      "2017-10-18                 17           24        24                24   \n",
      "\n",
      "            Sonega  Terena  VNTelha-Maia  \n",
      "Data                                      \n",
      "2017-10-14      24      24            24  \n",
      "2017-10-15      24      24            24  \n",
      "2017-10-16      24      24            13  \n",
      "2017-10-17      24       3            21  \n",
      "2017-10-18      24      24            24  \n",
      "\n",
      "[5 rows x 60 columns]\n"
     ]
    }
   ],
   "source": [
    "obs_diarias = Napa2017.groupby(\"Data\").count()\n",
    "obs_diarias.to_excel(\"apa/obs17.xlsx\", index=False)\n",
    "obs_diarias=obs_diarias.iloc[:, 1:]\n",
    "print(obs_diarias)\n",
    "mask = obs_diarias >= 5"
   ]
  },
  {
   "cell_type": "code",
   "execution_count": 14,
   "id": "9715ae9c",
   "metadata": {},
   "outputs": [
    {
     "name": "stdout",
     "output_type": "stream",
     "text": [
      "            Alverca  Anta-Espinho  Arcos  Aveiro  Avenida da Liberdade  \\\n",
      "Data                                                                     \n",
      "2017-10-14     True          True   True    True                  True   \n",
      "2017-10-15     True          True   True    True                  True   \n",
      "2017-10-16     True          True   True    True                  True   \n",
      "2017-10-17     True          True   True    True                  True   \n",
      "2017-10-18     True          True   True    True                  True   \n",
      "\n",
      "            Avintes  Burgães-Santo Tirso  Cascais - Escola da Cidadela  Cerro  \\\n",
      "Data                                                                            \n",
      "2017-10-14     True                 True                          True   True   \n",
      "2017-10-15     True                 True                          True   True   \n",
      "2017-10-16    False                 True                         False   True   \n",
      "2017-10-17     True                 True                         False   True   \n",
      "2017-10-18     True                 True                         False   True   \n",
      "\n",
      "            Chamusca  ...  Reboleira  Santa Cruz de Benfica  Santana  \\\n",
      "Data                  ...                                              \n",
      "2017-10-14      True  ...       True                   True     True   \n",
      "2017-10-15      True  ...       True                   True     True   \n",
      "2017-10-16      True  ...       True                   True     True   \n",
      "2017-10-17      True  ...       True                  False     True   \n",
      "2017-10-18      True  ...       True                   True     True   \n",
      "\n",
      "            Santiago do Cacém  São Gonçalo  São João  Seara-Matosinhos  \\\n",
      "Data                                                                     \n",
      "2017-10-14               True         True      True              True   \n",
      "2017-10-15               True         True      True              True   \n",
      "2017-10-16               True         True      True              True   \n",
      "2017-10-17               True         True      True              True   \n",
      "2017-10-18               True         True      True              True   \n",
      "\n",
      "            Sonega  Terena  VNTelha-Maia  \n",
      "Data                                      \n",
      "2017-10-14    True    True          True  \n",
      "2017-10-15    True    True          True  \n",
      "2017-10-16    True    True          True  \n",
      "2017-10-17    True   False          True  \n",
      "2017-10-18    True    True          True  \n",
      "\n",
      "[5 rows x 60 columns]\n"
     ]
    }
   ],
   "source": [
    "print(mask)"
   ]
  },
  {
   "cell_type": "code",
   "execution_count": 15,
   "id": "ed56b946",
   "metadata": {},
   "outputs": [
    {
     "name": "stdout",
     "output_type": "stream",
     "text": [
      "              Alverca  Anta-Espinho      Arcos     Aveiro  \\\n",
      "Data                                                        \n",
      "2017-10-14  54.300000     42.208333  54.062500  44.791667   \n",
      "2017-10-15  59.066667     63.333333  49.929167  73.458333   \n",
      "2017-10-16  64.258333     54.500000  64.600000  93.000000   \n",
      "2017-10-17  28.808333     17.541667  31.158333  45.000000   \n",
      "2017-10-18  11.125000      9.458333  10.304167  16.083333   \n",
      "\n",
      "            Avenida da Liberdade    Avintes  Burgães-Santo Tirso  \\\n",
      "Data                                                               \n",
      "2017-10-14             61.962500  31.500000             4.222222   \n",
      "2017-10-15             57.408333  32.000000             1.545455   \n",
      "2017-10-16             67.820833        NaN            30.600000   \n",
      "2017-10-17             23.591667  22.571429            23.812500   \n",
      "2017-10-18             13.220833   9.454545             6.565217   \n",
      "\n",
      "            Cascais - Escola da Cidadela      Cerro   Chamusca  ...  \\\n",
      "Data                                                            ...   \n",
      "2017-10-14                     53.904167  32.041667  36.033333  ...   \n",
      "2017-10-15                     57.825000  30.841667  47.195833  ...   \n",
      "2017-10-16                           NaN  49.977778  82.329167  ...   \n",
      "2017-10-17                           NaN  19.094737  65.591667  ...   \n",
      "2017-10-18                           NaN  14.810000   8.529167  ...   \n",
      "\n",
      "            Reboleira  Santa Cruz de Benfica    Santana  Santiago do Cacém  \\\n",
      "Data                                                                         \n",
      "2017-10-14  48.654167              71.808333  51.045833          36.916667   \n",
      "2017-10-15  50.816667              61.808696  52.725000          39.250000   \n",
      "2017-10-16  49.337500              78.937500   9.433333          82.695652   \n",
      "2017-10-17  13.837500                    NaN  11.787500          46.125000   \n",
      "2017-10-18   3.733333              21.021429  17.429167          30.941176   \n",
      "\n",
      "            São Gonçalo   São João  Seara-Matosinhos     Sonega     Terena  \\\n",
      "Data                                                                         \n",
      "2017-10-14    56.933333  79.258333         40.500000  33.083333  55.083333   \n",
      "2017-10-15    54.883333  59.991667         56.500000  31.250000  58.375000   \n",
      "2017-10-16     9.970833  15.283333         55.666667  34.916667  59.208333   \n",
      "2017-10-17     8.908333  19.254167         23.791667  11.791667        NaN   \n",
      "2017-10-18    15.658333  24.783333          9.625000   5.666667  21.666667   \n",
      "\n",
      "            VNTelha-Maia  \n",
      "Data                      \n",
      "2017-10-14     47.833333  \n",
      "2017-10-15     59.291667  \n",
      "2017-10-16     42.461538  \n",
      "2017-10-17     18.285714  \n",
      "2017-10-18     10.916667  \n",
      "\n",
      "[5 rows x 60 columns]\n"
     ]
    }
   ],
   "source": [
    "Fmedia2017 = media2017[mask]\n",
    "print(Fmedia2017)"
   ]
  },
  {
   "cell_type": "code",
   "execution_count": 16,
   "id": "f9f4c31d",
   "metadata": {},
   "outputs": [],
   "source": [
    "#Repetir para 2018\n",
    "\n",
    "Napa2018[\"Data\"] = Napa2018[\"PM10 (µg/m3)\\t\"].dt.date\n",
    "Napa2018.to_excel(\"apa/teste2018.xlsx\", index=False)\n",
    "colunas_numericas = Napa2018.select_dtypes(include='number').columns #se usarmos .mean() no dataframe inteiro dá erro porque a primeira e ultima coluna sao datas e não floats\n",
    "media2018 = Napa2018.groupby(\"Data\")[colunas_numericas].mean()\n",
    "obs_diarias = Napa2018.groupby(\"Data\").count()\n",
    "obs_diarias.to_excel(\"apa/obs18.xlsx\", index=False)\n",
    "obs_diarias=obs_diarias.iloc[:, 1:]\n",
    "mask = obs_diarias >= 5\n",
    "Fmedia2018 = media2018[mask]"
   ]
  },
  {
   "cell_type": "code",
   "execution_count": 17,
   "id": "8502233b",
   "metadata": {},
   "outputs": [
    {
     "name": "stdout",
     "output_type": "stream",
     "text": [
      "              Alverca  Anta-Espinho      Arcos     Aveiro  \\\n",
      "Data                                                        \n",
      "2017-10-14  54.300000     42.208333  54.062500  44.791667   \n",
      "2017-10-15  59.066667     63.333333  49.929167  73.458333   \n",
      "2017-10-16  64.258333     54.500000  64.600000  93.000000   \n",
      "2017-10-17  28.808333     17.541667  31.158333  45.000000   \n",
      "2017-10-18  11.125000      9.458333  10.304167  16.083333   \n",
      "\n",
      "            Avenida da Liberdade    Avintes  Burgães-Santo Tirso  \\\n",
      "Data                                                               \n",
      "2017-10-14             61.962500  31.500000             4.222222   \n",
      "2017-10-15             57.408333  32.000000             1.545455   \n",
      "2017-10-16             67.820833        NaN            30.600000   \n",
      "2017-10-17             23.591667  22.571429            23.812500   \n",
      "2017-10-18             13.220833   9.454545             6.565217   \n",
      "\n",
      "            Cascais - Escola da Cidadela      Cerro   Chamusca  ...  \\\n",
      "Data                                                            ...   \n",
      "2017-10-14                     53.904167  32.041667  36.033333  ...   \n",
      "2017-10-15                     57.825000  30.841667  47.195833  ...   \n",
      "2017-10-16                           NaN  49.977778  82.329167  ...   \n",
      "2017-10-17                           NaN  19.094737  65.591667  ...   \n",
      "2017-10-18                           NaN  14.810000   8.529167  ...   \n",
      "\n",
      "            Santa Cruz de Benfica    Santana  Santiago do Cacém  São Gonçalo  \\\n",
      "Data                                                                           \n",
      "2017-10-14              71.808333  51.045833          36.916667    56.933333   \n",
      "2017-10-15              61.808696  52.725000          39.250000    54.883333   \n",
      "2017-10-16              78.937500   9.433333          82.695652     9.970833   \n",
      "2017-10-17                    NaN  11.787500          46.125000     8.908333   \n",
      "2017-10-18              21.021429  17.429167          30.941176    15.658333   \n",
      "\n",
      "             São João  Seara-Matosinhos     Sonega     Terena  VNTelha-Maia  \\\n",
      "Data                                                                          \n",
      "2017-10-14  79.258333         40.500000  33.083333  55.083333     47.833333   \n",
      "2017-10-15  59.991667         56.500000  31.250000  58.375000     59.291667   \n",
      "2017-10-16  15.283333         55.666667  34.916667  59.208333     42.461538   \n",
      "2017-10-17  19.254167         23.791667  11.791667        NaN     18.285714   \n",
      "2017-10-18  24.783333          9.625000   5.666667  21.666667     10.916667   \n",
      "\n",
      "            proporção  \n",
      "Data                   \n",
      "2017-10-14   0.833333  \n",
      "2017-10-15   0.800000  \n",
      "2017-10-16   0.783333  \n",
      "2017-10-17   0.783333  \n",
      "2017-10-18   0.850000  \n",
      "\n",
      "[5 rows x 61 columns]\n",
      "              Alverca  Anta-Espinho      Arcos     Aveiro  \\\n",
      "Data                                                        \n",
      "2018-06-16  17.816667     14.833333  17.733333  17.125000   \n",
      "2018-06-17  16.033333     24.541667  18.320833  19.500000   \n",
      "2018-06-18  17.416667     21.058824  28.637500  26.416667   \n",
      "2018-06-19        NaN      6.791667  32.028571  19.541667   \n",
      "2018-06-20        NaN     13.681818  36.491667  27.125000   \n",
      "2018-06-21        NaN     11.416667  21.895833  19.458333   \n",
      "2018-06-22        NaN      9.434783  20.695833  14.250000   \n",
      "\n",
      "            Avenida da Liberdade    Avintes  Burgães-Santo Tirso  \\\n",
      "Data                                                               \n",
      "2018-06-16             29.712500  16.611111             9.714286   \n",
      "2018-06-17             28.112500  18.619048            11.666667   \n",
      "2018-06-18             37.541667  18.733333            11.041667   \n",
      "2018-06-19             45.908333  16.045455            16.000000   \n",
      "2018-06-20             48.416667  27.200000            24.454545   \n",
      "2018-06-21             35.741667  27.619048            13.000000   \n",
      "2018-06-22             32.883333  19.863636            17.500000   \n",
      "\n",
      "            Cascais - Escola da Cidadela      Cerro   Chamusca  ...  \\\n",
      "Data                                                            ...   \n",
      "2018-06-16                     21.183333  14.014286  11.808333  ...   \n",
      "2018-06-17                     22.108333  13.287500  15.116667  ...   \n",
      "2018-06-18                     42.279167  14.016667  15.984615  ...   \n",
      "2018-06-19                     41.470833  15.191667  21.995833  ...   \n",
      "2018-06-20                     41.123810  14.458333  29.045833  ...   \n",
      "2018-06-21                     30.979167  12.575000  17.783333  ...   \n",
      "2018-06-22                     24.283333  11.304167  12.091667  ...   \n",
      "\n",
      "            Santa Cruz de Benfica    Santana  São Gonçalo   São João  \\\n",
      "Data                                                                   \n",
      "2018-06-16                    NaN  19.104167    15.270833  21.016667   \n",
      "2018-06-17                    NaN  19.575000    21.591667  24.179167   \n",
      "2018-06-18                    NaN  16.808333    33.400000  36.225000   \n",
      "2018-06-19                    NaN   7.058333    12.841667  17.795833   \n",
      "2018-06-20                    NaN  10.658333    11.616667  18.520833   \n",
      "2018-06-21                    NaN  11.275000    13.204167  14.166667   \n",
      "2018-06-22                    NaN  11.070833    10.716667  16.120833   \n",
      "\n",
      "            Seara-Matosinhos     Sonega     Terena  VNTelha-Maia  \\\n",
      "Data                                                               \n",
      "2018-06-16         28.833333  12.666667  13.333333     15.380952   \n",
      "2018-06-17         30.958333  15.291667  12.000000     22.210526   \n",
      "2018-06-18         21.450000  18.000000  16.000000     16.047619   \n",
      "2018-06-19         23.772727  17.416667  16.047619     13.904762   \n",
      "2018-06-20         25.000000  19.291667  25.333333     25.705882   \n",
      "2018-06-21         27.708333  16.958333  15.291667     21.583333   \n",
      "2018-06-22         21.750000  16.125000   7.625000     15.142857   \n",
      "\n",
      "            Alfragide/Amadora  proporção  \n",
      "Data                                      \n",
      "2018-06-16                NaN   0.850000  \n",
      "2018-06-17                NaN   0.850000  \n",
      "2018-06-18                NaN   0.850000  \n",
      "2018-06-19                NaN   0.850000  \n",
      "2018-06-20                NaN   0.866667  \n",
      "2018-06-21                NaN   0.833333  \n",
      "2018-06-22                NaN   0.850000  \n",
      "\n",
      "[7 rows x 61 columns]\n"
     ]
    }
   ],
   "source": [
    "Fmedia2017 = Fmedia2017.replace(\"\", pd.NA)\n",
    "Fmedia2017[\"proporção\"] = Fmedia2017.notna().sum(axis=1) / (Fmedia2017.shape[1])\n",
    "print(Fmedia2017)\n",
    "Fmedia2017.to_excel(\"apa/F5media2017.xlsx\")\n",
    "\n",
    "Fmedia2018 = Fmedia2018.replace(\"\", pd.NA)\n",
    "Fmedia2018[\"proporção\"] = (Fmedia2018.notna().sum(axis=1) / (Fmedia2018.shape[1]))\n",
    "print(Fmedia2018)\n",
    "Fmedia2018.to_excel(\"apa/F5media2018.xlsx\")"
   ]
  },
  {
   "cell_type": "code",
   "execution_count": 18,
   "id": "eb75e69f",
   "metadata": {},
   "outputs": [
    {
     "name": "stdout",
     "output_type": "stream",
     "text": [
      "['codigo_est', 'nome_estac', 'data_inici', 'data_fim', 'latitude', 'longitude', 'rede_codig', 'rede_nome', 'rede_aqd_o', 'geometry']\n",
      "Dimensão da info geofŕafica das estações: (65, 10)\n",
      "\n",
      "    codigo_est                      nome_estac  data_inici    data_fim  \\\n",
      "0  STA-PT01053                         Avintes  12/07/2010  0000/00/00   \n",
      "1  STA-PT01021             Custóias-Matosinhos  01/09/1998  0000/00/00   \n",
      "2  STA-PT01023               Ermesinde-Valongo  01/10/1998  0000/00/00   \n",
      "3  STA-PT01024             D.Manuel II-Vermoim  01/11/1999  0000/00/00   \n",
      "4  STA-PT01028  Francisco Sá Carneiro-Campanha  19/09/2000  0000/00/00   \n",
      "\n",
      "    latitude  longitude   rede_codig                         rede_nome  \\\n",
      "0  41.098187  -8.554351  NET-PT00015  Rede de Qualidade do Ar do Norte   \n",
      "1  41.199805  -8.644844  NET-PT00015  Rede de Qualidade do Ar do Norte   \n",
      "2  41.206605  -8.552600  NET-PT00015  Rede de Qualidade do Ar do Norte   \n",
      "3  41.235563  -8.618715  NET-PT00015  Rede de Qualidade do Ar do Norte   \n",
      "4  41.162791  -8.590847  NET-PT00015  Rede de Qualidade do Ar do Norte   \n",
      "\n",
      "  rede_aqd_o                   geometry  \n",
      "0   regional  POINT (-8.55435 41.09819)  \n",
      "1   regional  POINT (-8.64484 41.19981)  \n",
      "2   regional   POINT (-8.5526 41.20661)  \n",
      "3   regional  POINT (-8.61872 41.23556)  \n",
      "4   regional  POINT (-8.59085 41.16279)  \n"
     ]
    }
   ],
   "source": [
    "gdf = gpd.read_file(\"estacoes/qualar_estacao_inspire_vw.shp\")\n",
    "print(gdf.columns.tolist())\n",
    "print(f\"Dimensão da info geofŕafica das estações: {gdf.shape}\\n\")\n",
    "print(gdf.head())"
   ]
  },
  {
   "cell_type": "code",
   "execution_count": 19,
   "id": "8b139a18",
   "metadata": {},
   "outputs": [
    {
     "name": "stdout",
     "output_type": "stream",
     "text": [
      "<xarray.Dataset> Size: 4MB\n",
      "Dimensions:    (lon: 40, lat: 66, time: 365, bnds: 2)\n",
      "Coordinates:\n",
      "  * lon        (lon) float64 320B -10.0 -9.9 -9.8 -9.7 ... -6.4 -6.3 -6.2 -6.1\n",
      "  * lat        (lat) float64 528B 36.5 36.6 36.7 36.8 ... 42.7 42.8 42.9 43.0\n",
      "  * time       (time) datetime64[ns] 3kB 2017-01-01T11:30:00 ... 2017-12-31T1...\n",
      "Dimensions without coordinates: bnds\n",
      "Data variables:\n",
      "    time_bnds  (time, bnds) datetime64[ns] 6kB ...\n",
      "    pm10       (time, lat, lon) float32 4MB ...\n",
      "Attributes:\n",
      "    CDI:          Climate Data Interface version ?? (http://mpimet.mpg.de/cdi)\n",
      "    Conventions:  CF-1.7\n",
      "    history:      Fri Apr 11 12:39:22 2025: cdo daymean PM10_2017.nc PM10_day...\n",
      "    Title:        CAMS European air quality interim reanalysis\n",
      "    Provider:     COPERNICUS European air quality service\n",
      "    Production:   COPERNICUS Atmosphere Monitoring Service\n",
      "    CDO:          Climate Data Operators version 1.7.0 (http://mpimet.mpg.de/...\n"
     ]
    }
   ],
   "source": [
    "cams2017 = xr.open_dataset(\"cams/PM10_daymean_2017.nc\")\n",
    "print(cams2017)"
   ]
  },
  {
   "cell_type": "code",
   "execution_count": 20,
   "id": "2e59f001",
   "metadata": {},
   "outputs": [
    {
     "name": "stdout",
     "output_type": "stream",
     "text": [
      "Data variables:\n",
      "    time_bnds  (time, bnds) datetime64[ns] 6kB ...\n",
      "    pm10       (time, lat, lon) float32 4MB ...\n",
      "---------------------------------------\n",
      "\n",
      "Coordinates:\n",
      "  * lon      (lon) float64 320B -10.0 -9.9 -9.8 -9.7 ... -6.4 -6.3 -6.2 -6.1\n",
      "  * lat      (lat) float64 528B 36.5 36.6 36.7 36.8 36.9 ... 42.7 42.8 42.9 43.0\n",
      "  * time     (time) datetime64[ns] 3kB 2017-01-01T11:30:00 ... 2017-12-31T11:...\n",
      "---------------------------------------\n",
      "\n",
      "<xarray.DataArray 'pm10' (time: 365, lat: 66, lon: 40)> Size: 4MB\n",
      "[963600 values with dtype=float32]\n",
      "Coordinates:\n",
      "  * lon      (lon) float64 320B -10.0 -9.9 -9.8 -9.7 ... -6.4 -6.3 -6.2 -6.1\n",
      "  * lat      (lat) float64 528B 36.5 36.6 36.7 36.8 36.9 ... 42.7 42.8 42.9 43.0\n",
      "  * time     (time) datetime64[ns] 3kB 2017-01-01T11:30:00 ... 2017-12-31T11:...\n",
      "Attributes:\n",
      "    standard_name:  mass_concentration_of_pm10_ambient_aerosol_in_air\n",
      "    long_name:      mass concentration of particulate matter with d < 10 µm\n",
      "    units:          µg/m3\n",
      "---------------------------------------\n"
     ]
    }
   ],
   "source": [
    "print(cams2017.data_vars)\n",
    "print(\"---------------------------------------\\n\")\n",
    "print(cams2017.coords)\n",
    "print(\"---------------------------------------\\n\")\n",
    "print(cams2017[\"pm10\"])\n",
    "print(\"---------------------------------------\")"
   ]
  },
  {
   "cell_type": "markdown",
   "id": "fb1bf2b1",
   "metadata": {},
   "source": [
    "![1 de janeiro de 2017](imagens/1_janeiro_2017.png)\n",
    "![15 de outubro de 2017](imagens/15_outubro_2017.png)\n",
    "![19 de junho de 2018](imagens/19_junho_2018.png)"
   ]
  },
  {
   "cell_type": "code",
   "execution_count": 21,
   "id": "59ab5889",
   "metadata": {},
   "outputs": [
    {
     "name": "stdout",
     "output_type": "stream",
     "text": [
      "['time', 'lat', 'lon', 'pm10']\n",
      "Dimensão dos dados das camaras: (963600, 4)\n",
      "\n",
      "                 time   lat   lon       pm10\n",
      "0 2017-01-01 11:30:00  36.5 -10.0  18.154917\n",
      "1 2017-01-01 11:30:00  36.5  -9.9  17.517908\n",
      "2 2017-01-01 11:30:00  36.5  -9.8  16.446743\n",
      "3 2017-01-01 11:30:00  36.5  -9.7  16.456955\n",
      "4 2017-01-01 11:30:00  36.5  -9.6  16.954844\n"
     ]
    }
   ],
   "source": [
    "pm10 = cams2017[\"pm10\"]\n",
    "cams2017df = pm10.to_dataframe().reset_index()\n",
    "print(cams2017df.columns.tolist())\n",
    "print(f\"Dimensão dos dados das camaras: {cams2017df.shape}\\n\")\n",
    "print(cams2017df.head())\n",
    "excerto2017 = cams2017df.iloc[:len(cams2017df)//10] #para ver o que se passava é mais fácil ver somente um décimo do dataset visto que é enorme\n",
    "excerto2017.to_excel(\"cams/pm10cams2017.xlsx\", index=False)\n"
   ]
  },
  {
   "cell_type": "markdown",
   "id": "d6974fc3",
   "metadata": {},
   "source": [
    "1) Atribuir coordenadas às localidades no dataframe com os valores médios limpos\n",
    "2) É preciso projeção de coordenadas ou os dados das cams e apa estão ampas no mesmo tipo???? \n",
    "    caso não: arredondar visto que nas netCDFs a latitude e longitude estão arredondadas ---> pode levar a problemas depois na comparação\n",
    "3) Juntar dados num unico dataset (2 no nosso caso, 1 para cada): \n",
    "    ordem cronologica\n",
    "    pm10 apa e pm10 cams\n",
    "    localidade com as respetivas coordenadas"
   ]
  },
  {
   "cell_type": "code",
   "execution_count": 22,
   "id": "e700e823",
   "metadata": {},
   "outputs": [
    {
     "name": "stdout",
     "output_type": "stream",
     "text": [
      "    codigo_est                      nome_estac  data_inici    data_fim  \\\n",
      "0  STA-PT01053                         Avintes  12/07/2010  0000/00/00   \n",
      "1  STA-PT01021             Custóias-Matosinhos  01/09/1998  0000/00/00   \n",
      "2  STA-PT01023               Ermesinde-Valongo  01/10/1998  0000/00/00   \n",
      "3  STA-PT01024             D.Manuel II-Vermoim  01/11/1999  0000/00/00   \n",
      "4  STA-PT01028  Francisco Sá Carneiro-Campanha  19/09/2000  0000/00/00   \n",
      "\n",
      "    latitude  longitude   rede_codig                         rede_nome  \\\n",
      "0  41.098187  -8.554351  NET-PT00015  Rede de Qualidade do Ar do Norte   \n",
      "1  41.199805  -8.644844  NET-PT00015  Rede de Qualidade do Ar do Norte   \n",
      "2  41.206605  -8.552600  NET-PT00015  Rede de Qualidade do Ar do Norte   \n",
      "3  41.235563  -8.618715  NET-PT00015  Rede de Qualidade do Ar do Norte   \n",
      "4  41.162791  -8.590847  NET-PT00015  Rede de Qualidade do Ar do Norte   \n",
      "\n",
      "  rede_aqd_o                   geometry     3763_long       3763_lat  \n",
      "0   regional  POINT (-8.55435 41.09819) -35388.726933  158867.677319  \n",
      "1   regional  POINT (-8.64484 41.19981) -42924.770151  170193.796239  \n",
      "2   regional   POINT (-8.5526 41.20661) -35183.611562  170907.573844  \n",
      "3   regional  POINT (-8.61872 41.23556) -40710.864377  174152.466336  \n",
      "4   regional  POINT (-8.59085 41.16279) -38417.071842  166057.858413  \n"
     ]
    }
   ],
   "source": [
    "transformer = Transformer.from_crs(\"EPSG:4326\", \"EPSG:3763\", always_xy=True)\n",
    "gdf.to_excel(\"apa/gdf1.xlsx\", index=False)\n",
    "x, y = transformer.transform(gdf['longitude'].values, gdf['latitude'].values)\n",
    "\n",
    "gdf[\"3763_long\"] = x\n",
    "gdf[\"3763_lat\"] = y\n",
    "print(gdf.head())\n",
    "gdf.to_excel(\"apa/gdf2.xlsx\", index=False)"
   ]
  },
  {
   "cell_type": "code",
   "execution_count": 23,
   "id": "d811ea63",
   "metadata": {},
   "outputs": [
    {
     "name": "stdout",
     "output_type": "stream",
     "text": [
      "                 time   lat   lon       pm10      3763_long       3763_lat\n",
      "0 2017-01-01 11:30:00  36.5 -10.0  18.154917 -167265.612117 -350049.532044\n",
      "1 2017-01-01 11:30:00  36.5  -9.9  17.517908 -158305.172793 -350218.603496\n",
      "2 2017-01-01 11:30:00  36.5  -9.8  16.446743 -149344.875659 -350378.361097\n",
      "3 2017-01-01 11:30:00  36.5  -9.7  16.456955 -140384.712685 -350528.806258\n",
      "4 2017-01-01 11:30:00  36.5  -9.6  16.954844 -131424.675835 -350669.940311\n"
     ]
    }
   ],
   "source": [
    "x1, y1 = transformer.transform(cams2017df['lon'].values, cams2017df['lat'].values)\n",
    "\n",
    "cams2017df.loc[:, \"3763_long\"] = x1\n",
    "cams2017df.loc[:, \"3763_lat\"] = y1\n",
    "\n",
    "print(cams2017df.head())\n"
   ]
  },
  {
   "cell_type": "code",
   "execution_count": 24,
   "id": "60d259ad",
   "metadata": {},
   "outputs": [
    {
     "name": "stdout",
     "output_type": "stream",
     "text": [
      "['time', 'lat', 'lon', 'pm10']\n",
      "Dimensão dos dados das camaras: (963600, 4)\n",
      "\n",
      "                 time   lat   lon       pm10\n",
      "0 2018-01-01 11:30:00  36.5 -10.0  22.185546\n",
      "1 2018-01-01 11:30:00  36.5  -9.9  22.135416\n",
      "2 2018-01-01 11:30:00  36.5  -9.8  22.132486\n",
      "3 2018-01-01 11:30:00  36.5  -9.7  22.175129\n",
      "4 2018-01-01 11:30:00  36.5  -9.6  22.148437\n"
     ]
    }
   ],
   "source": [
    "cams2018 = xr.open_dataset(\"cams/PM10_daymean_2018.nc\")\n",
    "pm10 = cams2018[\"pm10\"]\n",
    "cams2018df = pm10.to_dataframe().reset_index()\n",
    "print(cams2018df.columns.tolist())\n",
    "print(f\"Dimensão dos dados das camaras: {cams2018df.shape}\\n\")\n",
    "print(cams2018df.head())"
   ]
  },
  {
   "cell_type": "code",
   "execution_count": 25,
   "id": "ac3b93a7",
   "metadata": {},
   "outputs": [
    {
     "name": "stdout",
     "output_type": "stream",
     "text": [
      "                 time   lat   lon       pm10      3763_long       3763_lat\n",
      "0 2018-01-01 11:30:00  36.5 -10.0  22.185546 -167265.612117 -350049.532044\n",
      "1 2018-01-01 11:30:00  36.5  -9.9  22.135416 -158305.172793 -350218.603496\n",
      "2 2018-01-01 11:30:00  36.5  -9.8  22.132486 -149344.875659 -350378.361097\n",
      "3 2018-01-01 11:30:00  36.5  -9.7  22.175129 -140384.712685 -350528.806258\n",
      "4 2018-01-01 11:30:00  36.5  -9.6  22.148437 -131424.675835 -350669.940311\n"
     ]
    }
   ],
   "source": [
    "x1, y1 = transformer.transform(cams2018df['lon'].values, cams2018df['lat'].values)\n",
    "\n",
    "cams2018df.loc[:, \"3763_long\"] = x1\n",
    "cams2018df.loc[:, \"3763_lat\"] = y1\n",
    "\n",
    "print(cams2018df.head())"
   ]
  },
  {
   "cell_type": "code",
   "execution_count": 26,
   "id": "e4a88c50",
   "metadata": {},
   "outputs": [
    {
     "name": "stdout",
     "output_type": "stream",
     "text": [
      "<class 'pandas._libs.tslibs.timestamps.Timestamp'>\n",
      "<class 'pandas._libs.tslibs.timestamps.Timestamp'>\n"
     ]
    }
   ],
   "source": [
    "print(type(cams2017df.iloc[0,0]))\n",
    "cams2017df[\"time\"] = pd.to_datetime(cams2017df[\"time\"], format='%Y-%m-%d %H:%M:%S')\n",
    "print(type(cams2017df.iloc[0,0]))\n",
    "cams2018df[\"time\"] = pd.to_datetime(cams2018df[\"time\"], format='%Y-%m-%d %H:%M:%S')"
   ]
  },
  {
   "cell_type": "code",
   "execution_count": 27,
   "id": "1f05da9e",
   "metadata": {},
   "outputs": [
    {
     "name": "stdout",
     "output_type": "stream",
     "text": [
      "                      time   lat   lon       pm10      3763_long  \\\n",
      "755040 2017-10-14 11:30:00  36.5 -10.0  42.453941 -167265.612117   \n",
      "755041 2017-10-14 11:30:00  36.5  -9.9  42.392410 -158305.172793   \n",
      "755042 2017-10-14 11:30:00  36.5  -9.8  42.162560 -149344.875659   \n",
      "755043 2017-10-14 11:30:00  36.5  -9.7  41.917164 -140384.712685   \n",
      "755044 2017-10-14 11:30:00  36.5  -9.6  42.237843 -131424.675835   \n",
      "...                    ...   ...   ...        ...            ...   \n",
      "768235 2017-10-18 11:30:00  43.0  -6.5  16.272829  133166.524410   \n",
      "768236 2017-10-18 11:30:00  43.0  -6.4  13.677632  141320.872736   \n",
      "768237 2017-10-18 11:30:00  43.0  -6.3  12.745512  149475.251732   \n",
      "768238 2017-10-18 11:30:00  43.0  -6.2  12.116454  157629.663144   \n",
      "768239 2017-10-18 11:30:00  43.0  -6.1  12.044427  165784.108715   \n",
      "\n",
      "             3763_lat  \n",
      "755040 -350049.532044  \n",
      "755041 -350218.603496  \n",
      "755042 -350378.361097  \n",
      "755043 -350528.806258  \n",
      "755044 -350669.940311  \n",
      "...               ...  \n",
      "768235  371319.110964  \n",
      "768236  371482.524421  \n",
      "768237  371655.653689  \n",
      "768238  371838.499941  \n",
      "768239  372031.064418  \n",
      "\n",
      "[13200 rows x 6 columns]\n"
     ]
    }
   ],
   "source": [
    "#outubro de 2017 (14-18)\n",
    "mask = (cams2017df[\"time\"] >= pd.to_datetime('2017-10-14')) & (cams2017df[\"time\"] < pd.to_datetime('2017-10-19')) #devolve um dicionario de falso ou correto para a condição\n",
    "camaras2017 = cams2017df.loc[mask]\n",
    "camaras2017 = camaras2017.copy() #só para não haver mutabilidade visto que o dataframe é uma fatia de outro\n",
    "print(camaras2017)\n",
    "camaras2017.to_excel(\"cams/cams2017_14_18outubro.xlsx\", index=False)"
   ]
  },
  {
   "cell_type": "code",
   "execution_count": 28,
   "id": "cc3d391b",
   "metadata": {},
   "outputs": [
    {
     "name": "stdout",
     "output_type": "stream",
     "text": [
      "                      time   lat   lon       pm10      3763_long  \\\n",
      "438240 2018-06-16 11:30:00  36.5 -10.0  27.978189 -167265.612117   \n",
      "438241 2018-06-16 11:30:00  36.5  -9.9  27.848306 -158305.172793   \n",
      "438242 2018-06-16 11:30:00  36.5  -9.8  27.857421 -149344.875659   \n",
      "438243 2018-06-16 11:30:00  36.5  -9.7  27.400064 -140384.712685   \n",
      "438244 2018-06-16 11:30:00  36.5  -9.6  27.009765 -131424.675835   \n",
      "...                    ...   ...   ...        ...            ...   \n",
      "456715 2018-06-22 11:30:00  43.0  -6.5  11.020507  133166.524410   \n",
      "456716 2018-06-22 11:30:00  43.0  -6.4  10.670572  141320.872736   \n",
      "456717 2018-06-22 11:30:00  43.0  -6.3  10.260986  149475.251732   \n",
      "456718 2018-06-22 11:30:00  43.0  -6.2  10.341471  157629.663144   \n",
      "456719 2018-06-22 11:30:00  43.0  -6.1  10.629801  165784.108715   \n",
      "\n",
      "             3763_lat  \n",
      "438240 -350049.532044  \n",
      "438241 -350218.603496  \n",
      "438242 -350378.361097  \n",
      "438243 -350528.806258  \n",
      "438244 -350669.940311  \n",
      "...               ...  \n",
      "456715  371319.110964  \n",
      "456716  371482.524421  \n",
      "456717  371655.653689  \n",
      "456718  371838.499941  \n",
      "456719  372031.064418  \n",
      "\n",
      "[18480 rows x 6 columns]\n"
     ]
    }
   ],
   "source": [
    "#junho de 2018 (16-22)\n",
    "mask = (cams2018df[\"time\"] >= pd.to_datetime('2018-06-16')) & (cams2018df[\"time\"] < pd.to_datetime('2018-06-23')) #devolve um dicionario de falso ou correto para a condição\n",
    "camaras2018 = cams2018df.loc[mask]\n",
    "camaras2018 = camaras2018.copy() #só para não haver mutabilidade visto que o dataframe é uma fatia de outro\n",
    "print(camaras2018)\n",
    "camaras2018.to_excel(\"cams/cams2018_16_22junho.xlsx\", index=False)"
   ]
  },
  {
   "cell_type": "code",
   "execution_count": 29,
   "id": "37b9345d",
   "metadata": {},
   "outputs": [
    {
     "name": "stdout",
     "output_type": "stream",
     "text": [
      "                       nome_estac     3763_long       3763_lat\n",
      "0                         Avintes -35388.726933  158867.677319\n",
      "1             Custóias-Matosinhos -42924.770151  170193.796239\n",
      "2               Ermesinde-Valongo -35183.611562  170907.573844\n",
      "3             D.Manuel II-Vermoim -40710.864377  174152.466336\n",
      "4  Francisco Sá Carneiro-Campanha -38417.071842  166057.858413\n"
     ]
    }
   ],
   "source": [
    "gdf_min = gdf[['nome_estac', '3763_long', '3763_lat']]\n",
    "print(gdf_min.head())"
   ]
  },
  {
   "cell_type": "code",
   "execution_count": 30,
   "id": "d9518382",
   "metadata": {},
   "outputs": [
    {
     "name": "stdout",
     "output_type": "stream",
     "text": [
      "                      time   lat   lon       pm10      3763_long  \\\n",
      "755040 2017-10-14 11:30:00  36.5 -10.0  42.453941 -167265.612117   \n",
      "755041 2017-10-14 11:30:00  36.5  -9.9  42.392410 -158305.172793   \n",
      "755042 2017-10-14 11:30:00  36.5  -9.8  42.162560 -149344.875659   \n",
      "755043 2017-10-14 11:30:00  36.5  -9.7  41.917164 -140384.712685   \n",
      "755044 2017-10-14 11:30:00  36.5  -9.6  42.237843 -131424.675835   \n",
      "\n",
      "             3763_lat  \n",
      "755040 -350049.532044  \n",
      "755041 -350218.603496  \n",
      "755042 -350378.361097  \n",
      "755043 -350528.806258  \n",
      "755044 -350669.940311  \n",
      "                 time   lat   lon       pm10      3763_long       3763_lat  \\\n",
      "0 2017-10-14 11:30:00  36.5 -10.0  42.453941 -167265.612117 -350049.532044   \n",
      "1 2017-10-14 11:30:00  36.5  -9.9  42.392410 -158305.172793 -350218.603496   \n",
      "2 2017-10-14 11:30:00  36.5  -9.8  42.162560 -149344.875659 -350378.361097   \n",
      "3 2017-10-14 11:30:00  36.5  -9.7  41.917164 -140384.712685 -350528.806258   \n",
      "4 2017-10-14 11:30:00  36.5  -9.6  42.237843 -131424.675835 -350669.940311   \n",
      "\n",
      "  nome_estac  \n",
      "0        NaN  \n",
      "1        NaN  \n",
      "2        NaN  \n",
      "3        NaN  \n",
      "4        NaN  \n"
     ]
    }
   ],
   "source": [
    "print(camaras2017.head())\n",
    "cam2017_estac =  camaras2017.merge(gdf_min, on=['3763_lat', '3763_long'], how='left')\n",
    "print(cam2017_estac.head())"
   ]
  },
  {
   "cell_type": "code",
   "execution_count": 31,
   "id": "7256e151",
   "metadata": {},
   "outputs": [
    {
     "name": "stdout",
     "output_type": "stream",
     "text": [
      "[nan]\n"
     ]
    },
    {
     "data": {
      "text/plain": [
       "'NÃO DEU'"
      ]
     },
     "execution_count": 31,
     "metadata": {},
     "output_type": "execute_result"
    }
   ],
   "source": [
    "print(cam2017_estac[\"nome_estac\"].unique())\n",
    "\n",
    "\"\"\"NÃO DEU\"\"\""
   ]
  },
  {
   "cell_type": "code",
   "execution_count": 32,
   "id": "d53bae1c",
   "metadata": {},
   "outputs": [
    {
     "name": "stdout",
     "output_type": "stream",
     "text": [
      "                 time   lat   lon       pm10      3763_long       3763_lat  \\\n",
      "0 2017-10-14 11:30:00  36.5 -10.0  42.453941 -167265.612117 -350049.532044   \n",
      "1 2017-10-14 11:30:00  36.5  -9.9  42.392410 -158305.172793 -350218.603496   \n",
      "2 2017-10-14 11:30:00  36.5  -9.8  42.162560 -149344.875659 -350378.361097   \n",
      "3 2017-10-14 11:30:00  36.5  -9.7  41.917164 -140384.712685 -350528.806258   \n",
      "4 2017-10-14 11:30:00  36.5  -9.6  42.237843 -131424.675835 -350669.940311   \n",
      "\n",
      "  nome_estac  \n",
      "0        NaN  \n",
      "1        NaN  \n",
      "2        NaN  \n",
      "3        NaN  \n",
      "4        NaN  \n",
      "[nan]\n"
     ]
    },
    {
     "data": {
      "text/plain": [
       "'NÃO DEU'"
      ]
     },
     "execution_count": 32,
     "metadata": {},
     "output_type": "execute_result"
    }
   ],
   "source": [
    "gdf_min = gdf[['nome_estac', 'longitude', 'latitude']]\n",
    "gdf_min = gdf_min.rename(columns={\n",
    "    'latitude': 'lat',\n",
    "    'longitude': 'lon'\n",
    "})\n",
    "cam2017_estac =  camaras2017.merge(gdf_min, on=['lat', 'lon'], how='left')\n",
    "print(cam2017_estac.head())\n",
    "print(cam2017_estac[\"nome_estac\"].unique())\n",
    "\n",
    "\"\"\"NÃO DEU\"\"\"\n"
   ]
  },
  {
   "cell_type": "code",
   "execution_count": 33,
   "id": "91805269",
   "metadata": {},
   "outputs": [
    {
     "name": "stdout",
     "output_type": "stream",
     "text": [
      "             3763_lat      3763_long\n",
      "755040 -350049.532044 -167265.612117\n",
      "755041 -350218.603496 -158305.172793\n",
      "755042 -350378.361097 -149344.875659\n",
      "755043 -350528.806258 -140384.712685\n",
      "755044 -350669.940311 -131424.675835\n",
      "...               ...            ...\n",
      "757675  371319.110964  133166.524410\n",
      "757676  371482.524421  141320.872736\n",
      "757677  371655.653689  149475.251732\n",
      "757678  371838.499941  157629.663144\n",
      "757679  372031.064418  165784.108715\n",
      "\n",
      "[2640 rows x 2 columns]\n",
      "nº de coordenadas unicas: 2640\n",
      "entries no df inteiro: 13200\n",
      "13200\n"
     ]
    }
   ],
   "source": [
    "print(camaras2017[['3763_lat', '3763_long']].drop_duplicates())\n",
    "print(\"nº de coordenadas unicas:\", len(camaras2017[['3763_lat', '3763_long']].drop_duplicates()))\n",
    "print(\"entries no df inteiro:\", camaras2017.shape[0])\n",
    "print(5 * 2640)"
   ]
  },
  {
   "cell_type": "code",
   "execution_count": 34,
   "id": "2f9646c7",
   "metadata": {},
   "outputs": [
    {
     "name": "stdout",
     "output_type": "stream",
     "text": [
      "             3763_lat      3763_long\n",
      "438240 -350049.532044 -167265.612117\n",
      "438241 -350218.603496 -158305.172793\n",
      "438242 -350378.361097 -149344.875659\n",
      "438243 -350528.806258 -140384.712685\n",
      "438244 -350669.940311 -131424.675835\n",
      "...               ...            ...\n",
      "440875  371319.110964  133166.524410\n",
      "440876  371482.524421  141320.872736\n",
      "440877  371655.653689  149475.251732\n",
      "440878  371838.499941  157629.663144\n",
      "440879  372031.064418  165784.108715\n",
      "\n",
      "[2640 rows x 2 columns]\n",
      "nº de coordenadas unicas: 2640\n",
      "entries no df inteiro: 18480\n",
      "18480\n"
     ]
    }
   ],
   "source": [
    "print(camaras2018[['3763_lat', '3763_long']].drop_duplicates())\n",
    "print(\"nº de coordenadas unicas:\", len(camaras2018[['3763_lat', '3763_long']].drop_duplicates()))\n",
    "print(\"entries no df inteiro:\", camaras2018.shape[0])\n",
    "print(7 * 2640)"
   ]
  },
  {
   "cell_type": "code",
   "execution_count": 35,
   "id": "f5c69c3b",
   "metadata": {},
   "outputs": [
    {
     "data": {
      "text/plain": [
       "np.True_"
      ]
     },
     "execution_count": 35,
     "metadata": {},
     "output_type": "execute_result"
    }
   ],
   "source": [
    "(camaras2017[['3763_lat', '3763_long']].iloc[:-2640].values == camaras2017[['3763_lat', '3763_long']].iloc[2640:].values).all()"
   ]
  },
  {
   "cell_type": "code",
   "execution_count": 36,
   "id": "97737483",
   "metadata": {},
   "outputs": [
    {
     "data": {
      "text/plain": [
       "np.True_"
      ]
     },
     "execution_count": 36,
     "metadata": {},
     "output_type": "execute_result"
    }
   ],
   "source": [
    "(camaras2018[['3763_lat', '3763_long']].iloc[:-2640].values == camaras2018[['3763_lat', '3763_long']].iloc[2640:].values).all()"
   ]
  },
  {
   "cell_type": "code",
   "execution_count": 37,
   "id": "2dad6cab",
   "metadata": {},
   "outputs": [
    {
     "data": {
      "text/plain": [
       "'CONCLUSÃO: coordenadas repetem passado 2640 entradas'"
      ]
     },
     "execution_count": 37,
     "metadata": {},
     "output_type": "execute_result"
    }
   ],
   "source": [
    "\"\"\"CONCLUSÃO: coordenadas repetem passado 2640 entradas\"\"\""
   ]
  },
  {
   "cell_type": "code",
   "execution_count": 38,
   "id": "4abd9a33",
   "metadata": {},
   "outputs": [
    {
     "name": "stdout",
     "output_type": "stream",
     "text": [
      "time         2017-10-14 11:30:00\n",
      "lat                         43.0\n",
      "lon                         -6.1\n",
      "pm10                   32.025784\n",
      "3763_long          165784.108715\n",
      "3763_lat           372031.064418\n",
      "Name: 757679, dtype: object\n"
     ]
    }
   ],
   "source": [
    "treecam2017 = camaras2017.iloc[:2640]\n",
    "print(treecam2017.iloc[-1])\n",
    "coord_array = treecam2017[['3763_lat', '3763_long']].to_numpy()\n",
    "station_array = gdf[['3763_lat', '3763_long']].to_numpy()\n",
    "tree = cKDTree(station_array)\n",
    "distances, indices = tree.query(coord_array, k=1)"
   ]
  },
  {
   "cell_type": "code",
   "execution_count": 39,
   "id": "2b80e6a8",
   "metadata": {},
   "outputs": [
    {
     "name": "stdout",
     "output_type": "stream",
     "text": [
      "['David Neto' 'Malpique' 'Joaquim Magalhães' 'Cerro' 'Monte Chãos'\n",
      " 'Sonega' 'Terena' 'Cascais - Escola da Cidadela' 'Santiago do Cacém'\n",
      " 'Monte Velho' 'Paio Pires' 'Arcos' 'Quebedo' 'Camarinha' 'Fernando Pó'\n",
      " 'Laranjeiro' 'Quinta do Marquês' 'Fidalguinhos' 'Restelo' 'Beato'\n",
      " 'Lavradio' 'Mem Martins' 'Odivelas-Ramada' 'Olivais' 'Alverca'\n",
      " 'Loures-Centro' 'Chamusca' 'Lourinhã' 'Fundão' 'Ervedeira'\n",
      " 'Instituto Geofísico de Coimbra' 'Montemor-o-Velho'\n",
      " 'Coimbra/ Avenida Fernão Magalhães' 'Fornelo do Monte' 'Ílhavo' 'Aveiro'\n",
      " 'Estarreja' 'Santa Combinha' 'Meco-Perafita' 'Anta-Espinho' 'Douro Norte'\n",
      " 'Sobreiras-Lordelo do Ouro' 'Avintes'\n",
      " 'Pe Moreira Neves-Castelões de Cepeda' 'Mindelo-Vila do Conde'\n",
      " 'Seara-Matosinhos' 'Leça do Balio-Matosinhos' 'Ermesinde-Valongo'\n",
      " 'D.Manuel II-Vermoim' 'Burgães-Santo Tirso' 'Paços de Ferreira'\n",
      " 'Cónego Dr. Manuel Faria-Azurém' 'Frossos-Braga'\n",
      " 'Fr Bartolomeu Mártires-S.Vitor' 'Minho-Lima']\n",
      "55\n"
     ]
    },
    {
     "name": "stderr",
     "output_type": "stream",
     "text": [
      "/tmp/ipykernel_3406/1059474684.py:1: SettingWithCopyWarning: \n",
      "A value is trying to be set on a copy of a slice from a DataFrame.\n",
      "Try using .loc[row_indexer,col_indexer] = value instead\n",
      "\n",
      "See the caveats in the documentation: https://pandas.pydata.org/pandas-docs/stable/user_guide/indexing.html#returning-a-view-versus-a-copy\n",
      "  treecam2017['nearest_station'] = gdf.iloc[indices]['nome_estac'].values\n"
     ]
    }
   ],
   "source": [
    "treecam2017['nearest_station'] = gdf.iloc[indices]['nome_estac'].values\n",
    "\n",
    "print(treecam2017[\"nearest_station\"].unique())\n",
    "print(len(treecam2017[\"nearest_station\"].unique()))"
   ]
  },
  {
   "cell_type": "code",
   "execution_count": 40,
   "id": "43ffcf82",
   "metadata": {},
   "outputs": [
    {
     "name": "stdout",
     "output_type": "stream",
     "text": [
      "[None 'Joaquim Magalhães' 'David Neto' 'Malpique' 'Cerro' 'Sonega'\n",
      " 'Monte Chãos' 'Santiago do Cacém' 'Monte Velho' 'Quebedo' 'Camarinha'\n",
      " 'Restelo' 'Laranjeiro' 'Paio Pires' 'Fidalguinhos' 'Arcos' 'Fernando Pó'\n",
      " 'Terena' 'Cascais - Escola da Cidadela' 'Quinta do Marquês'\n",
      " 'Alfragide/Amadora' 'Avenida da Liberdade' 'Beato' 'Escavadeira'\n",
      " 'Lavradio' 'Mem Martins' 'Reboleira' 'Santa Cruz de Benfica'\n",
      " 'Entrecampos' 'Olivais' 'Odivelas-Ramada' 'Loures-Centro' 'Alverca'\n",
      " 'Lourinhã' 'Chamusca' 'Ervedeira' 'Montemor-o-Velho'\n",
      " 'Coimbra/ Avenida Fernão Magalhães' 'Instituto Geofísico de Coimbra'\n",
      " 'Fundão' 'Ílhavo' 'Aveiro' 'Fornelo do Monte' 'Estarreja' 'Anta-Espinho'\n",
      " 'João Gomes Laranjo-S.Hora' 'Sobreiras-Lordelo do Ouro'\n",
      " 'Francisco Sá Carneiro-Campanha' 'Avintes' 'Meco-Perafita'\n",
      " 'Seara-Matosinhos' 'Custóias-Matosinhos' 'Ermesinde-Valongo'\n",
      " 'Pe Moreira Neves-Castelões de Cepeda' 'Mindelo-Vila do Conde'\n",
      " 'VNTelha-Maia' 'D.Manuel II-Vermoim' 'Leça do Balio-Matosinhos'\n",
      " 'Paços de Ferreira' 'Burgães-Santo Tirso'\n",
      " 'Cónego Dr. Manuel Faria-Azurém' 'Douro Norte'\n",
      " 'Fr Bartolomeu Mártires-S.Vitor' 'Frossos-Braga' 'Santa Combinha'\n",
      " 'Minho-Lima']\n",
      "66\n",
      "755040    None\n",
      "755041    None\n",
      "755042    None\n",
      "755043    None\n",
      "755044    None\n",
      "          ... \n",
      "757675    None\n",
      "757676    None\n",
      "757677    None\n",
      "757678    None\n",
      "757679    None\n",
      "Name: nearest_station, Length: 2640, dtype: object\n"
     ]
    }
   ],
   "source": [
    "distance_matrix = cdist(coord_array, station_array)\n",
    "station_idx, coord_idx = linear_sum_assignment(distance_matrix.T)\n",
    "treecam2017 = treecam2017.copy()\n",
    "treecam2017['nearest_station'] = None\n",
    "treecam2017.iloc[coord_idx, treecam2017.columns.get_loc('nearest_station')] = gdf.iloc[station_idx]['nome_estac'].values\n",
    "\n",
    "print(treecam2017[\"nearest_station\"].unique())\n",
    "print(len(treecam2017[\"nearest_station\"].unique()))\n",
    "print(treecam2017[\"nearest_station\"])"
   ]
  },
  {
   "cell_type": "code",
   "execution_count": 41,
   "id": "7e056f79",
   "metadata": {},
   "outputs": [
    {
     "name": "stdout",
     "output_type": "stream",
     "text": [
      "755040    None\n",
      "755041    None\n",
      "755042    None\n",
      "755043    None\n",
      "755044    None\n",
      "          ... \n",
      "757675    None\n",
      "757676    None\n",
      "757677    None\n",
      "757678    None\n",
      "757679    None\n",
      "Name: nearest_station, Length: 2640, dtype: object\n"
     ]
    }
   ],
   "source": [
    "print(treecam2017[\"nearest_station\"])"
   ]
  },
  {
   "cell_type": "code",
   "execution_count": 42,
   "id": "3d1775dc",
   "metadata": {},
   "outputs": [],
   "source": [
    "treecam2017.to_excel(\"cams/2017_nearest_hungarian.xlsx\")"
   ]
  },
  {
   "cell_type": "code",
   "execution_count": 43,
   "id": "4f2ca333",
   "metadata": {},
   "outputs": [
    {
     "name": "stdout",
     "output_type": "stream",
     "text": [
      "        Data    Alverca  Anta-Espinho      Arcos     Aveiro  \\\n",
      "0 2017-10-14  54.300000     42.208333  54.062500  44.791667   \n",
      "1 2017-10-15  59.066667     63.333333  49.929167  73.458333   \n",
      "2 2017-10-16  64.258333     54.500000  64.600000  93.000000   \n",
      "3 2017-10-17  28.808333     17.541667  31.158333  45.000000   \n",
      "4 2017-10-18  11.125000      9.458333  10.304167  16.083333   \n",
      "\n",
      "   Avenida da Liberdade    Avintes  Burgães-Santo Tirso  \\\n",
      "0             61.962500  31.500000             4.222222   \n",
      "1             57.408333  32.000000             1.545455   \n",
      "2             67.820833        NaN            30.600000   \n",
      "3             23.591667  22.571429            23.812500   \n",
      "4             13.220833   9.454545             6.565217   \n",
      "\n",
      "   Cascais - Escola da Cidadela      Cerro  ...  Santa Cruz de Benfica  \\\n",
      "0                     53.904167  32.041667  ...              71.808333   \n",
      "1                     57.825000  30.841667  ...              61.808696   \n",
      "2                           NaN  49.977778  ...              78.937500   \n",
      "3                           NaN  19.094737  ...                    NaN   \n",
      "4                           NaN  14.810000  ...              21.021429   \n",
      "\n",
      "     Santana  Santiago do Cacém  São Gonçalo   São João  Seara-Matosinhos  \\\n",
      "0  51.045833          36.916667    56.933333  79.258333         40.500000   \n",
      "1  52.725000          39.250000    54.883333  59.991667         56.500000   \n",
      "2   9.433333          82.695652     9.970833  15.283333         55.666667   \n",
      "3  11.787500          46.125000     8.908333  19.254167         23.791667   \n",
      "4  17.429167          30.941176    15.658333  24.783333          9.625000   \n",
      "\n",
      "      Sonega     Terena  VNTelha-Maia  proporção  \n",
      "0  33.083333  55.083333     47.833333   0.833333  \n",
      "1  31.250000  58.375000     59.291667   0.800000  \n",
      "2  34.916667  59.208333     42.461538   0.783333  \n",
      "3  11.791667        NaN     18.285714   0.783333  \n",
      "4   5.666667  21.666667     10.916667   0.850000  \n",
      "\n",
      "[5 rows x 62 columns]\n"
     ]
    }
   ],
   "source": [
    "com5_2017 = pd.read_excel('apa/F5media2017.xlsx', header=0)\n",
    "com19_2017= pd.read_excel('apa/Fmedia2017.xlsx', header=0)\n",
    "\n",
    "print(com5_2017.head())"
   ]
  },
  {
   "cell_type": "code",
   "execution_count": 44,
   "id": "bf5f9560",
   "metadata": {},
   "outputs": [],
   "source": [
    "if com5_2017.shape != com19_2017.shape or not all(com5_2017.columns == com19_2017.columns):\n",
    "    raise ValueError(\"DataFrames must have the same shape and column structure\")"
   ]
  },
  {
   "cell_type": "code",
   "execution_count": 45,
   "id": "ffefd2e7",
   "metadata": {},
   "outputs": [],
   "source": [
    "with open(\"2017_comparacao.txt\", \"w\") as f:\n",
    "    for col in com5_2017.columns:\n",
    "        non_null_df1 = com5_2017[col].notnull().sum()\n",
    "        non_null_df2 = com19_2017[col].notnull().sum()\n",
    "        f.write(f\"Column: {col}\\n\")\n",
    "        f.write(f\"  5 mínimos: {non_null_df1}\\n\")\n",
    "        f.write(f\"  19 mínimos: {non_null_df2}\\n\")\n",
    "        f.write(\"\\n\")  # Add space between columns"
   ]
  },
  {
   "cell_type": "code",
   "execution_count": 46,
   "id": "1674a95f",
   "metadata": {},
   "outputs": [],
   "source": [
    "com5_2018 = pd.read_excel('apa/F5media2018.xlsx', header=0)\n",
    "com19_2018= pd.read_excel('apa/Fmedia2018.xlsx', header=0)\n",
    "\n",
    "if com5_2018.shape != com19_2018.shape or not all(com5_2018.columns == com19_2018.columns):\n",
    "    raise ValueError(\"DataFrames must have the same shape and column structure\")\n",
    "\n",
    "with open(\"2018_comparacao.txt\", \"w\") as f:\n",
    "    for col in com5_2018.columns:\n",
    "        non_null_df1 = com5_2018[col].notnull().sum()\n",
    "        non_null_df2 = com19_2018[col].notnull().sum()\n",
    "        f.write(f\"Column: {col}\\n\")\n",
    "        f.write(f\"  5 mínimos: {non_null_df1}\\n\")\n",
    "        f.write(f\"  19 mínimos: {non_null_df2}\\n\")\n",
    "        f.write(\"\\n\")  # Add space between columns\n",
    "        "
   ]
  },
  {
   "cell_type": "code",
   "execution_count": 47,
   "id": "4aeb6a83",
   "metadata": {},
   "outputs": [
    {
     "name": "stdout",
     "output_type": "stream",
     "text": [
      "   Estacao id                    Estacao nome Concelho nome Freguesia nome  \\\n",
      "0        1021             Custóias-Matosinhos    Matosinhos       Custoias   \n",
      "1        1023               Ermesinde-Valongo       Valongo      Ermesinde   \n",
      "2        1024             D.Manuel II-Vermoim          Maia        Vermoim   \n",
      "3        1025                   Meco-Perafita    Matosinhos       Perafita   \n",
      "4        1028  Francisco Sá Carneiro-Campanha         Porto       Campanhã   \n",
      "\n",
      "        Zona nome Influencia nome Ambiente nome  Longitude   Latitude  \\\n",
      "0  Porto Litoral            Fundo     Suburbana  -8.644844  41.199806   \n",
      "1  Porto Litoral            Fundo        Urbana  -8.552600  41.206604   \n",
      "2  Porto Litoral          Tráfego        Urbana  -8.618715  41.235560   \n",
      "3  Porto Litoral       Industrial     Suburbana  -8.713092  41.232346   \n",
      "4  Porto Litoral          Tráfego        Urbana  -8.590847  41.162792   \n",
      "\n",
      "                           Rua  Altitude estacao Data inicio  \\\n",
      "0         Rua Nova de São Gens             100.0  1998-09-01   \n",
      "1              Rua 25 de Abril             140.0  1998-10-01   \n",
      "2         Avenida D. Manuel II              90.0  1999-11-01   \n",
      "3                  Rua do Meco              25.0  2002-08-01   \n",
      "4  Praça Francisco Sá Carneiro             146.0  2000-09-19   \n",
      "\n",
      "                               Rede  \\\n",
      "0  Rede de Qualidade do Ar do Norte   \n",
      "1  Rede de Qualidade do Ar do Norte   \n",
      "2  Rede de Qualidade do Ar do Norte   \n",
      "3  Rede de Qualidade do Ar do Norte   \n",
      "4  Rede de Qualidade do Ar do Norte   \n",
      "\n",
      "                                         Instituicao    Contato Estado  \n",
      "0  Comissão de Coordenação e Desenvolvimento Regi...  226086300      q  \n",
      "1  Comissão de Coordenação e Desenvolvimento Regi...  226086300      q  \n",
      "2  Comissão de Coordenação e Desenvolvimento Regi...  226086300      q  \n",
      "3  Comissão de Coordenação e Desenvolvimento Regi...  226086300      q  \n",
      "4  Comissão de Coordenação e Desenvolvimento Regi...  226086300      q  \n"
     ]
    }
   ],
   "source": [
    "info_estac = pd.read_excel(\"apa/estacoes-qualar.xlsx\", header=0)\n",
    "print(info_estac.head())"
   ]
  },
  {
   "cell_type": "code",
   "execution_count": 48,
   "id": "218bf0ec",
   "metadata": {},
   "outputs": [
    {
     "name": "stdout",
     "output_type": "stream",
     "text": [
      "    codigo_est                      nome_estac  data_inici    data_fim  \\\n",
      "0  STA-PT01053                         Avintes  12/07/2010  0000/00/00   \n",
      "1  STA-PT01021             Custóias-Matosinhos  01/09/1998  0000/00/00   \n",
      "2  STA-PT01023               Ermesinde-Valongo  01/10/1998  0000/00/00   \n",
      "3  STA-PT01024             D.Manuel II-Vermoim  01/11/1999  0000/00/00   \n",
      "4  STA-PT01028  Francisco Sá Carneiro-Campanha  19/09/2000  0000/00/00   \n",
      "\n",
      "    latitude  longitude   rede_codig                         rede_nome  \\\n",
      "0  41.098187  -8.554351  NET-PT00015  Rede de Qualidade do Ar do Norte   \n",
      "1  41.199805  -8.644844  NET-PT00015  Rede de Qualidade do Ar do Norte   \n",
      "2  41.206605  -8.552600  NET-PT00015  Rede de Qualidade do Ar do Norte   \n",
      "3  41.235563  -8.618715  NET-PT00015  Rede de Qualidade do Ar do Norte   \n",
      "4  41.162791  -8.590847  NET-PT00015  Rede de Qualidade do Ar do Norte   \n",
      "\n",
      "  rede_aqd_o                   geometry     3763_long       3763_lat  \n",
      "0   regional  POINT (-8.55435 41.09819) -35388.726933  158867.677319  \n",
      "1   regional  POINT (-8.64484 41.19981) -42924.770151  170193.796239  \n",
      "2   regional   POINT (-8.5526 41.20661) -35183.611562  170907.573844  \n",
      "3   regional  POINT (-8.61872 41.23556) -40710.864377  174152.466336  \n",
      "4   regional  POINT (-8.59085 41.16279) -38417.071842  166057.858413  \n"
     ]
    }
   ],
   "source": [
    "print(gdf.head())"
   ]
  },
  {
   "cell_type": "code",
   "execution_count": 49,
   "id": "946a0da3",
   "metadata": {},
   "outputs": [
    {
     "name": "stdout",
     "output_type": "stream",
     "text": [
      "    codigo_est                      nome_estac  data_inici    data_fim  \\\n",
      "0  STA-PT01053                         Avintes  12/07/2010  0000/00/00   \n",
      "1  STA-PT01021             Custóias-Matosinhos  01/09/1998  0000/00/00   \n",
      "2  STA-PT01023               Ermesinde-Valongo  01/10/1998  0000/00/00   \n",
      "3  STA-PT01024             D.Manuel II-Vermoim  01/11/1999  0000/00/00   \n",
      "4  STA-PT01028  Francisco Sá Carneiro-Campanha  19/09/2000  0000/00/00   \n",
      "\n",
      "    latitude  longitude   rede_codig                         rede_nome  \\\n",
      "0  41.098187  -8.554351  NET-PT00015  Rede de Qualidade do Ar do Norte   \n",
      "1  41.199805  -8.644844  NET-PT00015  Rede de Qualidade do Ar do Norte   \n",
      "2  41.206605  -8.552600  NET-PT00015  Rede de Qualidade do Ar do Norte   \n",
      "3  41.235563  -8.618715  NET-PT00015  Rede de Qualidade do Ar do Norte   \n",
      "4  41.162791  -8.590847  NET-PT00015  Rede de Qualidade do Ar do Norte   \n",
      "\n",
      "  rede_aqd_o                   geometry     3763_long       3763_lat  \\\n",
      "0   regional  POINT (-8.55435 41.09819) -35388.726933  158867.677319   \n",
      "1   regional  POINT (-8.64484 41.19981) -42924.770151  170193.796239   \n",
      "2   regional   POINT (-8.5526 41.20661) -35183.611562  170907.573844   \n",
      "3   regional  POINT (-8.61872 41.23556) -40710.864377  174152.466336   \n",
      "4   regional  POINT (-8.59085 41.16279) -38417.071842  166057.858413   \n",
      "\n",
      "   Estacao id Influencia nome Ambiente nome  \n",
      "0        1053           Fundo        Urbana  \n",
      "1        1021           Fundo     Suburbana  \n",
      "2        1023           Fundo        Urbana  \n",
      "3        1024         Tráfego        Urbana  \n",
      "4        1028         Tráfego        Urbana  \n"
     ]
    }
   ],
   "source": [
    "df_merged = gdf.merge(\n",
    "    info_estac[['Estacao nome', 'Estacao id', 'Influencia nome', 'Ambiente nome']],\n",
    "    left_on='nome_estac',\n",
    "    right_on='Estacao nome',\n",
    "    how='left'\n",
    ")\n",
    "\n",
    "df_merged = df_merged.drop(columns=['Estacao nome'])\n",
    "print(df_merged.head())\n",
    "\n",
    "gdf.to_excel(\"apa/estacoes_original.xlsx\")\n",
    "df_merged.to_excel(\"apa/estacoes_infoextra.xlsx\")"
   ]
  },
  {
   "cell_type": "code",
   "execution_count": 50,
   "id": "e4ae0f7e",
   "metadata": {},
   "outputs": [
    {
     "name": "stdout",
     "output_type": "stream",
     "text": [
      "Index([2017-10-14, 2017-10-15, 2017-10-16, 2017-10-17, 2017-10-18], dtype='object', name='Data')\n",
      "              Alverca  Anta-Espinho      Arcos     Aveiro  \\\n",
      "Data                                                        \n",
      "2017-10-14  54.300000     42.208333  54.062500  44.791667   \n",
      "2017-10-15  59.066667     63.333333  49.929167  73.458333   \n",
      "2017-10-16  64.258333     54.500000  64.600000  93.000000   \n",
      "2017-10-17  28.808333     17.541667  31.158333  45.000000   \n",
      "2017-10-18  11.125000      9.458333  10.304167  16.083333   \n",
      "\n",
      "            Avenida da Liberdade    Avintes  Burgães-Santo Tirso  \\\n",
      "Data                                                               \n",
      "2017-10-14             61.962500  31.500000             4.222222   \n",
      "2017-10-15             57.408333  32.000000             1.545455   \n",
      "2017-10-16             67.820833        NaN            30.600000   \n",
      "2017-10-17             23.591667  22.571429            23.812500   \n",
      "2017-10-18             13.220833   9.454545             6.565217   \n",
      "\n",
      "            Cascais - Escola da Cidadela      Cerro   Chamusca  ...  \\\n",
      "Data                                                            ...   \n",
      "2017-10-14                     53.904167  32.041667  36.033333  ...   \n",
      "2017-10-15                     57.825000  30.841667  47.195833  ...   \n",
      "2017-10-16                           NaN  49.977778  82.329167  ...   \n",
      "2017-10-17                           NaN  19.094737  65.591667  ...   \n",
      "2017-10-18                           NaN  14.810000   8.529167  ...   \n",
      "\n",
      "            Santa Cruz de Benfica    Santana  Santiago do Cacém  São Gonçalo  \\\n",
      "Data                                                                           \n",
      "2017-10-14              71.808333  51.045833          36.916667    56.933333   \n",
      "2017-10-15              61.808696  52.725000          39.250000    54.883333   \n",
      "2017-10-16              78.937500   9.433333          82.695652     9.970833   \n",
      "2017-10-17                    NaN  11.787500          46.125000     8.908333   \n",
      "2017-10-18              21.021429  17.429167          30.941176    15.658333   \n",
      "\n",
      "             São João  Seara-Matosinhos     Sonega     Terena  VNTelha-Maia  \\\n",
      "Data                                                                          \n",
      "2017-10-14  79.258333         40.500000  33.083333  55.083333     47.833333   \n",
      "2017-10-15  59.991667         56.500000  31.250000  58.375000     59.291667   \n",
      "2017-10-16  15.283333         55.666667  34.916667  59.208333     42.461538   \n",
      "2017-10-17  19.254167         23.791667  11.791667        NaN     18.285714   \n",
      "2017-10-18  24.783333          9.625000   5.666667  21.666667     10.916667   \n",
      "\n",
      "            proporção  \n",
      "Data                   \n",
      "2017-10-14   0.833333  \n",
      "2017-10-15   0.800000  \n",
      "2017-10-16   0.783333  \n",
      "2017-10-17   0.783333  \n",
      "2017-10-18   0.850000  \n",
      "\n",
      "[5 rows x 61 columns]\n"
     ]
    }
   ],
   "source": [
    "print(Fmedia2017.index)\n",
    "print(Fmedia2017.head())\n",
    "longtable2017 = Fmedia2017.reset_index().rename(columns={'index': 'Data'})"
   ]
  },
  {
   "cell_type": "code",
   "execution_count": 51,
   "id": "89147fa9",
   "metadata": {},
   "outputs": [
    {
     "name": "stdout",
     "output_type": "stream",
     "text": [
      "RangeIndex(start=0, stop=5, step=1)\n"
     ]
    }
   ],
   "source": [
    "print(longtable2017.index)"
   ]
  },
  {
   "cell_type": "code",
   "execution_count": 52,
   "id": "1292b001",
   "metadata": {},
   "outputs": [
    {
     "name": "stdout",
     "output_type": "stream",
     "text": [
      "           Data    Estacao       pm10\n",
      "0    2017-10-14    Alverca  54.300000\n",
      "1    2017-10-15    Alverca  59.066667\n",
      "2    2017-10-16    Alverca  64.258333\n",
      "3    2017-10-17    Alverca  28.808333\n",
      "4    2017-10-18    Alverca  11.125000\n",
      "..          ...        ...        ...\n",
      "300  2017-10-14  proporção   0.833333\n",
      "301  2017-10-15  proporção   0.800000\n",
      "302  2017-10-16  proporção   0.783333\n",
      "303  2017-10-17  proporção   0.783333\n",
      "304  2017-10-18  proporção   0.850000\n",
      "\n",
      "[305 rows x 3 columns]\n"
     ]
    }
   ],
   "source": [
    "longtable2017 = pd.melt(longtable2017, id_vars=['Data'], var_name='Estacao', value_name='pm10')\n",
    "print(longtable2017)"
   ]
  },
  {
   "cell_type": "code",
   "execution_count": 53,
   "id": "e18c272d",
   "metadata": {},
   "outputs": [
    {
     "name": "stdout",
     "output_type": "stream",
     "text": [
      "{'Avintes': 1053, 'Custóias-Matosinhos': 1021, 'Ermesinde-Valongo': 1023, 'D.Manuel II-Vermoim': 1024, 'Francisco Sá Carneiro-Campanha': 1028, 'João Gomes Laranjo-S.Hora': 1030, 'VNTelha-Maia': 1031, 'Leça do Balio-Matosinhos': 1034, 'Estarreja': 2004, 'Lavradio': 3055, 'Paio Pires': 3063, 'Beato': 3070, 'Olivais': 3071, 'Entrecampos': 3072, 'Avenida da Liberdade': 3075, 'Alfragide/Amadora': 3082, 'Monte Chãos': 4001, 'Monte Velho': 4002, 'Sonega': 4003, 'Santiago do Cacém': 4004, 'Odivelas-Ramada': 3097, 'Loures-Centro': 3085, 'Fr Bartolomeu Mártires-S.Vitor': 1041, 'Frossos-Braga': 1042, 'Pe Moreira Neves-Castelões de Cepeda': 1043, 'Paços de Ferreira': 1044, 'Cónego Dr. Manuel Faria-Azurém': 1046, 'Douro Norte': 1048, 'Joaquim Magalhães': 5007, 'David Neto': 5011, 'Meco-Perafita': 1025, 'Aveiro': 2017, 'Ílhavo': 2018, 'Ervedeira': 2019, 'Instituto Geofísico de Coimbra': 2016, 'Fundão': 2020, 'Reboleira': 3084, 'Restelo': 3087, 'Arcos': 3093, 'Quebedo': 3094, 'Quinta do Marquês': 3091, 'Mem Martins': 3089, 'Camarinha': 3092, 'Chamusca': 3096, 'Malpique': 5008, 'Cerro': 5012, 'Laranjeiro': 3083, 'Terena': 4006, 'Minho-Lima': 1047, 'Fornelo do Monte': 2021, 'Coimbra/ Avenida Fernão Magalhães': 2006, 'Alverca': 3101, 'Lourinhã': 3102, 'Fernando Pó': 3099, 'Mindelo-Vila do Conde': 1051, 'Burgães-Santo Tirso': 1052, 'Montemor-o-Velho': 2022, 'Sobreiras-Lordelo do Ouro': 1050, 'Santa Cruz de Benfica': 3100, 'Fidalguinhos': 3103, 'Anta-Espinho': 1054, 'Seara-Matosinhos': 1055, 'Cascais - Escola da Cidadela': 3104, 'Santa Combinha': 1100, 'Escavadeira': 3095}\n"
     ]
    }
   ],
   "source": [
    "#print(df_merged.iloc[:, 12])\n",
    "mapa = df_merged.set_index('nome_estac')['Estacao id'].to_dict()\n",
    "print(mapa)"
   ]
  },
  {
   "cell_type": "code",
   "execution_count": 54,
   "id": "b795335c",
   "metadata": {},
   "outputs": [
    {
     "name": "stdout",
     "output_type": "stream",
     "text": [
      "           Data    Estacao       pm10\n",
      "0    2017-10-14     3101.0  54.300000\n",
      "1    2017-10-15     3101.0  59.066667\n",
      "2    2017-10-16     3101.0  64.258333\n",
      "3    2017-10-17     3101.0  28.808333\n",
      "4    2017-10-18     3101.0  11.125000\n",
      "..          ...        ...        ...\n",
      "300  2017-10-14  proporção   0.833333\n",
      "301  2017-10-15  proporção   0.800000\n",
      "302  2017-10-16  proporção   0.783333\n",
      "303  2017-10-17  proporção   0.783333\n",
      "304  2017-10-18  proporção   0.850000\n",
      "\n",
      "[305 rows x 3 columns]\n"
     ]
    }
   ],
   "source": [
    "longtable2017['Estacao'] = longtable2017['Estacao'].map(mapa).fillna(longtable2017['Estacao'])\n",
    "print(longtable2017)"
   ]
  },
  {
   "cell_type": "code",
   "execution_count": null,
   "id": "ab7f12ba",
   "metadata": {},
   "outputs": [],
   "source": [
    "longtable2017.to_excel(\"apa/longatable2017_formato1.xlsx\", index=False)"
   ]
  },
  {
   "cell_type": "code",
   "execution_count": 59,
   "id": "2f439ac7",
   "metadata": {},
   "outputs": [],
   "source": [
    "last_five = longtable2017.tail(5)\n",
    "rest = longtable2017.iloc[:-5]\n",
    "rest_sorted = rest.sort_values(by='Data')\n",
    "longtable2017_outro_formato = pd.concat([rest_sorted, last_five], ignore_index=True)\n",
    "#longtable2017_outro_formato.to_excel(\"apa/longatable2017_formato2.xlsx\", index=False)"
   ]
  },
  {
   "cell_type": "code",
   "execution_count": 60,
   "id": "6442498d",
   "metadata": {},
   "outputs": [
    {
     "name": "stdout",
     "output_type": "stream",
     "text": [
      "Index([2018-06-16, 2018-06-17, 2018-06-18, 2018-06-19, 2018-06-20, 2018-06-21,\n",
      "       2018-06-22],\n",
      "      dtype='object', name='Data')\n",
      "              Alverca  Anta-Espinho      Arcos     Aveiro  \\\n",
      "Data                                                        \n",
      "2018-06-16  17.816667     14.833333  17.733333  17.125000   \n",
      "2018-06-17  16.033333     24.541667  18.320833  19.500000   \n",
      "2018-06-18  17.416667     21.058824  28.637500  26.416667   \n",
      "2018-06-19        NaN      6.791667  32.028571  19.541667   \n",
      "2018-06-20        NaN     13.681818  36.491667  27.125000   \n",
      "\n",
      "            Avenida da Liberdade    Avintes  Burgães-Santo Tirso  \\\n",
      "Data                                                               \n",
      "2018-06-16             29.712500  16.611111             9.714286   \n",
      "2018-06-17             28.112500  18.619048            11.666667   \n",
      "2018-06-18             37.541667  18.733333            11.041667   \n",
      "2018-06-19             45.908333  16.045455            16.000000   \n",
      "2018-06-20             48.416667  27.200000            24.454545   \n",
      "\n",
      "            Cascais - Escola da Cidadela      Cerro   Chamusca  ...  \\\n",
      "Data                                                            ...   \n",
      "2018-06-16                     21.183333  14.014286  11.808333  ...   \n",
      "2018-06-17                     22.108333  13.287500  15.116667  ...   \n",
      "2018-06-18                     42.279167  14.016667  15.984615  ...   \n",
      "2018-06-19                     41.470833  15.191667  21.995833  ...   \n",
      "2018-06-20                     41.123810  14.458333  29.045833  ...   \n",
      "\n",
      "            Santa Cruz de Benfica    Santana  São Gonçalo   São João  \\\n",
      "Data                                                                   \n",
      "2018-06-16                    NaN  19.104167    15.270833  21.016667   \n",
      "2018-06-17                    NaN  19.575000    21.591667  24.179167   \n",
      "2018-06-18                    NaN  16.808333    33.400000  36.225000   \n",
      "2018-06-19                    NaN   7.058333    12.841667  17.795833   \n",
      "2018-06-20                    NaN  10.658333    11.616667  18.520833   \n",
      "\n",
      "            Seara-Matosinhos     Sonega     Terena  VNTelha-Maia  \\\n",
      "Data                                                               \n",
      "2018-06-16         28.833333  12.666667  13.333333     15.380952   \n",
      "2018-06-17         30.958333  15.291667  12.000000     22.210526   \n",
      "2018-06-18         21.450000  18.000000  16.000000     16.047619   \n",
      "2018-06-19         23.772727  17.416667  16.047619     13.904762   \n",
      "2018-06-20         25.000000  19.291667  25.333333     25.705882   \n",
      "\n",
      "            Alfragide/Amadora  proporção  \n",
      "Data                                      \n",
      "2018-06-16                NaN   0.850000  \n",
      "2018-06-17                NaN   0.850000  \n",
      "2018-06-18                NaN   0.850000  \n",
      "2018-06-19                NaN   0.850000  \n",
      "2018-06-20                NaN   0.866667  \n",
      "\n",
      "[5 rows x 61 columns]\n"
     ]
    }
   ],
   "source": [
    "print(Fmedia2018.index)\n",
    "print(Fmedia2018.head())\n",
    "longtable2018 = Fmedia2018.reset_index().rename(columns={'index': 'Data'})"
   ]
  },
  {
   "cell_type": "code",
   "execution_count": 62,
   "id": "5aacb2e4",
   "metadata": {},
   "outputs": [
    {
     "name": "stdout",
     "output_type": "stream",
     "text": [
      "           Data    Estacao       pm10\n",
      "0    2018-06-16    Alverca  17.816667\n",
      "1    2018-06-17    Alverca  16.033333\n",
      "2    2018-06-18    Alverca  17.416667\n",
      "3    2018-06-19    Alverca        NaN\n",
      "4    2018-06-20    Alverca        NaN\n",
      "..          ...        ...        ...\n",
      "422  2018-06-18  proporção   0.850000\n",
      "423  2018-06-19  proporção   0.850000\n",
      "424  2018-06-20  proporção   0.866667\n",
      "425  2018-06-21  proporção   0.833333\n",
      "426  2018-06-22  proporção   0.850000\n",
      "\n",
      "[427 rows x 3 columns]\n"
     ]
    }
   ],
   "source": [
    "longtable2018 = pd.melt(longtable2018, id_vars=['Data'], var_name='Estacao', value_name='pm10')\n",
    "print(longtable2018)"
   ]
  },
  {
   "cell_type": "code",
   "execution_count": 63,
   "id": "85d2e0b3",
   "metadata": {},
   "outputs": [
    {
     "name": "stdout",
     "output_type": "stream",
     "text": [
      "           Data    Estacao       pm10\n",
      "0    2018-06-16     3101.0  17.816667\n",
      "1    2018-06-17     3101.0  16.033333\n",
      "2    2018-06-18     3101.0  17.416667\n",
      "3    2018-06-19     3101.0        NaN\n",
      "4    2018-06-20     3101.0        NaN\n",
      "..          ...        ...        ...\n",
      "422  2018-06-18  proporção   0.850000\n",
      "423  2018-06-19  proporção   0.850000\n",
      "424  2018-06-20  proporção   0.866667\n",
      "425  2018-06-21  proporção   0.833333\n",
      "426  2018-06-22  proporção   0.850000\n",
      "\n",
      "[427 rows x 3 columns]\n"
     ]
    }
   ],
   "source": [
    "longtable2018['Estacao'] = longtable2018['Estacao'].map(mapa).fillna(longtable2018['Estacao'])\n",
    "print(longtable2018)"
   ]
  },
  {
   "cell_type": "code",
   "execution_count": 64,
   "id": "712ff52e",
   "metadata": {},
   "outputs": [],
   "source": [
    "longtable2018.to_excel(\"apa/longatable2018_formato1.xlsx\", index=False)"
   ]
  },
  {
   "cell_type": "code",
   "execution_count": null,
   "id": "3c9b4a20",
   "metadata": {},
   "outputs": [
    {
     "name": "stdout",
     "output_type": "stream",
     "text": [
      "                      time   lat   lon       pm10      3763_long  \\\n",
      "755040 2017-10-14 11:30:00  36.5 -10.0  42.453941 -167265.612117   \n",
      "755041 2017-10-14 11:30:00  36.5  -9.9  42.392410 -158305.172793   \n",
      "755042 2017-10-14 11:30:00  36.5  -9.8  42.162560 -149344.875659   \n",
      "755043 2017-10-14 11:30:00  36.5  -9.7  41.917164 -140384.712685   \n",
      "755044 2017-10-14 11:30:00  36.5  -9.6  42.237843 -131424.675835   \n",
      "\n",
      "             3763_lat  \n",
      "755040 -350049.532044  \n",
      "755041 -350218.603496  \n",
      "755042 -350378.361097  \n",
      "755043 -350528.806258  \n",
      "755044 -350669.940311  \n"
     ]
    }
   ],
   "source": [
    "\"\"\"9 vizinhos - https://www.google.com/maps/d/u/0/edit?mid=1OosQpm0BzMA6xXo_5GvOsZ7JpMByYFU&ll=39.087048646342055%2C-8.049999999999988&z=7\"\"\"\n",
    "print(camaras2017.head())"
   ]
  },
  {
   "cell_type": "code",
   "execution_count": 77,
   "id": "6468ae66",
   "metadata": {},
   "outputs": [
    {
     "name": "stdout",
     "output_type": "stream",
     "text": [
      "                      time   lat  lon       pm10      3763_long       3763_lat\n",
      "757675 2017-10-14 11:30:00  43.0 -6.5  45.348019  133166.524410  371319.110964\n",
      "757676 2017-10-14 11:30:00  43.0 -6.4  40.641777  141320.872736  371482.524421\n",
      "757677 2017-10-14 11:30:00  43.0 -6.3  36.728497  149475.251732  371655.653689\n",
      "757678 2017-10-14 11:30:00  43.0 -6.2  32.001675  157629.663144  371838.499941\n",
      "757679 2017-10-14 11:30:00  43.0 -6.1  32.025784  165784.108715  372031.064418\n"
     ]
    }
   ],
   "source": [
    "cams2017_cortado = camaras2017.iloc[:2640].copy()\n",
    "\n",
    "geodata2017cams = gpd.GeoDataFrame(\n",
    "    cams2017_cortado,\n",
    "    geometry=gpd.points_from_xy(\n",
    "        cams2017_cortado['3763_long'], \n",
    "        cams2017_cortado['3763_lat']\n",
    "    ),\n",
    "    crs=\"EPSG:3763\"\n",
    ")\n",
    "print(cams2017_cortado.tail(5))\n"
   ]
  },
  {
   "cell_type": "code",
   "execution_count": 79,
   "id": "d1dbdc74",
   "metadata": {},
   "outputs": [
    {
     "name": "stdout",
     "output_type": "stream",
     "text": [
      "                      time   lat   lon       pm10      3763_long  \\\n",
      "755040 2017-10-14 11:30:00  36.5 -10.0  42.453941 -167265.612117   \n",
      "755041 2017-10-14 11:30:00  36.5  -9.9  42.392410 -158305.172793   \n",
      "755042 2017-10-14 11:30:00  36.5  -9.8  42.162560 -149344.875659   \n",
      "755043 2017-10-14 11:30:00  36.5  -9.7  41.917164 -140384.712685   \n",
      "755044 2017-10-14 11:30:00  36.5  -9.6  42.237843 -131424.675835   \n",
      "...                    ...   ...   ...        ...            ...   \n",
      "757675 2017-10-14 11:30:00  43.0  -6.5  45.348019  133166.524410   \n",
      "757676 2017-10-14 11:30:00  43.0  -6.4  40.641777  141320.872736   \n",
      "757677 2017-10-14 11:30:00  43.0  -6.3  36.728497  149475.251732   \n",
      "757678 2017-10-14 11:30:00  43.0  -6.2  32.001675  157629.663144   \n",
      "757679 2017-10-14 11:30:00  43.0  -6.1  32.025784  165784.108715   \n",
      "\n",
      "             3763_lat                         geometry  \n",
      "755040 -350049.532044  POINT (-167265.612 -350049.532)  \n",
      "755041 -350218.603496  POINT (-158305.173 -350218.603)  \n",
      "755042 -350378.361097  POINT (-149344.876 -350378.361)  \n",
      "755043 -350528.806258  POINT (-140384.713 -350528.806)  \n",
      "755044 -350669.940311   POINT (-131424.676 -350669.94)  \n",
      "...               ...                              ...  \n",
      "757675  371319.110964    POINT (133166.524 371319.111)  \n",
      "757676  371482.524421    POINT (141320.873 371482.524)  \n",
      "757677  371655.653689    POINT (149475.252 371655.654)  \n",
      "757678  371838.499941      POINT (157629.663 371838.5)  \n",
      "757679  372031.064418    POINT (165784.109 372031.064)  \n",
      "\n",
      "[2640 rows x 7 columns]\n"
     ]
    }
   ],
   "source": [
    "print(geodata2017cams)"
   ]
  },
  {
   "cell_type": "code",
   "execution_count": 81,
   "id": "507c9dfa",
   "metadata": {},
   "outputs": [
    {
     "name": "stdout",
     "output_type": "stream",
     "text": [
      "   rede_aqd_o                         geometry      3763_long       3763_lat  \\\n",
      "0    regional    POINT (-35388.727 158867.677)  -35388.726933  158867.677319   \n",
      "1    regional     POINT (-42924.77 170193.796)  -42924.770151  170193.796239   \n",
      "2    regional    POINT (-35183.612 170907.574)  -35183.611562  170907.573844   \n",
      "3    regional    POINT (-40710.864 174152.466)  -40710.864377  174152.466336   \n",
      "4    regional    POINT (-38417.072 166057.858)  -38417.071842  166057.858413   \n",
      "..        ...                              ...            ...            ...   \n",
      "60   regional    POINT (-41240.984 147938.005)  -41240.983793  147938.005060   \n",
      "61   regional    POINT (-45229.611 168888.186)  -45229.611077  168888.185576   \n",
      "62   regional  POINT (-112752.967 -106543.046) -112752.967323 -106543.045842   \n",
      "63   regional    POINT (103912.518 212147.539)  103912.517850  212147.538525   \n",
      "64   regional   POINT (-81372.684 -111421.344)  -81372.683667 -111421.343717   \n",
      "\n",
      "    Estacao id Influencia nome Ambiente nome  \n",
      "0         1053           Fundo        Urbana  \n",
      "1         1021           Fundo     Suburbana  \n",
      "2         1023           Fundo        Urbana  \n",
      "3         1024         Tráfego        Urbana  \n",
      "4         1028         Tráfego        Urbana  \n",
      "..         ...             ...           ...  \n",
      "60        1054           Fundo     Suburbana  \n",
      "61        1055      Industrial        Urbana  \n",
      "62        3104           Fundo        Urbana  \n",
      "63        1100           Fundo         Rural  \n",
      "64        3095           Fundo        Urbana  \n",
      "\n",
      "[65 rows x 7 columns]\n"
     ]
    }
   ],
   "source": [
    "geodataestacoes= gpd.GeoDataFrame(\n",
    "    df_merged,\n",
    "    geometry=gpd.points_from_xy(\n",
    "        df_merged['3763_long'], \n",
    "        df_merged['3763_lat']\n",
    "    ),\n",
    "    crs=\"EPSG:3763\"\n",
    ")\n",
    "print(geodataestacoes.iloc[:, -7:])"
   ]
  },
  {
   "cell_type": "code",
   "execution_count": 86,
   "id": "6a3a34c3",
   "metadata": {},
   "outputs": [
    {
     "name": "stdout",
     "output_type": "stream",
     "text": [
      "[[-35388.72693303 158867.67731898]\n",
      " [-42924.77015087 170193.79623906]\n",
      " [-35183.61156175 170907.57384441]\n",
      " [-40710.86437655 174152.4663364 ]\n",
      " [-38417.07184248 166057.85841318]]\n",
      "[[-167265.61211736 -350049.53204386]\n",
      " [-158305.17279284 -350218.60349628]\n",
      " [-149344.87565942 -350378.36109687]\n",
      " [-140384.71268495 -350528.80625844]\n",
      " [-131424.67583459 -350669.94031139]]\n"
     ]
    }
   ],
   "source": [
    "station_coords = np.array(list(geodataestacoes.geometry.apply(lambda geom: (geom.x, geom.y))))\n",
    "cam_coords = np.array(list(geodata2017cams.geometry.apply(lambda geom: (geom.x, geom.y))))\n",
    "print(station_coords[:5])\n",
    "print(cam_coords[:5])"
   ]
  },
  {
   "cell_type": "code",
   "execution_count": 90,
   "id": "3808703d",
   "metadata": {},
   "outputs": [
    {
     "name": "stdout",
     "output_type": "stream",
     "text": [
      "[[ 3840.27682592  4570.47468883 11560.01294454 11823.0222478\n",
      "  11938.93013218 12193.00283581 12237.75046911 12968.57787167\n",
      "  16396.77914271]\n",
      " [ 3761.67623677  4626.67855144 11706.06538606 11745.43536609\n",
      "  12012.49555501 12049.94800892 12149.80591733 13014.96843242\n",
      "  16453.01209959]\n",
      " [ 4042.90126657  4472.50904248 11107.29103369 11270.48607049\n",
      "  12385.34485523 12490.11046165 12635.88929007 12820.63110169\n",
      "  16131.20445376]\n",
      " [ 4250.02767155  7326.2671149   7878.1262606   9879.7570067\n",
      "  10710.17440987 12254.45951132 15137.23985821 15707.26084432\n",
      "  16528.97378594]\n",
      " [ 4203.16952641  7015.70047242  8670.63608058 10047.72501252\n",
      "  10335.40403245 11516.81971632 15257.80215965 16537.64313286\n",
      "  17035.98080547]\n",
      " [ 3468.5922866   5510.76111617 10044.85123309 10920.7819824\n",
      "  11595.27383193 13032.77584365 13717.18821719 13764.39867905\n",
      "  14950.09674468]\n",
      " [ 6246.60531415  6687.30822309  7331.07521135  7711.49115655\n",
      "  12833.38852711 13060.92365554 14452.19243608 14656.90871229\n",
      "  16733.79879287]\n",
      " [ 3366.87522602  6035.39122778  9482.91700805 10722.79274811\n",
      "  11266.32838442 13395.21358717 14219.85362632 14302.50002747\n",
      "  14329.80553976]\n",
      " [ 5373.23438679  7069.53674028  7302.42864841  8629.52335886\n",
      "  12121.9779791  12970.20682421 14842.52964215 15546.51442294\n",
      "  15950.47717072]\n",
      " [ 5494.60398077  5697.48030533  8680.05920659  8810.10609709\n",
      "  13392.37421006 13644.60613762 14990.50598468 15216.40669604\n",
      "  15216.65818722]\n",
      " [ 2804.00410989  7520.34619769  8909.50595053 10531.96269737\n",
      "  11313.86728734 13501.75030721 13521.90299199 15218.39429214\n",
      "  16031.03171852]\n",
      " [ 3946.6637139   7469.28531988  8324.36617686 10461.1183124\n",
      "  10637.71615913 12378.94693935 14895.22090079 16562.80145843\n",
      "  16603.16777828]\n",
      " [ 3414.04164193  7773.22503112  8726.59869231  9908.31694722\n",
      "  11180.87005506 12126.91468987 14470.81663427 16547.38193311\n",
      "  17078.55030182]\n",
      " [ 6873.29759765  6981.24129313  7123.8987168   7227.96120525\n",
      "  14036.3151364  14153.33760044 14195.53694847 14311.04469284\n",
      "  17036.45906867]\n",
      " [ 4650.78747823  5239.61740109  9629.59154393  9927.03492275\n",
      "  12928.08486772 13587.32059481 14037.02469476 14243.35852602\n",
      "  15428.23707017]\n",
      " [ 4366.53485515  6815.96508833  9130.74088655 10298.61752103\n",
      "  10520.08001313 11546.88091082 15433.41326446 17291.10800633\n",
      "  17395.05928688]\n",
      " [ 6047.30728793  6921.89216523  7418.78839885  8149.0058001\n",
      "  13133.91626789 13565.64317208 15096.74026685 15476.24416686\n",
      "  16481.97550157]\n",
      " [ 2553.92356949  8550.14094693  9018.21685605  9254.71219779\n",
      "  12166.00506597 12342.6381302  13651.90757881 16157.85026523\n",
      "  16290.98587532]\n",
      " [ 3865.08946175  7431.72240696  8138.74360292 10324.03949797\n",
      "  11376.60946068 13449.22692285 14493.15647597 15820.58380676\n",
      "  15821.10849667]\n",
      " [ 2238.00118411  8868.86926245  8873.07478035  9253.03937617\n",
      "  12340.12972023 12618.74844579 13330.57922541 15857.19823795\n",
      "  16075.62771545]\n",
      " [ 1498.38795045  7256.73480332 10138.14358619 10792.73239725\n",
      "  11598.71667207 12916.09095349 13601.95393519 14726.89823662\n",
      "  15336.56270561]\n",
      " [ 4505.36551275  6501.25945365  8396.60143641  9614.53510859\n",
      "  12215.88464846 14115.70209951 14667.08799612 14717.83576385\n",
      "  15446.99654271]\n",
      " [ 5569.48722487  5582.55263853  9606.18875688  9608.86238079\n",
      "  10444.43983909 10445.66018202 16660.63666853 16674.13666638\n",
      "  17105.85069029]\n",
      " [ 4935.72494695  5834.78683349  8512.77732533  9064.51361333\n",
      "  12399.60648279 13520.28303844 14214.64511273 14932.27089165\n",
      "  15203.55079576]\n",
      " [ 3299.16187754  5258.66661705 10764.26617854 11515.78805627\n",
      "  11611.12705544 12352.21618343 13014.31452685 13606.14492248\n",
      "  15479.47627623]\n",
      " [ 3516.33328228  6975.33473937  8474.59291968 10400.21998216\n",
      "  10789.86216245 13267.79436094 14127.96992519 15009.71847436\n",
      "  15356.88901636]\n",
      " [ 5528.13352703  5594.26708288  9768.98048524  9801.47944562\n",
      "  10268.53541831 10298.71267353 16628.81556704 16695.42160741\n",
      "  17322.24466247]\n",
      " [ 3277.83953154  7956.6234908   8238.19026904  9671.9156599\n",
      "  10978.12514657 12092.81285073 14313.64626975 16183.86968704\n",
      "  16276.34426824]\n",
      " [ 2899.03727982  6735.8121597   9726.86109485 11396.05411475\n",
      "  11468.64423345 12981.50376266 14336.45594965 14694.17155652\n",
      "  15516.72090233]\n",
      " [ 5672.69123839  6668.34241066  7803.96884557  8554.14269913\n",
      "  13336.50906203 14366.38776804 14653.61465303 15595.23071752\n",
      "  15804.7964518 ]\n",
      " [ 3756.31213232  7593.58274386  8125.53014294 10141.60752524\n",
      "  10464.13957488 12094.18106305 14739.28462582 16081.03876411\n",
      "  16408.59503608]\n",
      " [ 5795.6353861   6036.04959117  8067.88523857  8242.04586506\n",
      "  13189.1989195  13508.9747628  14326.43485399 14620.95342409\n",
      "  15770.92170854]\n",
      " [ 2572.76352617  6180.29521351 10371.58135426 10879.09443037\n",
      "  11797.99651859 12341.28423535 13558.60630335 14597.31492387\n",
      "  14814.61193499]\n",
      " [ 2796.94281307  8394.65899391  8403.08942931  9553.26293828\n",
      "  11539.80698323 12401.27940774 13847.94431762 15957.54945651\n",
      "  16593.1127933 ]\n",
      " [ 1399.23516431  7537.09790585  9595.95503172 10215.86216983\n",
      "  12089.0722587  12614.82204059 13941.14035052 14180.16118634\n",
      "  15375.36572647]\n",
      " [ 3671.44847677  7433.43257087  9238.65805021  9302.93173773\n",
      "  11270.498075   11323.11253382 14775.76314154 17038.3443442\n",
      "  17073.15303798]\n",
      " [ 5651.36993251  6625.39498526  7881.43742635  8609.14184649\n",
      "  12361.7286314  12842.84857759 15599.96732775 15987.88958863\n",
      "  16325.05380568]\n",
      " [ 1040.80696846  7902.40779275  9543.95350043 10497.48709089\n",
      "  11767.97213679 13094.98762871 14139.94996004 14144.73211817\n",
      "  15119.9057239 ]\n",
      " [ 3338.55805187  7839.7600275   8761.92502479  9882.63377125\n",
      "  11269.2361035  12159.90603416 14397.99419404 16523.18363526\n",
      "  17144.83106388]\n",
      " [ 3038.93622951  8028.05294848  8393.07597083 10304.17024\n",
      "  11206.29175795 12932.56562854 13946.27618539 15804.6476642\n",
      "  16486.7624231 ]\n",
      " [ 1964.16928052  6747.55275072 10657.2254328  11090.88776523\n",
      "  11455.79689845 12835.10769067 13147.30237824 15260.29012703\n",
      "  15446.7245582 ]\n",
      " [ 4476.81547069  4717.30348427 10486.98878823 10592.12609902\n",
      "  12993.19287166 13246.37797952 13290.75376561 13373.69239626\n",
      "  16092.35833591]\n",
      " [ 4202.73567653  7280.32326277  7956.65361251  9929.69918461\n",
      "  11595.91115131 13414.52614422 14781.37301541 15507.39855546\n",
      "  15933.46214123]\n",
      " [ 5820.03391512  6630.34111957  7727.30888441  8356.83719048\n",
      "  12511.02282364 12914.6951467  15298.32188304 15633.70370201\n",
      "  16441.23848313]\n",
      " [ 4515.98583337  4564.38308866 11093.06080567 11112.8877442\n",
      "  12808.67071508 12825.8043883  13342.35301709 13391.7085522\n",
      "  16759.68831255]\n",
      " [ 2349.55201458  7106.03857664  9894.47286631 10850.76313944\n",
      "  11950.61623187 12629.12520909 14301.43752569 14490.33575197\n",
      "  15895.5866887 ]\n",
      " [ 5479.3827702   6449.35081759  7954.96018164  8652.59195425\n",
      "  13035.04203816 14260.62438979 14304.37664068 15430.96377336\n",
      "  15597.46580787]\n",
      " [ 1862.88129584  8812.52058062  9001.67942416  9241.57863999\n",
      "  12629.13669639 12761.57873518 12961.97755413 15566.25550241\n",
      "  15674.12430583]\n",
      " [  562.4205231   7803.33166706  8825.42960978 10884.85543538\n",
      "  11353.15076025 13377.60960258 13768.17544495 13997.5882628\n",
      "  14373.16123559]\n",
      " [ 4896.15655591  6208.5594419   9775.49976259  9776.23783398\n",
      "  10489.39824795 10490.08586172 16000.67963808 17313.46837671\n",
      "  17616.44480858]\n",
      " [ 3398.95894147  5758.69304514  9942.12602004 10973.79625945\n",
      "  11614.84241993 13071.10444293 13874.29324836 14132.79537682\n",
      "  14900.19344366]\n",
      " [ 3455.11523769  5246.80989665 11308.14496289 11938.08114101\n",
      "  11978.69596797 12119.32350166 12573.35640247 13916.15109343\n",
      "  16217.32544136]\n",
      " [ 4628.38815611  5081.84402129  9763.97881514  9987.30292679\n",
      "  12880.39824605 13383.69472611 13931.16514309 14088.21401545\n",
      "  15492.64242661]\n",
      " [ 4199.62750384  7000.20632933  8999.14981009 10295.14271112\n",
      "  10595.39583286 11714.67459213 15255.7782987  17205.49595981\n",
      "  17209.65781726]\n",
      " [ 1978.65248981  6693.91674396 10163.70902785 10324.17706951\n",
      "  12141.69041539 12163.07998616 13744.01376653 14346.48612087\n",
      "  15032.82557513]\n",
      " [ 6094.86642636  6830.72426807  7207.89745554  7841.41601731\n",
      "  12739.88551709 13115.17509181 14377.81505894 14713.68607125\n",
      "  16563.11778704]\n",
      " [ 2660.12649055  5870.71478866 11166.11358053 11177.65340235\n",
      "  11654.04453327 12340.48575827 12776.7281051  14382.11225635\n",
      "  15568.36782348]\n",
      " [ 6292.79780814  6779.27901184  7228.98857319  7654.95384505\n",
      "  12961.24377357 13196.90400341 14351.54915217 14562.7463822\n",
      "  16730.77181405]\n",
      " [ 5418.60304471  5687.88459766 10116.0171207  10257.8204798\n",
      "  10376.25737198 10514.19274458 16519.20598726 16788.95321976\n",
      "  18071.90740276]\n",
      " [ 6977.68159128  6989.66770318  7119.68462584  7131.62759609\n",
      "  14076.94088513 14090.26685615 14288.93405349 14302.35599884\n",
      "  17176.21934856]\n",
      " [ 1959.42273712  6455.3578683  10372.45681719 11222.27019587\n",
      "  11331.75140459 12799.60478602 12891.2674288  14869.04919086\n",
      "  15160.59471868]\n",
      " [ 2688.54356078  6205.52534431 10039.38544648 10802.79521067\n",
      "  11494.18397116 12663.23148819 13841.55632446 14506.16604328\n",
      "  14509.90880891]\n",
      " [ 2549.88785751  6157.16344709 11239.7729591  11246.47912055\n",
      "  11541.66628355 12557.88043491 12832.21008201 14856.67044484\n",
      "  15688.97199546]\n",
      " [ 3293.61373364  7913.5959547   8062.30628943  9908.07616805\n",
      "  10810.13227113 12347.32632094 14264.361278   15922.01234355\n",
      "  15974.14451463]\n",
      " [ 5157.50025287  7312.06886031  7339.52683221  8987.36184831\n",
      "  12279.63604993 13335.2653157  15250.8443434  15692.02838563\n",
      "  16116.46655445]]\n"
     ]
    }
   ],
   "source": [
    "tree = cKDTree(cam_coords)\n",
    "distances, indices = tree.query(station_coords, k=9)\n",
    "print(distances)"
   ]
  },
  {
   "cell_type": "code",
   "execution_count": 91,
   "id": "fac49980",
   "metadata": {},
   "outputs": [
    {
     "name": "stdout",
     "output_type": "stream",
     "text": [
      "[[1854 1855 1814 1815 1894 1895 1853 1856 1813]\n",
      " [1894 1893 1854 1934 1853 1933 1895 1892 1855]\n",
      " [1894 1895 1934 1935 1893 1854 1855 1896 1933]\n",
      " [1894 1934 1893 1933 1895 1935 1854 1892 1853]\n",
      " [1894 1854 1895 1893 1855 1853 1934 1896 1935]\n",
      " [1893 1894 1853 1854 1892 1933 1934 1895 1852]\n",
      " [1933 1893 1934 1894 1932 1892 1935 1895 1973]\n",
      " [1894 1893 1934 1933 1895 1854 1892 1853 1935]\n",
      " [1734 1694 1735 1695 1733 1693 1736 1696 1774]\n",
      " [ 890  889  850  849  891  888  851  930  848]\n",
      " [ 849  850  889  848  890  888  809  810  851]\n",
      " [ 889  929  888  928  890  930  849  887  848]\n",
      " [ 929  889  928  930  888  890  969  968  927]\n",
      " [ 889  888  929  928  890  930  887  927  849]\n",
      " [ 889  888  929  928  890  887  849  848  930]\n",
      " [ 888  928  887  889  927  929  848  886  847]\n",
      " [ 612  572  611  571  613  573  610  570  652]\n",
      " [ 652  612  653  651  613  611  692  693  691]\n",
      " [ 573  572  533  532  574  534  613  612  571]\n",
      " [ 613  614  653  612  654  652  573  574  572]\n",
      " [ 928  929  927  968  888  969  889  967  887]\n",
      " [ 928  929  968  969  927  967  930  888  889]\n",
      " [2016 2056 2015 2055 2017 2057 1976 2096 2054]\n",
      " [2055 2056 2015 2016 2054 2057 2014 2095 2017]\n",
      " [1897 1896 1937 1936 1898 1857 1856 1895 1938]\n",
      " [1936 1937 1896 1897 1935 1895 1976 1938 1977]\n",
      " [1977 2017 1978 2018 1976 2016 1937 2057 1979]\n",
      " [1982 1942 1983 1981 1943 1941 2022 2023 1984]\n",
      " [ 221  220  261  222  260  181  180  262  219]\n",
      " [ 255  254  295  294  256  296  253  293  215]\n",
      " [1893 1933 1892 1894 1932 1934 1853 1891 1852]\n",
      " [1654 1653 1694 1693 1655 1652 1695 1692 1614]\n",
      " [1653 1654 1613 1652 1614 1693 1694 1655 1612]\n",
      " [1371 1411 1372 1370 1412 1410 1331 1332 1330]\n",
      " [1496 1495 1497 1536 1456 1535 1537 1455 1457]\n",
      " [1507 1547 1508 1506 1548 1546 1467 1468 1466]\n",
      " [ 928  888  927  887  929  889  926  886  968]\n",
      " [ 888  887  889  928  848  927  847  929  849]\n",
      " [ 811  851  812  810  852  850  771  772  770]\n",
      " [ 811  812  851  810  852  850  771  772  813]\n",
      " [ 887  886  888  847  927  846  926  848  885]\n",
      " [ 927  926  887  886  928  925  967  966  888]\n",
      " [ 811  812  851  852  810  850  771  813  772]\n",
      " [1175 1135 1176 1136 1174 1134 1177 1137 1215]\n",
      " [ 258  257  218  217  298  297  259  256  219]\n",
      " [ 343  344  383  342  384  303  304  382  345]\n",
      " [ 888  889  848  849  887  847  890  850  928]\n",
      " [ 866  867  865  906  907  905  826  827  825]\n",
      " [2133 2134 2132 2173 2093 2174 2094 2172 2092]\n",
      " [1659 1699 1658 1660 1698 1700 1619 1739 1657]\n",
      " [1496 1495 1536 1535 1497 1456 1455 1494 1537]\n",
      " [ 970  969  930 1010  929  971 1009  968  931]\n",
      " [1128 1127 1088 1087 1129 1126 1168 1167 1089]\n",
      " [ 853  893  854  852  894  892  813  855  814]\n",
      " [1933 1932 1934 1973 1972 1893 1892 1974 1931]\n",
      " [1975 1935 1976 1936 1974 1934 1977 1937 2015]\n",
      " [1493 1494 1492 1533 1453 1534 1454 1495 1532]\n",
      " [1853 1893 1854 1894 1852 1892 1855 1895 1813]\n",
      " [ 888  928  887  927  889  929  848  968  886]\n",
      " [ 890  850  889  849  891  851  888  848  930]\n",
      " [1814 1813 1815 1774 1854 1773 1853 1812 1775]\n",
      " [1893 1894 1853 1892 1854 1933 1934 1852 1895]\n",
      " [ 886  885  926  887  846  925  845  884  927]\n",
      " [2071 2072 2031 2070 2032 2030 2111 2073 2112]\n",
      " [ 889  849  890  850  888  848  891  929  851]]\n"
     ]
    }
   ],
   "source": [
    "print(indices)"
   ]
  },
  {
   "cell_type": "code",
   "execution_count": 111,
   "id": "2a9e6c77",
   "metadata": {},
   "outputs": [
    {
     "name": "stdout",
     "output_type": "stream",
     "text": [
      "                  date  Estacao id                         Estacao  \\\n",
      "0  2017-10-14 11:30:00        1053                         Avintes   \n",
      "1  2017-10-14 11:30:00        1021             Custóias-Matosinhos   \n",
      "2  2017-10-14 11:30:00        1023               Ermesinde-Valongo   \n",
      "3  2017-10-14 11:30:00        1024             D.Manuel II-Vermoim   \n",
      "4  2017-10-14 11:30:00        1028  Francisco Sá Carneiro-Campanha   \n",
      "..                 ...         ...                             ...   \n",
      "60 2017-10-14 11:30:00        1054                    Anta-Espinho   \n",
      "61 2017-10-14 11:30:00        1055                Seara-Matosinhos   \n",
      "62 2017-10-14 11:30:00        3104    Cascais - Escola da Cidadela   \n",
      "63 2017-10-14 11:30:00        1100                  Santa Combinha   \n",
      "64 2017-10-14 11:30:00        3095                     Escavadeira   \n",
      "\n",
      "    pm10_weighted  \n",
      "0       33.386028  \n",
      "1       33.233203  \n",
      "2       32.673066  \n",
      "3       33.116599  \n",
      "4       32.977517  \n",
      "..            ...  \n",
      "60      35.309360  \n",
      "61      33.777701  \n",
      "62      47.088829  \n",
      "63      25.727904  \n",
      "64      51.027082  \n",
      "\n",
      "[65 rows x 4 columns]\n"
     ]
    }
   ],
   "source": [
    "weighted_pm10 = []\n",
    "for i in range(len(geodataestacoes)):\n",
    "    dists = distances[i]\n",
    "    idxs = indices[i]\n",
    "\n",
    "    dists = np.where(dists == 0, 0.001, dists)\n",
    "    weights = 1 / dists\n",
    "    pm10_vals = geodata2017cams.iloc[idxs]['pm10'].values\n",
    "\n",
    "    weighted_avg = np.average(pm10_vals, weights=weights)\n",
    "    weighted_pm10.append({\n",
    "        'date': geodata2017cams.iloc[0]['time'], \n",
    "        'Estacao id': geodataestacoes.iloc[i]['Estacao id'],\n",
    "        'Estacao': geodataestacoes.iloc[i]['nome_estac'],\n",
    "        'pm10_weighted': weighted_avg\n",
    "    })\n",
    "df = pd.DataFrame(weighted_pm10)\n",
    "print(df)"
   ]
  },
  {
   "cell_type": "code",
   "execution_count": null,
   "id": "dc32d73b",
   "metadata": {},
   "outputs": [],
   "source": []
  },
  {
   "cell_type": "code",
   "execution_count": null,
   "id": "18cab56b",
   "metadata": {},
   "outputs": [],
   "source": []
  }
 ],
 "metadata": {
  "kernelspec": {
   "display_name": ".venv",
   "language": "python",
   "name": "python3"
  },
  "language_info": {
   "codemirror_mode": {
    "name": "ipython",
    "version": 3
   },
   "file_extension": ".py",
   "mimetype": "text/x-python",
   "name": "python",
   "nbconvert_exporter": "python",
   "pygments_lexer": "ipython3",
   "version": "3.13.3"
  }
 },
 "nbformat": 4,
 "nbformat_minor": 5
}
