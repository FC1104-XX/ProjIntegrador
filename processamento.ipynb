{
 "cells": [
  {
   "cell_type": "code",
   "execution_count": 209,
   "id": "4ba48aae",
   "metadata": {},
   "outputs": [],
   "source": [
    "import pandas as pd\n",
    "import geopandas as gpd\n",
    "import xarray as xr\n",
    "import os\n",
    "from pyproj import Transformer\n",
    "from scipy.spatial import cKDTree\n",
    "import numpy as np\n",
    "from scipy.spatial.distance import cdist\n",
    "from scipy.optimize import linear_sum_assignment\n",
    "import matplotlib.pyplot as plt\n",
    "import seaborn as sns"
   ]
  },
  {
   "cell_type": "code",
   "execution_count": 3,
   "id": "879b1d0b",
   "metadata": {},
   "outputs": [
    {
     "name": "stdout",
     "output_type": "stream",
     "text": [
      "/home/franc/Desktop/ProjIntegrador\n"
     ]
    }
   ],
   "source": [
    "print(os.getcwd())"
   ]
  },
  {
   "cell_type": "code",
   "execution_count": 4,
   "id": "4aea2be5",
   "metadata": {},
   "outputs": [],
   "source": [
    "apa2017 = pd.read_excel('apa/PM10_2017-01-01_2017-12-31.xlsx', header=0)\n",
    "apa2018 = pd.read_excel('apa/PM10_2018-01-01_2018-12-31.xlsx', header=0)"
   ]
  },
  {
   "cell_type": "code",
   "execution_count": 5,
   "id": "95053e85",
   "metadata": {},
   "outputs": [
    {
     "name": "stdout",
     "output_type": "stream",
     "text": [
      "Apa 2017 dimensões: (8760, 61)\n",
      "        PM10 (µg/m3)\\t  Alverca  Anta-Espinho  Arcos  Aveiro  \\\n",
      "0  2017-01-01 00:00:00     45.5           NaN   48.8    86.0   \n",
      "1  2017-01-01 01:00:00     32.2           NaN   48.0    80.0   \n",
      "2  2017-01-01 02:00:00     31.4           NaN   46.8    75.0   \n",
      "3  2017-01-01 03:00:00     26.6           NaN   43.3    73.0   \n",
      "4  2017-01-01 04:00:00     26.1           NaN   37.3    71.0   \n",
      "\n",
      "   Avenida da Liberdade  Avintes  Burgães-Santo Tirso  \\\n",
      "0                  69.2      NaN                  NaN   \n",
      "1                  69.7      NaN                  NaN   \n",
      "2                  55.4      NaN                  NaN   \n",
      "3                  53.0      NaN                  NaN   \n",
      "4                  42.7      NaN                  NaN   \n",
      "\n",
      "   Cascais - Escola da Cidadela  Cerro  ...  Reboleira  Santa Cruz de Benfica  \\\n",
      "0                          55.0   23.1  ...       75.5                   70.9   \n",
      "1                          52.2   20.5  ...       66.9                   48.7   \n",
      "2                          43.6   20.1  ...       64.4                   45.0   \n",
      "3                          41.1   23.3  ...       51.3                   37.3   \n",
      "4                          32.5   23.8  ...       47.7                   31.9   \n",
      "\n",
      "   Santana  Santiago do Cacém  São Gonçalo  São João  Seara-Matosinhos Sonega  \\\n",
      "0     39.2               24.0         41.0      72.1               NaN   15.0   \n",
      "1     42.4               25.0         45.4      72.6               NaN   13.0   \n",
      "2     48.0               22.0         45.4      72.6               NaN   12.0   \n",
      "3     48.0               26.0         46.3      77.7               NaN   11.0   \n",
      "4     50.0               16.0         52.5      78.4               NaN   10.0   \n",
      "\n",
      "   Terena  VNTelha-Maia  \n",
      "0    33.0           NaN  \n",
      "1    23.0           NaN  \n",
      "2    22.0           NaN  \n",
      "3    19.0           NaN  \n",
      "4    17.0           NaN  \n",
      "\n",
      "[5 rows x 61 columns]\n"
     ]
    }
   ],
   "source": [
    "print(f\"Apa 2017 dimensões: {apa2017.shape}\")\n",
    "print(apa2017.head())"
   ]
  },
  {
   "cell_type": "code",
   "execution_count": 6,
   "id": "7040814d",
   "metadata": {},
   "outputs": [
    {
     "name": "stdout",
     "output_type": "stream",
     "text": [
      "Apa 2018 dimensões: (8760, 61)\n",
      "        PM10 (µg/m3)\\t  Alverca  Anta-Espinho  Arcos  Aveiro  \\\n",
      "0  2018-01-01 00:00:00     54.4           NaN   55.5    85.0   \n",
      "1  2018-01-01 01:00:00     41.6           NaN   54.8    96.0   \n",
      "2  2018-01-01 02:00:00     40.0          35.0   53.6    96.0   \n",
      "3  2018-01-01 03:00:00     21.9          30.0   48.7    79.0   \n",
      "4  2018-01-01 04:00:00     20.0          33.0   39.8    79.0   \n",
      "\n",
      "   Avenida da Liberdade  Avintes  Burgães-Santo Tirso  \\\n",
      "0                  64.9      NaN                 22.0   \n",
      "1                  68.1      NaN                 43.0   \n",
      "2                  79.0      NaN                  NaN   \n",
      "3                  83.4      NaN                  NaN   \n",
      "4                  79.4     43.0                  NaN   \n",
      "\n",
      "   Cascais - Escola da Cidadela  Cerro  ...  Reboleira  Santa Cruz de Benfica  \\\n",
      "0                          61.9   23.7  ...       50.0                    NaN   \n",
      "1                          63.3   27.2  ...       70.2                    NaN   \n",
      "2                          59.4   32.4  ...       79.9                    NaN   \n",
      "3                          58.8   35.7  ...       75.5                    NaN   \n",
      "4                          46.1   35.5  ...       73.3                    NaN   \n",
      "\n",
      "   Santana  São Gonçalo  São João  Seara-Matosinhos  Sonega  Terena  \\\n",
      "0      5.5         31.1      35.8               NaN    21.0    27.0   \n",
      "1      5.5         31.1      35.9               NaN    20.0    27.0   \n",
      "2      5.7         40.6      55.0               NaN    20.0     4.0   \n",
      "3      7.2        208.5     341.0               NaN    21.0    14.0   \n",
      "4      7.2        208.5     341.0               NaN    20.0     2.0   \n",
      "\n",
      "   VNTelha-Maia  Alfragide/Amadora  \n",
      "0          49.0                NaN  \n",
      "1           NaN                NaN  \n",
      "2           NaN                NaN  \n",
      "3           NaN                NaN  \n",
      "4           NaN                NaN  \n",
      "\n",
      "[5 rows x 61 columns]\n"
     ]
    }
   ],
   "source": [
    "print(f\"Apa 2018 dimensões: {apa2018.shape}\")\n",
    "print(apa2018.head())"
   ]
  },
  {
   "cell_type": "code",
   "execution_count": 7,
   "id": "91b12e14",
   "metadata": {},
   "outputs": [
    {
     "name": "stdout",
     "output_type": "stream",
     "text": [
      "<class 'str'>\n",
      "<class 'pandas._libs.tslibs.timestamps.Timestamp'>\n"
     ]
    }
   ],
   "source": [
    "print(type(apa2017.iloc[0,0]))\n",
    "apa2017[\"PM10 (µg/m3)\\t\"] = pd.to_datetime(apa2017[\"PM10 (µg/m3)\t\"], format='%Y-%m-%d %H:%M:%S')\n",
    "print(type(apa2017.iloc[0,0]))\n",
    "apa2018[\"PM10 (µg/m3)\\t\"] = pd.to_datetime(apa2018[\"PM10 (µg/m3)\t\"], format='%Y-%m-%d %H:%M:%S')"
   ]
  },
  {
   "cell_type": "code",
   "execution_count": 8,
   "id": "a2a8caa9",
   "metadata": {},
   "outputs": [
    {
     "name": "stdout",
     "output_type": "stream",
     "text": [
      "2017 numeric columns: 59\n",
      "2018 numeric columns: 60\n",
      "2017 localidades: 60\n",
      "2018 localidades: 60\n",
      "Non-numeric 2017 columns: Index(['Ervedeira', 'PM10 (µg/m3)\\t'], dtype='object')\n",
      "object\n"
     ]
    }
   ],
   "source": [
    "\"\"\"IMPORTANTE: EM 2017 A COLUNA DE ERVEDEIRA ESTÁ FORMATADA COMO \"object\" E NÃO \"float64\" POR ALGUMA RAZÃO\"\"\"\n",
    "\n",
    "print(\"2017 numeric columns:\", len(apa2017.select_dtypes(include='number').columns.tolist()))\n",
    "print(\"2018 numeric columns:\", len(apa2018.select_dtypes(include='number').columns.tolist()))\n",
    "print(\"2017 localidades:\", apa2017.shape[1]-1)\n",
    "print(\"2018 localidades:\", apa2018.shape[1]-1)\n",
    "non_numeric_2017 = apa2017.columns.difference(apa2017.select_dtypes(include='number').columns)\n",
    "print(\"Non-numeric 2017 columns:\", non_numeric_2017)\n",
    "print(apa2017[\"Ervedeira\"].dtype)"
   ]
  },
  {
   "cell_type": "code",
   "execution_count": 9,
   "id": "3565de7f",
   "metadata": {},
   "outputs": [
    {
     "name": "stdout",
     "output_type": "stream",
     "text": [
      "float64\n"
     ]
    }
   ],
   "source": [
    "apa2017[\"Ervedeira\"] = pd.to_numeric(apa2017[\"Ervedeira\"].astype(str).str.strip(), errors='coerce')\n",
    "print(apa2017[\"Ervedeira\"].dtype)  # Should output: float64\n"
   ]
  },
  {
   "cell_type": "code",
   "execution_count": 10,
   "id": "5e17efdf",
   "metadata": {},
   "outputs": [
    {
     "name": "stdout",
     "output_type": "stream",
     "text": [
      "          PM10 (µg/m3)\\t  Alverca  Anta-Espinho  Arcos  Aveiro  \\\n",
      "6864 2017-10-14 00:00:00     47.2           0.0   50.8    34.0   \n",
      "6865 2017-10-14 01:00:00     42.2           5.0   48.4    37.0   \n",
      "6866 2017-10-14 02:00:00     43.3          40.0   48.2    33.0   \n",
      "6867 2017-10-14 03:00:00     45.5          38.0   46.3    29.0   \n",
      "6868 2017-10-14 04:00:00     46.6          24.0   46.1    28.0   \n",
      "...                  ...      ...           ...    ...     ...   \n",
      "6979 2017-10-18 19:00:00      8.9           2.0    8.9    23.0   \n",
      "6980 2017-10-18 20:00:00      8.3          19.0    8.6    25.0   \n",
      "6981 2017-10-18 21:00:00      6.7          22.0    5.9    26.0   \n",
      "6982 2017-10-18 22:00:00      6.9          42.0    5.6    25.0   \n",
      "6983 2017-10-18 23:00:00      7.8          38.0   12.0    24.0   \n",
      "\n",
      "      Avenida da Liberdade  Avintes  Burgães-Santo Tirso  \\\n",
      "6864                  82.1     46.0                  1.0   \n",
      "6865                  69.8     40.0                  0.0   \n",
      "6866                  68.2     30.0                  0.0   \n",
      "6867                  49.3     25.0                  0.0   \n",
      "6868                  46.9     13.0                  0.0   \n",
      "...                    ...      ...                  ...   \n",
      "6979                   8.7     15.0                  0.0   \n",
      "6980                   8.8     28.0                  0.0   \n",
      "6981                  14.8     20.0                  0.0   \n",
      "6982                  15.6      2.0                  0.0   \n",
      "6983                  15.8     12.0                  0.0   \n",
      "\n",
      "      Cascais - Escola da Cidadela  Cerro  ...  Reboleira  \\\n",
      "6864                          49.7   30.3  ...       65.5   \n",
      "6865                          47.7   29.3  ...       58.0   \n",
      "6866                          49.7   30.0  ...       54.4   \n",
      "6867                          51.1   30.6  ...       48.8   \n",
      "6868                          51.1   36.4  ...       46.6   \n",
      "...                            ...    ...  ...        ...   \n",
      "6979                           NaN    8.2  ...        3.1   \n",
      "6980                           NaN    NaN  ...        3.3   \n",
      "6981                           NaN    NaN  ...        3.3   \n",
      "6982                           NaN    NaN  ...        3.3   \n",
      "6983                           NaN    NaN  ...        4.7   \n",
      "\n",
      "      Santa Cruz de Benfica  Santana  Santiago do Cacém  São Gonçalo  \\\n",
      "6864                   81.6     42.9               10.0         39.6   \n",
      "6865                   72.4     44.3               27.0         46.1   \n",
      "6866                   59.2     45.7               32.0         46.1   \n",
      "6867                   55.0     45.7               36.0         46.1   \n",
      "6868                   57.8     47.0               23.0         55.0   \n",
      "...                     ...      ...                ...          ...   \n",
      "6979                   16.8     14.1               25.0         11.4   \n",
      "6980                   15.8     15.4               16.0         10.5   \n",
      "6981                   15.5     15.4               17.0         10.5   \n",
      "6982                   17.3     15.4               15.0          9.9   \n",
      "6983                   16.0     15.7               36.0          9.1   \n",
      "\n",
      "      São João  Seara-Matosinhos  Sonega  Terena  VNTelha-Maia  \n",
      "6864      60.0              27.0    24.0    56.0          18.0  \n",
      "6865      63.5              27.0    22.0    37.0          26.0  \n",
      "6866      69.2              27.0    21.0    32.0          26.0  \n",
      "6867      69.2              31.0    19.0    33.0          32.0  \n",
      "6868      72.6              32.0    21.0    30.0          40.0  \n",
      "...        ...               ...     ...     ...           ...  \n",
      "6979      23.5              19.0     2.0    18.0           6.0  \n",
      "6980      26.3              22.0     3.0    32.0          11.0  \n",
      "6981      27.1              27.0     5.0    18.0          20.0  \n",
      "6982      27.1              28.0     6.0    12.0          20.0  \n",
      "6983      25.5              21.0     6.0    47.0          17.0  \n",
      "\n",
      "[120 rows x 61 columns]\n"
     ]
    }
   ],
   "source": [
    "#outubro de 2017 (14-18)\n",
    "mask = (apa2017[\"PM10 (µg/m3)\\t\"] >= pd.to_datetime('2017-10-14')) & (apa2017[\"PM10 (µg/m3)\\t\"] < pd.to_datetime('2017-10-19')) #devolve um dicionario de falso ou correto para a condição\n",
    "Napa2017 = apa2017.loc[mask]\n",
    "Napa2017 = Napa2017.copy() #só para não haver mutabilidade visto que o dataframe é uma fatia de outro\n",
    "print(Napa2017)\n",
    "Napa2017.to_excel(\"apa/apa2017_14_18outubro.xlsx\", index=False)"
   ]
  },
  {
   "cell_type": "code",
   "execution_count": 11,
   "id": "aaa39acc",
   "metadata": {},
   "outputs": [
    {
     "name": "stdout",
     "output_type": "stream",
     "text": [
      "          PM10 (µg/m3)\\t  Alverca  Anta-Espinho  Arcos  Aveiro  \\\n",
      "3984 2018-06-16 00:00:00     18.9          25.0   16.9    20.0   \n",
      "3985 2018-06-16 01:00:00     17.8           4.0   17.1    19.0   \n",
      "3986 2018-06-16 02:00:00     10.0           6.0   17.1    19.0   \n",
      "3987 2018-06-16 03:00:00     10.3          28.0   17.4    17.0   \n",
      "3988 2018-06-16 04:00:00     12.2          28.0   16.5    18.0   \n",
      "...                  ...      ...           ...    ...     ...   \n",
      "4147 2018-06-22 19:00:00      NaN           0.0   24.9    17.0   \n",
      "4148 2018-06-22 20:00:00      NaN           0.0   25.3    18.0   \n",
      "4149 2018-06-22 21:00:00      NaN           0.0   31.4    19.0   \n",
      "4150 2018-06-22 22:00:00      NaN           1.0   32.0    19.0   \n",
      "4151 2018-06-22 23:00:00      NaN          18.0   34.9    19.0   \n",
      "\n",
      "      Avenida da Liberdade  Avintes  Burgães-Santo Tirso  \\\n",
      "3984                  29.8     22.0                  0.0   \n",
      "3985                  26.0     25.0                  0.0   \n",
      "3986                  25.0      NaN                  0.0   \n",
      "3987                  25.6      NaN                  0.0   \n",
      "3988                  25.8      NaN                  0.0   \n",
      "...                    ...      ...                  ...   \n",
      "4147                  39.8     28.0                 23.0   \n",
      "4148                  40.9     46.0                 20.0   \n",
      "4149                  35.7     45.0                 20.0   \n",
      "4150                  34.4     42.0                 13.0   \n",
      "4151                  47.9     42.0                 15.0   \n",
      "\n",
      "      Cascais - Escola da Cidadela  Cerro  ...  Reboleira  \\\n",
      "3984                          26.6    NaN  ...       17.8   \n",
      "3985                          26.6    NaN  ...       18.3   \n",
      "3986                          18.9    NaN  ...       22.2   \n",
      "3987                          18.9   29.2  ...       21.7   \n",
      "3988                          24.4   27.9  ...       17.8   \n",
      "...                            ...    ...  ...        ...   \n",
      "4147                          23.3   11.3  ...       14.2   \n",
      "4148                          21.9   11.5  ...       11.1   \n",
      "4149                          20.0   11.5  ...       11.1   \n",
      "4150                          23.0   11.5  ...       12.2   \n",
      "4151                          27.8   19.1  ...       12.5   \n",
      "\n",
      "      Santa Cruz de Benfica  Santana  São Gonçalo  São João  Seara-Matosinhos  \\\n",
      "3984                    NaN     11.1          8.4      16.9              32.0   \n",
      "3985                    NaN     12.3          8.8      16.1              32.0   \n",
      "3986                    NaN     12.3          8.8      15.9              33.0   \n",
      "3987                    NaN     15.9          7.4      15.9              31.0   \n",
      "3988                    NaN     17.5          6.8      12.9              19.0   \n",
      "...                     ...      ...          ...       ...               ...   \n",
      "4147                    NaN      9.6          7.9      16.9              22.0   \n",
      "4148                    NaN      9.6          7.8      17.6              22.0   \n",
      "4149                    NaN      9.6          7.8      17.6              21.0   \n",
      "4150                    NaN      8.3          5.8      17.6              24.0   \n",
      "4151                    NaN      8.3          5.8      14.5              30.0   \n",
      "\n",
      "      Sonega  Terena  VNTelha-Maia  Alfragide/Amadora  \n",
      "3984    10.0    14.0          18.0               12.3  \n",
      "3985     8.0    13.0          21.0                NaN  \n",
      "3986     9.0    13.0          21.0                NaN  \n",
      "3987     8.0    12.0          10.0                NaN  \n",
      "3988     9.0     7.0           0.0                NaN  \n",
      "...      ...     ...           ...                ...  \n",
      "4147    21.0    17.0           NaN                NaN  \n",
      "4148    22.0    17.0           NaN                NaN  \n",
      "4149    23.0    16.0           NaN                NaN  \n",
      "4150    23.0    13.0          16.0                NaN  \n",
      "4151    24.0    13.0          16.0                NaN  \n",
      "\n",
      "[168 rows x 61 columns]\n"
     ]
    }
   ],
   "source": [
    "#junho de 2018 (16-22)\n",
    "mask = (apa2018[\"PM10 (µg/m3)\\t\"] >= pd.to_datetime('2018-06-16')) & (apa2018[\"PM10 (µg/m3)\\t\"] < pd.to_datetime('2018-06-23'))\n",
    "Napa2018 = apa2018.loc[mask]\n",
    "Napa2018 = Napa2018.copy() #só para não haver mutabilidade visto que o dataframe é uma fatia de outro\n",
    "print(Napa2018)\n",
    "Napa2018.to_excel(\"apa/apa2018_16_23junho.xlsx\", index=False)"
   ]
  },
  {
   "cell_type": "code",
   "execution_count": 12,
   "id": "e435e178",
   "metadata": {},
   "outputs": [],
   "source": [
    "#a média do dia só é calculada se houver pelo menos 19 valores válidos (≈80%) c.c. = NaN\n",
    "\n",
    "Napa2017[\"Data\"] = Napa2017[\"PM10 (µg/m3)\\t\"].dt.date\n",
    "Napa2017.to_excel(\"apa/teste2017.xlsx\", index=False)"
   ]
  },
  {
   "cell_type": "code",
   "execution_count": 13,
   "id": "f7b9bd47",
   "metadata": {},
   "outputs": [
    {
     "name": "stdout",
     "output_type": "stream",
     "text": [
      "              Alverca  Anta-Espinho      Arcos     Aveiro  \\\n",
      "Data                                                        \n",
      "2017-10-14  54.300000     42.208333  54.062500  44.791667   \n",
      "2017-10-15  59.066667     63.333333  49.929167  73.458333   \n",
      "2017-10-16  64.258333     54.500000  64.600000  93.000000   \n",
      "2017-10-17  28.808333     17.541667  31.158333  45.000000   \n",
      "2017-10-18  11.125000      9.458333  10.304167  16.083333   \n",
      "\n",
      "            Avenida da Liberdade    Avintes  Burgães-Santo Tirso  \\\n",
      "Data                                                               \n",
      "2017-10-14             61.962500  31.500000             4.222222   \n",
      "2017-10-15             57.408333  32.000000             1.545455   \n",
      "2017-10-16             67.820833        NaN            30.600000   \n",
      "2017-10-17             23.591667  22.571429            23.812500   \n",
      "2017-10-18             13.220833   9.454545             6.565217   \n",
      "\n",
      "            Cascais - Escola da Cidadela      Cerro   Chamusca  ...  \\\n",
      "Data                                                            ...   \n",
      "2017-10-14                     53.904167  32.041667  36.033333  ...   \n",
      "2017-10-15                     57.825000  30.841667  47.195833  ...   \n",
      "2017-10-16                           NaN  49.977778  82.329167  ...   \n",
      "2017-10-17                           NaN  19.094737  65.591667  ...   \n",
      "2017-10-18                           NaN  14.810000   8.529167  ...   \n",
      "\n",
      "            Reboleira  Santa Cruz de Benfica    Santana  Santiago do Cacém  \\\n",
      "Data                                                                         \n",
      "2017-10-14  48.654167              71.808333  51.045833          36.916667   \n",
      "2017-10-15  50.816667              61.808696  52.725000          39.250000   \n",
      "2017-10-16  49.337500              78.937500   9.433333          82.695652   \n",
      "2017-10-17  13.837500                    NaN  11.787500          46.125000   \n",
      "2017-10-18   3.733333              21.021429  17.429167          30.941176   \n",
      "\n",
      "            São Gonçalo   São João  Seara-Matosinhos     Sonega     Terena  \\\n",
      "Data                                                                         \n",
      "2017-10-14    56.933333  79.258333         40.500000  33.083333  55.083333   \n",
      "2017-10-15    54.883333  59.991667         56.500000  31.250000  58.375000   \n",
      "2017-10-16     9.970833  15.283333         55.666667  34.916667  59.208333   \n",
      "2017-10-17     8.908333  19.254167         23.791667  11.791667  99.666667   \n",
      "2017-10-18    15.658333  24.783333          9.625000   5.666667  21.666667   \n",
      "\n",
      "            VNTelha-Maia  \n",
      "Data                      \n",
      "2017-10-14     47.833333  \n",
      "2017-10-15     59.291667  \n",
      "2017-10-16     42.461538  \n",
      "2017-10-17     18.285714  \n",
      "2017-10-18     10.916667  \n",
      "\n",
      "[5 rows x 60 columns]\n"
     ]
    }
   ],
   "source": [
    "colunas_numericas = Napa2017.select_dtypes(include='number').columns #se usarmos .mean() no dataframe inteiro dá erro porque a primeira e ultima coluna sao datas e não floats\n",
    "media2017 = Napa2017.groupby(\"Data\")[colunas_numericas].mean()\n",
    "print(media2017)"
   ]
  },
  {
   "cell_type": "code",
   "execution_count": 14,
   "id": "7a4216e3",
   "metadata": {},
   "outputs": [
    {
     "name": "stdout",
     "output_type": "stream",
     "text": [
      "            Alverca  Anta-Espinho  Arcos  Aveiro  Avenida da Liberdade  \\\n",
      "Data                                                                     \n",
      "2017-10-14       24            24     24      24                    24   \n",
      "2017-10-15       24            24     24      24                    24   \n",
      "2017-10-16       24            24     24      24                    24   \n",
      "2017-10-17       24            24     24      24                    24   \n",
      "2017-10-18       24            24     24      24                    24   \n",
      "\n",
      "            Avintes  Burgães-Santo Tirso  Cascais - Escola da Cidadela  Cerro  \\\n",
      "Data                                                                            \n",
      "2017-10-14       12                   18                            24     24   \n",
      "2017-10-15        5                   11                            16     24   \n",
      "2017-10-16        0                   10                             0     18   \n",
      "2017-10-17       14                   16                             0     19   \n",
      "2017-10-18       22                   23                             0     20   \n",
      "\n",
      "            Chamusca  ...  Reboleira  Santa Cruz de Benfica  Santana  \\\n",
      "Data                  ...                                              \n",
      "2017-10-14        24  ...         24                     24       24   \n",
      "2017-10-15        24  ...         24                     23       24   \n",
      "2017-10-16        24  ...         24                      8       24   \n",
      "2017-10-17        24  ...         24                      0       24   \n",
      "2017-10-18        24  ...         24                     14       24   \n",
      "\n",
      "            Santiago do Cacém  São Gonçalo  São João  Seara-Matosinhos  \\\n",
      "Data                                                                     \n",
      "2017-10-14                 24           24        24                24   \n",
      "2017-10-15                 24           24        24                24   \n",
      "2017-10-16                 23           24        24                24   \n",
      "2017-10-17                 16           24        24                24   \n",
      "2017-10-18                 17           24        24                24   \n",
      "\n",
      "            Sonega  Terena  VNTelha-Maia  \n",
      "Data                                      \n",
      "2017-10-14      24      24            24  \n",
      "2017-10-15      24      24            24  \n",
      "2017-10-16      24      24            13  \n",
      "2017-10-17      24       3            21  \n",
      "2017-10-18      24      24            24  \n",
      "\n",
      "[5 rows x 60 columns]\n"
     ]
    }
   ],
   "source": [
    "obs_diarias = Napa2017.groupby(\"Data\").count()\n",
    "obs_diarias.to_excel(\"apa/obs17.xlsx\", index=False)\n",
    "obs_diarias=obs_diarias.iloc[:, 1:]\n",
    "print(obs_diarias)\n",
    "mask = obs_diarias >= 5"
   ]
  },
  {
   "cell_type": "code",
   "execution_count": 15,
   "id": "9715ae9c",
   "metadata": {},
   "outputs": [
    {
     "name": "stdout",
     "output_type": "stream",
     "text": [
      "            Alverca  Anta-Espinho  Arcos  Aveiro  Avenida da Liberdade  \\\n",
      "Data                                                                     \n",
      "2017-10-14     True          True   True    True                  True   \n",
      "2017-10-15     True          True   True    True                  True   \n",
      "2017-10-16     True          True   True    True                  True   \n",
      "2017-10-17     True          True   True    True                  True   \n",
      "2017-10-18     True          True   True    True                  True   \n",
      "\n",
      "            Avintes  Burgães-Santo Tirso  Cascais - Escola da Cidadela  Cerro  \\\n",
      "Data                                                                            \n",
      "2017-10-14     True                 True                          True   True   \n",
      "2017-10-15     True                 True                          True   True   \n",
      "2017-10-16    False                 True                         False   True   \n",
      "2017-10-17     True                 True                         False   True   \n",
      "2017-10-18     True                 True                         False   True   \n",
      "\n",
      "            Chamusca  ...  Reboleira  Santa Cruz de Benfica  Santana  \\\n",
      "Data                  ...                                              \n",
      "2017-10-14      True  ...       True                   True     True   \n",
      "2017-10-15      True  ...       True                   True     True   \n",
      "2017-10-16      True  ...       True                   True     True   \n",
      "2017-10-17      True  ...       True                  False     True   \n",
      "2017-10-18      True  ...       True                   True     True   \n",
      "\n",
      "            Santiago do Cacém  São Gonçalo  São João  Seara-Matosinhos  \\\n",
      "Data                                                                     \n",
      "2017-10-14               True         True      True              True   \n",
      "2017-10-15               True         True      True              True   \n",
      "2017-10-16               True         True      True              True   \n",
      "2017-10-17               True         True      True              True   \n",
      "2017-10-18               True         True      True              True   \n",
      "\n",
      "            Sonega  Terena  VNTelha-Maia  \n",
      "Data                                      \n",
      "2017-10-14    True    True          True  \n",
      "2017-10-15    True    True          True  \n",
      "2017-10-16    True    True          True  \n",
      "2017-10-17    True   False          True  \n",
      "2017-10-18    True    True          True  \n",
      "\n",
      "[5 rows x 60 columns]\n"
     ]
    }
   ],
   "source": [
    "print(mask)"
   ]
  },
  {
   "cell_type": "code",
   "execution_count": 16,
   "id": "ed56b946",
   "metadata": {},
   "outputs": [
    {
     "name": "stdout",
     "output_type": "stream",
     "text": [
      "              Alverca  Anta-Espinho      Arcos     Aveiro  \\\n",
      "Data                                                        \n",
      "2017-10-14  54.300000     42.208333  54.062500  44.791667   \n",
      "2017-10-15  59.066667     63.333333  49.929167  73.458333   \n",
      "2017-10-16  64.258333     54.500000  64.600000  93.000000   \n",
      "2017-10-17  28.808333     17.541667  31.158333  45.000000   \n",
      "2017-10-18  11.125000      9.458333  10.304167  16.083333   \n",
      "\n",
      "            Avenida da Liberdade    Avintes  Burgães-Santo Tirso  \\\n",
      "Data                                                               \n",
      "2017-10-14             61.962500  31.500000             4.222222   \n",
      "2017-10-15             57.408333  32.000000             1.545455   \n",
      "2017-10-16             67.820833        NaN            30.600000   \n",
      "2017-10-17             23.591667  22.571429            23.812500   \n",
      "2017-10-18             13.220833   9.454545             6.565217   \n",
      "\n",
      "            Cascais - Escola da Cidadela      Cerro   Chamusca  ...  \\\n",
      "Data                                                            ...   \n",
      "2017-10-14                     53.904167  32.041667  36.033333  ...   \n",
      "2017-10-15                     57.825000  30.841667  47.195833  ...   \n",
      "2017-10-16                           NaN  49.977778  82.329167  ...   \n",
      "2017-10-17                           NaN  19.094737  65.591667  ...   \n",
      "2017-10-18                           NaN  14.810000   8.529167  ...   \n",
      "\n",
      "            Reboleira  Santa Cruz de Benfica    Santana  Santiago do Cacém  \\\n",
      "Data                                                                         \n",
      "2017-10-14  48.654167              71.808333  51.045833          36.916667   \n",
      "2017-10-15  50.816667              61.808696  52.725000          39.250000   \n",
      "2017-10-16  49.337500              78.937500   9.433333          82.695652   \n",
      "2017-10-17  13.837500                    NaN  11.787500          46.125000   \n",
      "2017-10-18   3.733333              21.021429  17.429167          30.941176   \n",
      "\n",
      "            São Gonçalo   São João  Seara-Matosinhos     Sonega     Terena  \\\n",
      "Data                                                                         \n",
      "2017-10-14    56.933333  79.258333         40.500000  33.083333  55.083333   \n",
      "2017-10-15    54.883333  59.991667         56.500000  31.250000  58.375000   \n",
      "2017-10-16     9.970833  15.283333         55.666667  34.916667  59.208333   \n",
      "2017-10-17     8.908333  19.254167         23.791667  11.791667        NaN   \n",
      "2017-10-18    15.658333  24.783333          9.625000   5.666667  21.666667   \n",
      "\n",
      "            VNTelha-Maia  \n",
      "Data                      \n",
      "2017-10-14     47.833333  \n",
      "2017-10-15     59.291667  \n",
      "2017-10-16     42.461538  \n",
      "2017-10-17     18.285714  \n",
      "2017-10-18     10.916667  \n",
      "\n",
      "[5 rows x 60 columns]\n"
     ]
    }
   ],
   "source": [
    "Fmedia2017 = media2017[mask]\n",
    "print(Fmedia2017)"
   ]
  },
  {
   "cell_type": "code",
   "execution_count": 17,
   "id": "f9f4c31d",
   "metadata": {},
   "outputs": [],
   "source": [
    "#Repetir para 2018\n",
    "\n",
    "Napa2018[\"Data\"] = Napa2018[\"PM10 (µg/m3)\\t\"].dt.date\n",
    "Napa2018.to_excel(\"apa/teste2018.xlsx\", index=False)\n",
    "colunas_numericas = Napa2018.select_dtypes(include='number').columns #se usarmos .mean() no dataframe inteiro dá erro porque a primeira e ultima coluna sao datas e não floats\n",
    "media2018 = Napa2018.groupby(\"Data\")[colunas_numericas].mean()\n",
    "obs_diarias = Napa2018.groupby(\"Data\").count()\n",
    "obs_diarias.to_excel(\"apa/obs18.xlsx\", index=False)\n",
    "obs_diarias=obs_diarias.iloc[:, 1:]\n",
    "mask = obs_diarias >= 5\n",
    "Fmedia2018 = media2018[mask]"
   ]
  },
  {
   "cell_type": "code",
   "execution_count": 18,
   "id": "8502233b",
   "metadata": {},
   "outputs": [
    {
     "name": "stdout",
     "output_type": "stream",
     "text": [
      "              Alverca  Anta-Espinho      Arcos     Aveiro  \\\n",
      "Data                                                        \n",
      "2017-10-14  54.300000     42.208333  54.062500  44.791667   \n",
      "2017-10-15  59.066667     63.333333  49.929167  73.458333   \n",
      "2017-10-16  64.258333     54.500000  64.600000  93.000000   \n",
      "2017-10-17  28.808333     17.541667  31.158333  45.000000   \n",
      "2017-10-18  11.125000      9.458333  10.304167  16.083333   \n",
      "\n",
      "            Avenida da Liberdade    Avintes  Burgães-Santo Tirso  \\\n",
      "Data                                                               \n",
      "2017-10-14             61.962500  31.500000             4.222222   \n",
      "2017-10-15             57.408333  32.000000             1.545455   \n",
      "2017-10-16             67.820833        NaN            30.600000   \n",
      "2017-10-17             23.591667  22.571429            23.812500   \n",
      "2017-10-18             13.220833   9.454545             6.565217   \n",
      "\n",
      "            Cascais - Escola da Cidadela      Cerro   Chamusca  ...  \\\n",
      "Data                                                            ...   \n",
      "2017-10-14                     53.904167  32.041667  36.033333  ...   \n",
      "2017-10-15                     57.825000  30.841667  47.195833  ...   \n",
      "2017-10-16                           NaN  49.977778  82.329167  ...   \n",
      "2017-10-17                           NaN  19.094737  65.591667  ...   \n",
      "2017-10-18                           NaN  14.810000   8.529167  ...   \n",
      "\n",
      "            Santa Cruz de Benfica    Santana  Santiago do Cacém  São Gonçalo  \\\n",
      "Data                                                                           \n",
      "2017-10-14              71.808333  51.045833          36.916667    56.933333   \n",
      "2017-10-15              61.808696  52.725000          39.250000    54.883333   \n",
      "2017-10-16              78.937500   9.433333          82.695652     9.970833   \n",
      "2017-10-17                    NaN  11.787500          46.125000     8.908333   \n",
      "2017-10-18              21.021429  17.429167          30.941176    15.658333   \n",
      "\n",
      "             São João  Seara-Matosinhos     Sonega     Terena  VNTelha-Maia  \\\n",
      "Data                                                                          \n",
      "2017-10-14  79.258333         40.500000  33.083333  55.083333     47.833333   \n",
      "2017-10-15  59.991667         56.500000  31.250000  58.375000     59.291667   \n",
      "2017-10-16  15.283333         55.666667  34.916667  59.208333     42.461538   \n",
      "2017-10-17  19.254167         23.791667  11.791667        NaN     18.285714   \n",
      "2017-10-18  24.783333          9.625000   5.666667  21.666667     10.916667   \n",
      "\n",
      "            proporção  \n",
      "Data                   \n",
      "2017-10-14   0.833333  \n",
      "2017-10-15   0.800000  \n",
      "2017-10-16   0.783333  \n",
      "2017-10-17   0.783333  \n",
      "2017-10-18   0.850000  \n",
      "\n",
      "[5 rows x 61 columns]\n",
      "              Alverca  Anta-Espinho      Arcos     Aveiro  \\\n",
      "Data                                                        \n",
      "2018-06-16  17.816667     14.833333  17.733333  17.125000   \n",
      "2018-06-17  16.033333     24.541667  18.320833  19.500000   \n",
      "2018-06-18  17.416667     21.058824  28.637500  26.416667   \n",
      "2018-06-19        NaN      6.791667  32.028571  19.541667   \n",
      "2018-06-20        NaN     13.681818  36.491667  27.125000   \n",
      "2018-06-21        NaN     11.416667  21.895833  19.458333   \n",
      "2018-06-22        NaN      9.434783  20.695833  14.250000   \n",
      "\n",
      "            Avenida da Liberdade    Avintes  Burgães-Santo Tirso  \\\n",
      "Data                                                               \n",
      "2018-06-16             29.712500  16.611111             9.714286   \n",
      "2018-06-17             28.112500  18.619048            11.666667   \n",
      "2018-06-18             37.541667  18.733333            11.041667   \n",
      "2018-06-19             45.908333  16.045455            16.000000   \n",
      "2018-06-20             48.416667  27.200000            24.454545   \n",
      "2018-06-21             35.741667  27.619048            13.000000   \n",
      "2018-06-22             32.883333  19.863636            17.500000   \n",
      "\n",
      "            Cascais - Escola da Cidadela      Cerro   Chamusca  ...  \\\n",
      "Data                                                            ...   \n",
      "2018-06-16                     21.183333  14.014286  11.808333  ...   \n",
      "2018-06-17                     22.108333  13.287500  15.116667  ...   \n",
      "2018-06-18                     42.279167  14.016667  15.984615  ...   \n",
      "2018-06-19                     41.470833  15.191667  21.995833  ...   \n",
      "2018-06-20                     41.123810  14.458333  29.045833  ...   \n",
      "2018-06-21                     30.979167  12.575000  17.783333  ...   \n",
      "2018-06-22                     24.283333  11.304167  12.091667  ...   \n",
      "\n",
      "            Santa Cruz de Benfica    Santana  São Gonçalo   São João  \\\n",
      "Data                                                                   \n",
      "2018-06-16                    NaN  19.104167    15.270833  21.016667   \n",
      "2018-06-17                    NaN  19.575000    21.591667  24.179167   \n",
      "2018-06-18                    NaN  16.808333    33.400000  36.225000   \n",
      "2018-06-19                    NaN   7.058333    12.841667  17.795833   \n",
      "2018-06-20                    NaN  10.658333    11.616667  18.520833   \n",
      "2018-06-21                    NaN  11.275000    13.204167  14.166667   \n",
      "2018-06-22                    NaN  11.070833    10.716667  16.120833   \n",
      "\n",
      "            Seara-Matosinhos     Sonega     Terena  VNTelha-Maia  \\\n",
      "Data                                                               \n",
      "2018-06-16         28.833333  12.666667  13.333333     15.380952   \n",
      "2018-06-17         30.958333  15.291667  12.000000     22.210526   \n",
      "2018-06-18         21.450000  18.000000  16.000000     16.047619   \n",
      "2018-06-19         23.772727  17.416667  16.047619     13.904762   \n",
      "2018-06-20         25.000000  19.291667  25.333333     25.705882   \n",
      "2018-06-21         27.708333  16.958333  15.291667     21.583333   \n",
      "2018-06-22         21.750000  16.125000   7.625000     15.142857   \n",
      "\n",
      "            Alfragide/Amadora  proporção  \n",
      "Data                                      \n",
      "2018-06-16                NaN   0.850000  \n",
      "2018-06-17                NaN   0.850000  \n",
      "2018-06-18                NaN   0.850000  \n",
      "2018-06-19                NaN   0.850000  \n",
      "2018-06-20                NaN   0.866667  \n",
      "2018-06-21                NaN   0.833333  \n",
      "2018-06-22                NaN   0.850000  \n",
      "\n",
      "[7 rows x 61 columns]\n"
     ]
    }
   ],
   "source": [
    "Fmedia2017 = Fmedia2017.replace(\"\", pd.NA)\n",
    "Fmedia2017[\"proporção\"] = Fmedia2017.notna().sum(axis=1) / (Fmedia2017.shape[1])\n",
    "print(Fmedia2017)\n",
    "Fmedia2017.to_excel(\"apa/F5media2017.xlsx\")\n",
    "\n",
    "Fmedia2018 = Fmedia2018.replace(\"\", pd.NA)\n",
    "Fmedia2018[\"proporção\"] = (Fmedia2018.notna().sum(axis=1) / (Fmedia2018.shape[1]))\n",
    "print(Fmedia2018)\n",
    "Fmedia2018.to_excel(\"apa/F5media2018.xlsx\")"
   ]
  },
  {
   "cell_type": "code",
   "execution_count": 19,
   "id": "eb75e69f",
   "metadata": {},
   "outputs": [
    {
     "name": "stdout",
     "output_type": "stream",
     "text": [
      "['codigo_est', 'nome_estac', 'data_inici', 'data_fim', 'latitude', 'longitude', 'rede_codig', 'rede_nome', 'rede_aqd_o', 'geometry']\n",
      "Dimensão da info geofŕafica das estações: (65, 10)\n",
      "\n",
      "    codigo_est                      nome_estac  data_inici    data_fim  \\\n",
      "0  STA-PT01053                         Avintes  12/07/2010  0000/00/00   \n",
      "1  STA-PT01021             Custóias-Matosinhos  01/09/1998  0000/00/00   \n",
      "2  STA-PT01023               Ermesinde-Valongo  01/10/1998  0000/00/00   \n",
      "3  STA-PT01024             D.Manuel II-Vermoim  01/11/1999  0000/00/00   \n",
      "4  STA-PT01028  Francisco Sá Carneiro-Campanha  19/09/2000  0000/00/00   \n",
      "\n",
      "    latitude  longitude   rede_codig                         rede_nome  \\\n",
      "0  41.098187  -8.554351  NET-PT00015  Rede de Qualidade do Ar do Norte   \n",
      "1  41.199805  -8.644844  NET-PT00015  Rede de Qualidade do Ar do Norte   \n",
      "2  41.206605  -8.552600  NET-PT00015  Rede de Qualidade do Ar do Norte   \n",
      "3  41.235563  -8.618715  NET-PT00015  Rede de Qualidade do Ar do Norte   \n",
      "4  41.162791  -8.590847  NET-PT00015  Rede de Qualidade do Ar do Norte   \n",
      "\n",
      "  rede_aqd_o                   geometry  \n",
      "0   regional  POINT (-8.55435 41.09819)  \n",
      "1   regional  POINT (-8.64484 41.19981)  \n",
      "2   regional   POINT (-8.5526 41.20661)  \n",
      "3   regional  POINT (-8.61872 41.23556)  \n",
      "4   regional  POINT (-8.59085 41.16279)  \n"
     ]
    }
   ],
   "source": [
    "gdf = gpd.read_file(\"estacoes/qualar_estacao_inspire_vw.shp\")\n",
    "print(gdf.columns.tolist())\n",
    "print(f\"Dimensão da info geofŕafica das estações: {gdf.shape}\\n\")\n",
    "print(gdf.head())"
   ]
  },
  {
   "cell_type": "code",
   "execution_count": 20,
   "id": "8b139a18",
   "metadata": {},
   "outputs": [
    {
     "name": "stdout",
     "output_type": "stream",
     "text": [
      "<xarray.Dataset> Size: 4MB\n",
      "Dimensions:    (lon: 40, lat: 66, time: 365, bnds: 2)\n",
      "Coordinates:\n",
      "  * lon        (lon) float64 320B -10.0 -9.9 -9.8 -9.7 ... -6.4 -6.3 -6.2 -6.1\n",
      "  * lat        (lat) float64 528B 36.5 36.6 36.7 36.8 ... 42.7 42.8 42.9 43.0\n",
      "  * time       (time) datetime64[ns] 3kB 2017-01-01T11:30:00 ... 2017-12-31T1...\n",
      "Dimensions without coordinates: bnds\n",
      "Data variables:\n",
      "    time_bnds  (time, bnds) datetime64[ns] 6kB ...\n",
      "    pm10       (time, lat, lon) float32 4MB ...\n",
      "Attributes:\n",
      "    CDI:          Climate Data Interface version ?? (http://mpimet.mpg.de/cdi)\n",
      "    Conventions:  CF-1.7\n",
      "    history:      Fri Apr 11 12:39:22 2025: cdo daymean PM10_2017.nc PM10_day...\n",
      "    Title:        CAMS European air quality interim reanalysis\n",
      "    Provider:     COPERNICUS European air quality service\n",
      "    Production:   COPERNICUS Atmosphere Monitoring Service\n",
      "    CDO:          Climate Data Operators version 1.7.0 (http://mpimet.mpg.de/...\n"
     ]
    }
   ],
   "source": [
    "cams2017 = xr.open_dataset(\"cams/PM10_daymean_2017.nc\")\n",
    "print(cams2017)"
   ]
  },
  {
   "cell_type": "code",
   "execution_count": 21,
   "id": "2e59f001",
   "metadata": {},
   "outputs": [
    {
     "name": "stdout",
     "output_type": "stream",
     "text": [
      "Data variables:\n",
      "    time_bnds  (time, bnds) datetime64[ns] 6kB ...\n",
      "    pm10       (time, lat, lon) float32 4MB ...\n",
      "---------------------------------------\n",
      "\n",
      "Coordinates:\n",
      "  * lon      (lon) float64 320B -10.0 -9.9 -9.8 -9.7 ... -6.4 -6.3 -6.2 -6.1\n",
      "  * lat      (lat) float64 528B 36.5 36.6 36.7 36.8 36.9 ... 42.7 42.8 42.9 43.0\n",
      "  * time     (time) datetime64[ns] 3kB 2017-01-01T11:30:00 ... 2017-12-31T11:...\n",
      "---------------------------------------\n",
      "\n",
      "<xarray.DataArray 'pm10' (time: 365, lat: 66, lon: 40)> Size: 4MB\n",
      "[963600 values with dtype=float32]\n",
      "Coordinates:\n",
      "  * lon      (lon) float64 320B -10.0 -9.9 -9.8 -9.7 ... -6.4 -6.3 -6.2 -6.1\n",
      "  * lat      (lat) float64 528B 36.5 36.6 36.7 36.8 36.9 ... 42.7 42.8 42.9 43.0\n",
      "  * time     (time) datetime64[ns] 3kB 2017-01-01T11:30:00 ... 2017-12-31T11:...\n",
      "Attributes:\n",
      "    standard_name:  mass_concentration_of_pm10_ambient_aerosol_in_air\n",
      "    long_name:      mass concentration of particulate matter with d < 10 µm\n",
      "    units:          µg/m3\n",
      "---------------------------------------\n"
     ]
    }
   ],
   "source": [
    "print(cams2017.data_vars)\n",
    "print(\"---------------------------------------\\n\")\n",
    "print(cams2017.coords)\n",
    "print(\"---------------------------------------\\n\")\n",
    "print(cams2017[\"pm10\"])\n",
    "print(\"---------------------------------------\")"
   ]
  },
  {
   "cell_type": "markdown",
   "id": "fb1bf2b1",
   "metadata": {},
   "source": [
    "![1 de janeiro de 2017](imagens/1_janeiro_2017.png)\n",
    "![15 de outubro de 2017](imagens/15_outubro_2017.png)\n",
    "![19 de junho de 2018](imagens/19_junho_2018.png)"
   ]
  },
  {
   "cell_type": "code",
   "execution_count": 22,
   "id": "59ab5889",
   "metadata": {},
   "outputs": [
    {
     "name": "stdout",
     "output_type": "stream",
     "text": [
      "['time', 'lat', 'lon', 'pm10']\n",
      "Dimensão dos dados das camaras: (963600, 4)\n",
      "\n",
      "                 time   lat   lon       pm10\n",
      "0 2017-01-01 11:30:00  36.5 -10.0  18.154917\n",
      "1 2017-01-01 11:30:00  36.5  -9.9  17.517908\n",
      "2 2017-01-01 11:30:00  36.5  -9.8  16.446743\n",
      "3 2017-01-01 11:30:00  36.5  -9.7  16.456955\n",
      "4 2017-01-01 11:30:00  36.5  -9.6  16.954844\n"
     ]
    }
   ],
   "source": [
    "pm10 = cams2017[\"pm10\"]\n",
    "cams2017df = pm10.to_dataframe().reset_index()\n",
    "print(cams2017df.columns.tolist())\n",
    "print(f\"Dimensão dos dados das camaras: {cams2017df.shape}\\n\")\n",
    "print(cams2017df.head())\n",
    "excerto2017 = cams2017df.iloc[:len(cams2017df)//10] #para ver o que se passava é mais fácil ver somente um décimo do dataset visto que é enorme\n",
    "excerto2017.to_excel(\"cams/pm10cams2017.xlsx\", index=False)\n"
   ]
  },
  {
   "cell_type": "markdown",
   "id": "d6974fc3",
   "metadata": {},
   "source": [
    "1) Atribuir coordenadas às localidades no dataframe com os valores médios limpos\n",
    "2) É preciso projeção de coordenadas ou os dados das cams e apa estão ampas no mesmo tipo???? \n",
    "    caso não: arredondar visto que nas netCDFs a latitude e longitude estão arredondadas ---> pode levar a problemas depois na comparação\n",
    "3) Juntar dados num unico dataset (2 no nosso caso, 1 para cada): \n",
    "    ordem cronologica\n",
    "    pm10 apa e pm10 cams\n",
    "    localidade com as respetivas coordenadas"
   ]
  },
  {
   "cell_type": "code",
   "execution_count": 23,
   "id": "e700e823",
   "metadata": {},
   "outputs": [
    {
     "name": "stdout",
     "output_type": "stream",
     "text": [
      "    codigo_est                      nome_estac  data_inici    data_fim  \\\n",
      "0  STA-PT01053                         Avintes  12/07/2010  0000/00/00   \n",
      "1  STA-PT01021             Custóias-Matosinhos  01/09/1998  0000/00/00   \n",
      "2  STA-PT01023               Ermesinde-Valongo  01/10/1998  0000/00/00   \n",
      "3  STA-PT01024             D.Manuel II-Vermoim  01/11/1999  0000/00/00   \n",
      "4  STA-PT01028  Francisco Sá Carneiro-Campanha  19/09/2000  0000/00/00   \n",
      "\n",
      "    latitude  longitude   rede_codig                         rede_nome  \\\n",
      "0  41.098187  -8.554351  NET-PT00015  Rede de Qualidade do Ar do Norte   \n",
      "1  41.199805  -8.644844  NET-PT00015  Rede de Qualidade do Ar do Norte   \n",
      "2  41.206605  -8.552600  NET-PT00015  Rede de Qualidade do Ar do Norte   \n",
      "3  41.235563  -8.618715  NET-PT00015  Rede de Qualidade do Ar do Norte   \n",
      "4  41.162791  -8.590847  NET-PT00015  Rede de Qualidade do Ar do Norte   \n",
      "\n",
      "  rede_aqd_o                   geometry     3763_long       3763_lat  \n",
      "0   regional  POINT (-8.55435 41.09819) -35388.726933  158867.677319  \n",
      "1   regional  POINT (-8.64484 41.19981) -42924.770151  170193.796239  \n",
      "2   regional   POINT (-8.5526 41.20661) -35183.611562  170907.573844  \n",
      "3   regional  POINT (-8.61872 41.23556) -40710.864377  174152.466336  \n",
      "4   regional  POINT (-8.59085 41.16279) -38417.071842  166057.858413  \n"
     ]
    }
   ],
   "source": [
    "transformer = Transformer.from_crs(\"EPSG:4326\", \"EPSG:3763\", always_xy=True)\n",
    "gdf.to_excel(\"apa/gdf1.xlsx\", index=False)\n",
    "x, y = transformer.transform(gdf['longitude'].values, gdf['latitude'].values)\n",
    "\n",
    "gdf[\"3763_long\"] = x\n",
    "gdf[\"3763_lat\"] = y\n",
    "print(gdf.head())\n",
    "gdf.to_excel(\"apa/gdf2.xlsx\", index=False)"
   ]
  },
  {
   "cell_type": "code",
   "execution_count": 24,
   "id": "d811ea63",
   "metadata": {},
   "outputs": [
    {
     "name": "stdout",
     "output_type": "stream",
     "text": [
      "                 time   lat   lon       pm10      3763_long       3763_lat\n",
      "0 2017-01-01 11:30:00  36.5 -10.0  18.154917 -167265.612117 -350049.532044\n",
      "1 2017-01-01 11:30:00  36.5  -9.9  17.517908 -158305.172793 -350218.603496\n",
      "2 2017-01-01 11:30:00  36.5  -9.8  16.446743 -149344.875659 -350378.361097\n",
      "3 2017-01-01 11:30:00  36.5  -9.7  16.456955 -140384.712685 -350528.806258\n",
      "4 2017-01-01 11:30:00  36.5  -9.6  16.954844 -131424.675835 -350669.940311\n"
     ]
    }
   ],
   "source": [
    "x1, y1 = transformer.transform(cams2017df['lon'].values, cams2017df['lat'].values)\n",
    "\n",
    "cams2017df.loc[:, \"3763_long\"] = x1\n",
    "cams2017df.loc[:, \"3763_lat\"] = y1\n",
    "\n",
    "print(cams2017df.head())\n"
   ]
  },
  {
   "cell_type": "code",
   "execution_count": 25,
   "id": "60d259ad",
   "metadata": {},
   "outputs": [
    {
     "name": "stdout",
     "output_type": "stream",
     "text": [
      "['time', 'lat', 'lon', 'pm10']\n",
      "Dimensão dos dados das camaras: (963600, 4)\n",
      "\n",
      "                 time   lat   lon       pm10\n",
      "0 2018-01-01 11:30:00  36.5 -10.0  22.185546\n",
      "1 2018-01-01 11:30:00  36.5  -9.9  22.135416\n",
      "2 2018-01-01 11:30:00  36.5  -9.8  22.132486\n",
      "3 2018-01-01 11:30:00  36.5  -9.7  22.175129\n",
      "4 2018-01-01 11:30:00  36.5  -9.6  22.148437\n"
     ]
    }
   ],
   "source": [
    "cams2018 = xr.open_dataset(\"cams/PM10_daymean_2018.nc\")\n",
    "pm10 = cams2018[\"pm10\"]\n",
    "cams2018df = pm10.to_dataframe().reset_index()\n",
    "print(cams2018df.columns.tolist())\n",
    "print(f\"Dimensão dos dados das camaras: {cams2018df.shape}\\n\")\n",
    "print(cams2018df.head())"
   ]
  },
  {
   "cell_type": "code",
   "execution_count": 26,
   "id": "ac3b93a7",
   "metadata": {},
   "outputs": [
    {
     "name": "stdout",
     "output_type": "stream",
     "text": [
      "                 time   lat   lon       pm10      3763_long       3763_lat\n",
      "0 2018-01-01 11:30:00  36.5 -10.0  22.185546 -167265.612117 -350049.532044\n",
      "1 2018-01-01 11:30:00  36.5  -9.9  22.135416 -158305.172793 -350218.603496\n",
      "2 2018-01-01 11:30:00  36.5  -9.8  22.132486 -149344.875659 -350378.361097\n",
      "3 2018-01-01 11:30:00  36.5  -9.7  22.175129 -140384.712685 -350528.806258\n",
      "4 2018-01-01 11:30:00  36.5  -9.6  22.148437 -131424.675835 -350669.940311\n"
     ]
    }
   ],
   "source": [
    "x1, y1 = transformer.transform(cams2018df['lon'].values, cams2018df['lat'].values)\n",
    "\n",
    "cams2018df.loc[:, \"3763_long\"] = x1\n",
    "cams2018df.loc[:, \"3763_lat\"] = y1\n",
    "\n",
    "print(cams2018df.head())"
   ]
  },
  {
   "cell_type": "code",
   "execution_count": 27,
   "id": "e4a88c50",
   "metadata": {},
   "outputs": [
    {
     "name": "stdout",
     "output_type": "stream",
     "text": [
      "<class 'pandas._libs.tslibs.timestamps.Timestamp'>\n",
      "<class 'pandas._libs.tslibs.timestamps.Timestamp'>\n"
     ]
    }
   ],
   "source": [
    "print(type(cams2017df.iloc[0,0]))\n",
    "cams2017df[\"time\"] = pd.to_datetime(cams2017df[\"time\"], format='%Y-%m-%d %H:%M:%S')\n",
    "print(type(cams2017df.iloc[0,0]))\n",
    "cams2018df[\"time\"] = pd.to_datetime(cams2018df[\"time\"], format='%Y-%m-%d %H:%M:%S')"
   ]
  },
  {
   "cell_type": "code",
   "execution_count": 28,
   "id": "1f05da9e",
   "metadata": {},
   "outputs": [
    {
     "name": "stdout",
     "output_type": "stream",
     "text": [
      "                      time   lat   lon       pm10      3763_long  \\\n",
      "755040 2017-10-14 11:30:00  36.5 -10.0  42.453941 -167265.612117   \n",
      "755041 2017-10-14 11:30:00  36.5  -9.9  42.392410 -158305.172793   \n",
      "755042 2017-10-14 11:30:00  36.5  -9.8  42.162560 -149344.875659   \n",
      "755043 2017-10-14 11:30:00  36.5  -9.7  41.917164 -140384.712685   \n",
      "755044 2017-10-14 11:30:00  36.5  -9.6  42.237843 -131424.675835   \n",
      "...                    ...   ...   ...        ...            ...   \n",
      "768235 2017-10-18 11:30:00  43.0  -6.5  16.272829  133166.524410   \n",
      "768236 2017-10-18 11:30:00  43.0  -6.4  13.677632  141320.872736   \n",
      "768237 2017-10-18 11:30:00  43.0  -6.3  12.745512  149475.251732   \n",
      "768238 2017-10-18 11:30:00  43.0  -6.2  12.116454  157629.663144   \n",
      "768239 2017-10-18 11:30:00  43.0  -6.1  12.044427  165784.108715   \n",
      "\n",
      "             3763_lat  \n",
      "755040 -350049.532044  \n",
      "755041 -350218.603496  \n",
      "755042 -350378.361097  \n",
      "755043 -350528.806258  \n",
      "755044 -350669.940311  \n",
      "...               ...  \n",
      "768235  371319.110964  \n",
      "768236  371482.524421  \n",
      "768237  371655.653689  \n",
      "768238  371838.499941  \n",
      "768239  372031.064418  \n",
      "\n",
      "[13200 rows x 6 columns]\n"
     ]
    }
   ],
   "source": [
    "#outubro de 2017 (14-18)\n",
    "mask = (cams2017df[\"time\"] >= pd.to_datetime('2017-10-14')) & (cams2017df[\"time\"] < pd.to_datetime('2017-10-19')) #devolve um dicionario de falso ou correto para a condição\n",
    "camaras2017 = cams2017df.loc[mask]\n",
    "camaras2017 = camaras2017.copy() #só para não haver mutabilidade visto que o dataframe é uma fatia de outro\n",
    "print(camaras2017)\n",
    "camaras2017.to_excel(\"cams/cams2017_14_18outubro.xlsx\", index=False)"
   ]
  },
  {
   "cell_type": "code",
   "execution_count": 29,
   "id": "cc3d391b",
   "metadata": {},
   "outputs": [
    {
     "name": "stdout",
     "output_type": "stream",
     "text": [
      "                      time   lat   lon       pm10      3763_long  \\\n",
      "438240 2018-06-16 11:30:00  36.5 -10.0  27.978189 -167265.612117   \n",
      "438241 2018-06-16 11:30:00  36.5  -9.9  27.848306 -158305.172793   \n",
      "438242 2018-06-16 11:30:00  36.5  -9.8  27.857421 -149344.875659   \n",
      "438243 2018-06-16 11:30:00  36.5  -9.7  27.400064 -140384.712685   \n",
      "438244 2018-06-16 11:30:00  36.5  -9.6  27.009765 -131424.675835   \n",
      "...                    ...   ...   ...        ...            ...   \n",
      "456715 2018-06-22 11:30:00  43.0  -6.5  11.020507  133166.524410   \n",
      "456716 2018-06-22 11:30:00  43.0  -6.4  10.670572  141320.872736   \n",
      "456717 2018-06-22 11:30:00  43.0  -6.3  10.260986  149475.251732   \n",
      "456718 2018-06-22 11:30:00  43.0  -6.2  10.341471  157629.663144   \n",
      "456719 2018-06-22 11:30:00  43.0  -6.1  10.629801  165784.108715   \n",
      "\n",
      "             3763_lat  \n",
      "438240 -350049.532044  \n",
      "438241 -350218.603496  \n",
      "438242 -350378.361097  \n",
      "438243 -350528.806258  \n",
      "438244 -350669.940311  \n",
      "...               ...  \n",
      "456715  371319.110964  \n",
      "456716  371482.524421  \n",
      "456717  371655.653689  \n",
      "456718  371838.499941  \n",
      "456719  372031.064418  \n",
      "\n",
      "[18480 rows x 6 columns]\n"
     ]
    }
   ],
   "source": [
    "#junho de 2018 (16-22)\n",
    "mask = (cams2018df[\"time\"] >= pd.to_datetime('2018-06-16')) & (cams2018df[\"time\"] < pd.to_datetime('2018-06-23')) #devolve um dicionario de falso ou correto para a condição\n",
    "camaras2018 = cams2018df.loc[mask]\n",
    "camaras2018 = camaras2018.copy() #só para não haver mutabilidade visto que o dataframe é uma fatia de outro\n",
    "print(camaras2018)\n",
    "camaras2018.to_excel(\"cams/cams2018_16_22junho.xlsx\", index=False)"
   ]
  },
  {
   "cell_type": "code",
   "execution_count": 30,
   "id": "37b9345d",
   "metadata": {},
   "outputs": [
    {
     "name": "stdout",
     "output_type": "stream",
     "text": [
      "                       nome_estac     3763_long       3763_lat\n",
      "0                         Avintes -35388.726933  158867.677319\n",
      "1             Custóias-Matosinhos -42924.770151  170193.796239\n",
      "2               Ermesinde-Valongo -35183.611562  170907.573844\n",
      "3             D.Manuel II-Vermoim -40710.864377  174152.466336\n",
      "4  Francisco Sá Carneiro-Campanha -38417.071842  166057.858413\n"
     ]
    }
   ],
   "source": [
    "gdf_min = gdf[['nome_estac', '3763_long', '3763_lat']]\n",
    "print(gdf_min.head())"
   ]
  },
  {
   "cell_type": "code",
   "execution_count": 31,
   "id": "d9518382",
   "metadata": {},
   "outputs": [
    {
     "name": "stdout",
     "output_type": "stream",
     "text": [
      "                      time   lat   lon       pm10      3763_long  \\\n",
      "755040 2017-10-14 11:30:00  36.5 -10.0  42.453941 -167265.612117   \n",
      "755041 2017-10-14 11:30:00  36.5  -9.9  42.392410 -158305.172793   \n",
      "755042 2017-10-14 11:30:00  36.5  -9.8  42.162560 -149344.875659   \n",
      "755043 2017-10-14 11:30:00  36.5  -9.7  41.917164 -140384.712685   \n",
      "755044 2017-10-14 11:30:00  36.5  -9.6  42.237843 -131424.675835   \n",
      "\n",
      "             3763_lat  \n",
      "755040 -350049.532044  \n",
      "755041 -350218.603496  \n",
      "755042 -350378.361097  \n",
      "755043 -350528.806258  \n",
      "755044 -350669.940311  \n",
      "                 time   lat   lon       pm10      3763_long       3763_lat  \\\n",
      "0 2017-10-14 11:30:00  36.5 -10.0  42.453941 -167265.612117 -350049.532044   \n",
      "1 2017-10-14 11:30:00  36.5  -9.9  42.392410 -158305.172793 -350218.603496   \n",
      "2 2017-10-14 11:30:00  36.5  -9.8  42.162560 -149344.875659 -350378.361097   \n",
      "3 2017-10-14 11:30:00  36.5  -9.7  41.917164 -140384.712685 -350528.806258   \n",
      "4 2017-10-14 11:30:00  36.5  -9.6  42.237843 -131424.675835 -350669.940311   \n",
      "\n",
      "  nome_estac  \n",
      "0        NaN  \n",
      "1        NaN  \n",
      "2        NaN  \n",
      "3        NaN  \n",
      "4        NaN  \n"
     ]
    }
   ],
   "source": [
    "print(camaras2017.head())\n",
    "cam2017_estac =  camaras2017.merge(gdf_min, on=['3763_lat', '3763_long'], how='left')\n",
    "print(cam2017_estac.head())"
   ]
  },
  {
   "cell_type": "code",
   "execution_count": 32,
   "id": "7256e151",
   "metadata": {},
   "outputs": [
    {
     "name": "stdout",
     "output_type": "stream",
     "text": [
      "[nan]\n"
     ]
    },
    {
     "data": {
      "text/plain": [
       "'NÃO DEU'"
      ]
     },
     "execution_count": 32,
     "metadata": {},
     "output_type": "execute_result"
    }
   ],
   "source": [
    "print(cam2017_estac[\"nome_estac\"].unique())\n",
    "\n",
    "\"\"\"NÃO DEU\"\"\""
   ]
  },
  {
   "cell_type": "code",
   "execution_count": 33,
   "id": "d53bae1c",
   "metadata": {},
   "outputs": [
    {
     "name": "stdout",
     "output_type": "stream",
     "text": [
      "                 time   lat   lon       pm10      3763_long       3763_lat  \\\n",
      "0 2017-10-14 11:30:00  36.5 -10.0  42.453941 -167265.612117 -350049.532044   \n",
      "1 2017-10-14 11:30:00  36.5  -9.9  42.392410 -158305.172793 -350218.603496   \n",
      "2 2017-10-14 11:30:00  36.5  -9.8  42.162560 -149344.875659 -350378.361097   \n",
      "3 2017-10-14 11:30:00  36.5  -9.7  41.917164 -140384.712685 -350528.806258   \n",
      "4 2017-10-14 11:30:00  36.5  -9.6  42.237843 -131424.675835 -350669.940311   \n",
      "\n",
      "  nome_estac  \n",
      "0        NaN  \n",
      "1        NaN  \n",
      "2        NaN  \n",
      "3        NaN  \n",
      "4        NaN  \n",
      "[nan]\n"
     ]
    },
    {
     "data": {
      "text/plain": [
       "'NÃO DEU'"
      ]
     },
     "execution_count": 33,
     "metadata": {},
     "output_type": "execute_result"
    }
   ],
   "source": [
    "gdf_min = gdf[['nome_estac', 'longitude', 'latitude']]\n",
    "gdf_min = gdf_min.rename(columns={\n",
    "    'latitude': 'lat',\n",
    "    'longitude': 'lon'\n",
    "})\n",
    "cam2017_estac =  camaras2017.merge(gdf_min, on=['lat', 'lon'], how='left')\n",
    "print(cam2017_estac.head())\n",
    "print(cam2017_estac[\"nome_estac\"].unique())\n",
    "\n",
    "\"\"\"NÃO DEU\"\"\"\n"
   ]
  },
  {
   "cell_type": "code",
   "execution_count": 34,
   "id": "91805269",
   "metadata": {},
   "outputs": [
    {
     "name": "stdout",
     "output_type": "stream",
     "text": [
      "             3763_lat      3763_long\n",
      "755040 -350049.532044 -167265.612117\n",
      "755041 -350218.603496 -158305.172793\n",
      "755042 -350378.361097 -149344.875659\n",
      "755043 -350528.806258 -140384.712685\n",
      "755044 -350669.940311 -131424.675835\n",
      "...               ...            ...\n",
      "757675  371319.110964  133166.524410\n",
      "757676  371482.524421  141320.872736\n",
      "757677  371655.653689  149475.251732\n",
      "757678  371838.499941  157629.663144\n",
      "757679  372031.064418  165784.108715\n",
      "\n",
      "[2640 rows x 2 columns]\n",
      "nº de coordenadas unicas: 2640\n",
      "entries no df inteiro: 13200\n",
      "13200\n"
     ]
    }
   ],
   "source": [
    "print(camaras2017[['3763_lat', '3763_long']].drop_duplicates())\n",
    "print(\"nº de coordenadas unicas:\", len(camaras2017[['3763_lat', '3763_long']].drop_duplicates()))\n",
    "print(\"entries no df inteiro:\", camaras2017.shape[0])\n",
    "print(5 * 2640)"
   ]
  },
  {
   "cell_type": "code",
   "execution_count": 35,
   "id": "2f9646c7",
   "metadata": {},
   "outputs": [
    {
     "name": "stdout",
     "output_type": "stream",
     "text": [
      "             3763_lat      3763_long\n",
      "438240 -350049.532044 -167265.612117\n",
      "438241 -350218.603496 -158305.172793\n",
      "438242 -350378.361097 -149344.875659\n",
      "438243 -350528.806258 -140384.712685\n",
      "438244 -350669.940311 -131424.675835\n",
      "...               ...            ...\n",
      "440875  371319.110964  133166.524410\n",
      "440876  371482.524421  141320.872736\n",
      "440877  371655.653689  149475.251732\n",
      "440878  371838.499941  157629.663144\n",
      "440879  372031.064418  165784.108715\n",
      "\n",
      "[2640 rows x 2 columns]\n",
      "nº de coordenadas unicas: 2640\n",
      "entries no df inteiro: 18480\n",
      "18480\n"
     ]
    }
   ],
   "source": [
    "print(camaras2018[['3763_lat', '3763_long']].drop_duplicates())\n",
    "print(\"nº de coordenadas unicas:\", len(camaras2018[['3763_lat', '3763_long']].drop_duplicates()))\n",
    "print(\"entries no df inteiro:\", camaras2018.shape[0])\n",
    "print(7 * 2640)"
   ]
  },
  {
   "cell_type": "code",
   "execution_count": 36,
   "id": "f5c69c3b",
   "metadata": {},
   "outputs": [
    {
     "data": {
      "text/plain": [
       "np.True_"
      ]
     },
     "execution_count": 36,
     "metadata": {},
     "output_type": "execute_result"
    }
   ],
   "source": [
    "(camaras2017[['3763_lat', '3763_long']].iloc[:-2640].values == camaras2017[['3763_lat', '3763_long']].iloc[2640:].values).all()"
   ]
  },
  {
   "cell_type": "code",
   "execution_count": 37,
   "id": "97737483",
   "metadata": {},
   "outputs": [
    {
     "data": {
      "text/plain": [
       "np.True_"
      ]
     },
     "execution_count": 37,
     "metadata": {},
     "output_type": "execute_result"
    }
   ],
   "source": [
    "(camaras2018[['3763_lat', '3763_long']].iloc[:-2640].values == camaras2018[['3763_lat', '3763_long']].iloc[2640:].values).all()"
   ]
  },
  {
   "cell_type": "code",
   "execution_count": 38,
   "id": "2dad6cab",
   "metadata": {},
   "outputs": [
    {
     "data": {
      "text/plain": [
       "'CONCLUSÃO: coordenadas repetem passado 2640 entradas'"
      ]
     },
     "execution_count": 38,
     "metadata": {},
     "output_type": "execute_result"
    }
   ],
   "source": [
    "\"\"\"CONCLUSÃO: coordenadas repetem passado 2640 entradas\"\"\""
   ]
  },
  {
   "cell_type": "code",
   "execution_count": 39,
   "id": "4abd9a33",
   "metadata": {},
   "outputs": [
    {
     "name": "stdout",
     "output_type": "stream",
     "text": [
      "time         2017-10-14 11:30:00\n",
      "lat                         43.0\n",
      "lon                         -6.1\n",
      "pm10                   32.025784\n",
      "3763_long          165784.108715\n",
      "3763_lat           372031.064418\n",
      "Name: 757679, dtype: object\n"
     ]
    }
   ],
   "source": [
    "treecam2017 = camaras2017.iloc[:2640]\n",
    "print(treecam2017.iloc[-1])\n",
    "coord_array = treecam2017[['3763_lat', '3763_long']].to_numpy()\n",
    "station_array = gdf[['3763_lat', '3763_long']].to_numpy()\n",
    "tree = cKDTree(station_array)\n",
    "distances, indices = tree.query(coord_array, k=1)"
   ]
  },
  {
   "cell_type": "code",
   "execution_count": 40,
   "id": "2b80e6a8",
   "metadata": {},
   "outputs": [
    {
     "name": "stdout",
     "output_type": "stream",
     "text": [
      "['David Neto' 'Malpique' 'Joaquim Magalhães' 'Cerro' 'Monte Chãos'\n",
      " 'Sonega' 'Terena' 'Cascais - Escola da Cidadela' 'Santiago do Cacém'\n",
      " 'Monte Velho' 'Paio Pires' 'Arcos' 'Quebedo' 'Camarinha' 'Fernando Pó'\n",
      " 'Laranjeiro' 'Quinta do Marquês' 'Fidalguinhos' 'Restelo' 'Beato'\n",
      " 'Lavradio' 'Mem Martins' 'Odivelas-Ramada' 'Olivais' 'Alverca'\n",
      " 'Loures-Centro' 'Chamusca' 'Lourinhã' 'Fundão' 'Ervedeira'\n",
      " 'Instituto Geofísico de Coimbra' 'Montemor-o-Velho'\n",
      " 'Coimbra/ Avenida Fernão Magalhães' 'Fornelo do Monte' 'Ílhavo' 'Aveiro'\n",
      " 'Estarreja' 'Santa Combinha' 'Meco-Perafita' 'Anta-Espinho' 'Douro Norte'\n",
      " 'Sobreiras-Lordelo do Ouro' 'Avintes'\n",
      " 'Pe Moreira Neves-Castelões de Cepeda' 'Mindelo-Vila do Conde'\n",
      " 'Seara-Matosinhos' 'Leça do Balio-Matosinhos' 'Ermesinde-Valongo'\n",
      " 'D.Manuel II-Vermoim' 'Burgães-Santo Tirso' 'Paços de Ferreira'\n",
      " 'Cónego Dr. Manuel Faria-Azurém' 'Frossos-Braga'\n",
      " 'Fr Bartolomeu Mártires-S.Vitor' 'Minho-Lima']\n",
      "55\n"
     ]
    },
    {
     "name": "stderr",
     "output_type": "stream",
     "text": [
      "/tmp/ipykernel_3411/1059474684.py:1: SettingWithCopyWarning: \n",
      "A value is trying to be set on a copy of a slice from a DataFrame.\n",
      "Try using .loc[row_indexer,col_indexer] = value instead\n",
      "\n",
      "See the caveats in the documentation: https://pandas.pydata.org/pandas-docs/stable/user_guide/indexing.html#returning-a-view-versus-a-copy\n",
      "  treecam2017['nearest_station'] = gdf.iloc[indices]['nome_estac'].values\n"
     ]
    }
   ],
   "source": [
    "treecam2017['nearest_station'] = gdf.iloc[indices]['nome_estac'].values\n",
    "\n",
    "print(treecam2017[\"nearest_station\"].unique())\n",
    "print(len(treecam2017[\"nearest_station\"].unique()))"
   ]
  },
  {
   "cell_type": "code",
   "execution_count": 41,
   "id": "43ffcf82",
   "metadata": {},
   "outputs": [
    {
     "name": "stdout",
     "output_type": "stream",
     "text": [
      "[None 'Joaquim Magalhães' 'David Neto' 'Malpique' 'Cerro' 'Sonega'\n",
      " 'Monte Chãos' 'Santiago do Cacém' 'Monte Velho' 'Quebedo' 'Camarinha'\n",
      " 'Restelo' 'Laranjeiro' 'Paio Pires' 'Fidalguinhos' 'Arcos' 'Fernando Pó'\n",
      " 'Terena' 'Cascais - Escola da Cidadela' 'Quinta do Marquês'\n",
      " 'Alfragide/Amadora' 'Avenida da Liberdade' 'Beato' 'Escavadeira'\n",
      " 'Lavradio' 'Mem Martins' 'Reboleira' 'Santa Cruz de Benfica'\n",
      " 'Entrecampos' 'Olivais' 'Odivelas-Ramada' 'Loures-Centro' 'Alverca'\n",
      " 'Lourinhã' 'Chamusca' 'Ervedeira' 'Montemor-o-Velho'\n",
      " 'Coimbra/ Avenida Fernão Magalhães' 'Instituto Geofísico de Coimbra'\n",
      " 'Fundão' 'Ílhavo' 'Aveiro' 'Fornelo do Monte' 'Estarreja' 'Anta-Espinho'\n",
      " 'João Gomes Laranjo-S.Hora' 'Sobreiras-Lordelo do Ouro'\n",
      " 'Francisco Sá Carneiro-Campanha' 'Avintes' 'Meco-Perafita'\n",
      " 'Seara-Matosinhos' 'Custóias-Matosinhos' 'Ermesinde-Valongo'\n",
      " 'Pe Moreira Neves-Castelões de Cepeda' 'Mindelo-Vila do Conde'\n",
      " 'VNTelha-Maia' 'D.Manuel II-Vermoim' 'Leça do Balio-Matosinhos'\n",
      " 'Paços de Ferreira' 'Burgães-Santo Tirso'\n",
      " 'Cónego Dr. Manuel Faria-Azurém' 'Douro Norte'\n",
      " 'Fr Bartolomeu Mártires-S.Vitor' 'Frossos-Braga' 'Santa Combinha'\n",
      " 'Minho-Lima']\n",
      "66\n",
      "755040    None\n",
      "755041    None\n",
      "755042    None\n",
      "755043    None\n",
      "755044    None\n",
      "          ... \n",
      "757675    None\n",
      "757676    None\n",
      "757677    None\n",
      "757678    None\n",
      "757679    None\n",
      "Name: nearest_station, Length: 2640, dtype: object\n"
     ]
    }
   ],
   "source": [
    "distance_matrix = cdist(coord_array, station_array)\n",
    "station_idx, coord_idx = linear_sum_assignment(distance_matrix.T)\n",
    "treecam2017 = treecam2017.copy()\n",
    "treecam2017['nearest_station'] = None\n",
    "treecam2017.iloc[coord_idx, treecam2017.columns.get_loc('nearest_station')] = gdf.iloc[station_idx]['nome_estac'].values\n",
    "\n",
    "print(treecam2017[\"nearest_station\"].unique())\n",
    "print(len(treecam2017[\"nearest_station\"].unique()))\n",
    "print(treecam2017[\"nearest_station\"])"
   ]
  },
  {
   "cell_type": "code",
   "execution_count": 42,
   "id": "7e056f79",
   "metadata": {},
   "outputs": [
    {
     "name": "stdout",
     "output_type": "stream",
     "text": [
      "755040    None\n",
      "755041    None\n",
      "755042    None\n",
      "755043    None\n",
      "755044    None\n",
      "          ... \n",
      "757675    None\n",
      "757676    None\n",
      "757677    None\n",
      "757678    None\n",
      "757679    None\n",
      "Name: nearest_station, Length: 2640, dtype: object\n"
     ]
    }
   ],
   "source": [
    "print(treecam2017[\"nearest_station\"])"
   ]
  },
  {
   "cell_type": "code",
   "execution_count": 43,
   "id": "3d1775dc",
   "metadata": {},
   "outputs": [],
   "source": [
    "treecam2017.to_excel(\"cams/2017_nearest_hungarian.xlsx\")"
   ]
  },
  {
   "cell_type": "code",
   "execution_count": 44,
   "id": "4f2ca333",
   "metadata": {},
   "outputs": [
    {
     "name": "stdout",
     "output_type": "stream",
     "text": [
      "        Data    Alverca  Anta-Espinho      Arcos     Aveiro  \\\n",
      "0 2017-10-14  54.300000     42.208333  54.062500  44.791667   \n",
      "1 2017-10-15  59.066667     63.333333  49.929167  73.458333   \n",
      "2 2017-10-16  64.258333     54.500000  64.600000  93.000000   \n",
      "3 2017-10-17  28.808333     17.541667  31.158333  45.000000   \n",
      "4 2017-10-18  11.125000      9.458333  10.304167  16.083333   \n",
      "\n",
      "   Avenida da Liberdade    Avintes  Burgães-Santo Tirso  \\\n",
      "0             61.962500  31.500000             4.222222   \n",
      "1             57.408333  32.000000             1.545455   \n",
      "2             67.820833        NaN            30.600000   \n",
      "3             23.591667  22.571429            23.812500   \n",
      "4             13.220833   9.454545             6.565217   \n",
      "\n",
      "   Cascais - Escola da Cidadela      Cerro  ...  Santa Cruz de Benfica  \\\n",
      "0                     53.904167  32.041667  ...              71.808333   \n",
      "1                     57.825000  30.841667  ...              61.808696   \n",
      "2                           NaN  49.977778  ...              78.937500   \n",
      "3                           NaN  19.094737  ...                    NaN   \n",
      "4                           NaN  14.810000  ...              21.021429   \n",
      "\n",
      "     Santana  Santiago do Cacém  São Gonçalo   São João  Seara-Matosinhos  \\\n",
      "0  51.045833          36.916667    56.933333  79.258333         40.500000   \n",
      "1  52.725000          39.250000    54.883333  59.991667         56.500000   \n",
      "2   9.433333          82.695652     9.970833  15.283333         55.666667   \n",
      "3  11.787500          46.125000     8.908333  19.254167         23.791667   \n",
      "4  17.429167          30.941176    15.658333  24.783333          9.625000   \n",
      "\n",
      "      Sonega     Terena  VNTelha-Maia  proporção  \n",
      "0  33.083333  55.083333     47.833333   0.833333  \n",
      "1  31.250000  58.375000     59.291667   0.800000  \n",
      "2  34.916667  59.208333     42.461538   0.783333  \n",
      "3  11.791667        NaN     18.285714   0.783333  \n",
      "4   5.666667  21.666667     10.916667   0.850000  \n",
      "\n",
      "[5 rows x 62 columns]\n"
     ]
    }
   ],
   "source": [
    "com5_2017 = pd.read_excel('apa/F5media2017.xlsx', header=0)\n",
    "com19_2017= pd.read_excel('apa/Fmedia2017.xlsx', header=0)\n",
    "\n",
    "print(com5_2017.head())"
   ]
  },
  {
   "cell_type": "code",
   "execution_count": 45,
   "id": "bf5f9560",
   "metadata": {},
   "outputs": [],
   "source": [
    "if com5_2017.shape != com19_2017.shape or not all(com5_2017.columns == com19_2017.columns):\n",
    "    raise ValueError(\"DataFrames must have the same shape and column structure\")"
   ]
  },
  {
   "cell_type": "code",
   "execution_count": 46,
   "id": "ffefd2e7",
   "metadata": {},
   "outputs": [],
   "source": [
    "with open(\"2017_comparacao.txt\", \"w\") as f:\n",
    "    for col in com5_2017.columns:\n",
    "        non_null_df1 = com5_2017[col].notnull().sum()\n",
    "        non_null_df2 = com19_2017[col].notnull().sum()\n",
    "        f.write(f\"Column: {col}\\n\")\n",
    "        f.write(f\"  5 mínimos: {non_null_df1}\\n\")\n",
    "        f.write(f\"  19 mínimos: {non_null_df2}\\n\")\n",
    "        f.write(\"\\n\")  # Add space between columns"
   ]
  },
  {
   "cell_type": "code",
   "execution_count": 47,
   "id": "1674a95f",
   "metadata": {},
   "outputs": [],
   "source": [
    "com5_2018 = pd.read_excel('apa/F5media2018.xlsx', header=0)\n",
    "com19_2018= pd.read_excel('apa/Fmedia2018.xlsx', header=0)\n",
    "\n",
    "if com5_2018.shape != com19_2018.shape or not all(com5_2018.columns == com19_2018.columns):\n",
    "    raise ValueError(\"DataFrames must have the same shape and column structure\")\n",
    "\n",
    "with open(\"2018_comparacao.txt\", \"w\") as f:\n",
    "    for col in com5_2018.columns:\n",
    "        non_null_df1 = com5_2018[col].notnull().sum()\n",
    "        non_null_df2 = com19_2018[col].notnull().sum()\n",
    "        f.write(f\"Column: {col}\\n\")\n",
    "        f.write(f\"  5 mínimos: {non_null_df1}\\n\")\n",
    "        f.write(f\"  19 mínimos: {non_null_df2}\\n\")\n",
    "        f.write(\"\\n\")  # Add space between columns\n",
    "        "
   ]
  },
  {
   "cell_type": "code",
   "execution_count": 48,
   "id": "4aeb6a83",
   "metadata": {},
   "outputs": [
    {
     "name": "stdout",
     "output_type": "stream",
     "text": [
      "   Estacao id                    Estacao nome Concelho nome Freguesia nome  \\\n",
      "0        1021             Custóias-Matosinhos    Matosinhos       Custoias   \n",
      "1        1023               Ermesinde-Valongo       Valongo      Ermesinde   \n",
      "2        1024             D.Manuel II-Vermoim          Maia        Vermoim   \n",
      "3        1025                   Meco-Perafita    Matosinhos       Perafita   \n",
      "4        1028  Francisco Sá Carneiro-Campanha         Porto       Campanhã   \n",
      "\n",
      "        Zona nome Influencia nome Ambiente nome  Longitude   Latitude  \\\n",
      "0  Porto Litoral            Fundo     Suburbana  -8.644844  41.199806   \n",
      "1  Porto Litoral            Fundo        Urbana  -8.552600  41.206604   \n",
      "2  Porto Litoral          Tráfego        Urbana  -8.618715  41.235560   \n",
      "3  Porto Litoral       Industrial     Suburbana  -8.713092  41.232346   \n",
      "4  Porto Litoral          Tráfego        Urbana  -8.590847  41.162792   \n",
      "\n",
      "                           Rua  Altitude estacao Data inicio  \\\n",
      "0         Rua Nova de São Gens             100.0  1998-09-01   \n",
      "1              Rua 25 de Abril             140.0  1998-10-01   \n",
      "2         Avenida D. Manuel II              90.0  1999-11-01   \n",
      "3                  Rua do Meco              25.0  2002-08-01   \n",
      "4  Praça Francisco Sá Carneiro             146.0  2000-09-19   \n",
      "\n",
      "                               Rede  \\\n",
      "0  Rede de Qualidade do Ar do Norte   \n",
      "1  Rede de Qualidade do Ar do Norte   \n",
      "2  Rede de Qualidade do Ar do Norte   \n",
      "3  Rede de Qualidade do Ar do Norte   \n",
      "4  Rede de Qualidade do Ar do Norte   \n",
      "\n",
      "                                         Instituicao    Contato Estado  \n",
      "0  Comissão de Coordenação e Desenvolvimento Regi...  226086300      q  \n",
      "1  Comissão de Coordenação e Desenvolvimento Regi...  226086300      q  \n",
      "2  Comissão de Coordenação e Desenvolvimento Regi...  226086300      q  \n",
      "3  Comissão de Coordenação e Desenvolvimento Regi...  226086300      q  \n",
      "4  Comissão de Coordenação e Desenvolvimento Regi...  226086300      q  \n"
     ]
    }
   ],
   "source": [
    "info_estac = pd.read_excel(\"apa/estacoes-qualar.xlsx\", header=0)\n",
    "print(info_estac.head())"
   ]
  },
  {
   "cell_type": "code",
   "execution_count": 49,
   "id": "218bf0ec",
   "metadata": {},
   "outputs": [
    {
     "name": "stdout",
     "output_type": "stream",
     "text": [
      "    codigo_est                      nome_estac  data_inici    data_fim  \\\n",
      "0  STA-PT01053                         Avintes  12/07/2010  0000/00/00   \n",
      "1  STA-PT01021             Custóias-Matosinhos  01/09/1998  0000/00/00   \n",
      "2  STA-PT01023               Ermesinde-Valongo  01/10/1998  0000/00/00   \n",
      "3  STA-PT01024             D.Manuel II-Vermoim  01/11/1999  0000/00/00   \n",
      "4  STA-PT01028  Francisco Sá Carneiro-Campanha  19/09/2000  0000/00/00   \n",
      "\n",
      "    latitude  longitude   rede_codig                         rede_nome  \\\n",
      "0  41.098187  -8.554351  NET-PT00015  Rede de Qualidade do Ar do Norte   \n",
      "1  41.199805  -8.644844  NET-PT00015  Rede de Qualidade do Ar do Norte   \n",
      "2  41.206605  -8.552600  NET-PT00015  Rede de Qualidade do Ar do Norte   \n",
      "3  41.235563  -8.618715  NET-PT00015  Rede de Qualidade do Ar do Norte   \n",
      "4  41.162791  -8.590847  NET-PT00015  Rede de Qualidade do Ar do Norte   \n",
      "\n",
      "  rede_aqd_o                   geometry     3763_long       3763_lat  \n",
      "0   regional  POINT (-8.55435 41.09819) -35388.726933  158867.677319  \n",
      "1   regional  POINT (-8.64484 41.19981) -42924.770151  170193.796239  \n",
      "2   regional   POINT (-8.5526 41.20661) -35183.611562  170907.573844  \n",
      "3   regional  POINT (-8.61872 41.23556) -40710.864377  174152.466336  \n",
      "4   regional  POINT (-8.59085 41.16279) -38417.071842  166057.858413  \n"
     ]
    }
   ],
   "source": [
    "print(gdf.head())"
   ]
  },
  {
   "cell_type": "code",
   "execution_count": 50,
   "id": "946a0da3",
   "metadata": {},
   "outputs": [
    {
     "name": "stdout",
     "output_type": "stream",
     "text": [
      "    codigo_est                      nome_estac  data_inici    data_fim  \\\n",
      "0  STA-PT01053                         Avintes  12/07/2010  0000/00/00   \n",
      "1  STA-PT01021             Custóias-Matosinhos  01/09/1998  0000/00/00   \n",
      "2  STA-PT01023               Ermesinde-Valongo  01/10/1998  0000/00/00   \n",
      "3  STA-PT01024             D.Manuel II-Vermoim  01/11/1999  0000/00/00   \n",
      "4  STA-PT01028  Francisco Sá Carneiro-Campanha  19/09/2000  0000/00/00   \n",
      "\n",
      "    latitude  longitude   rede_codig                         rede_nome  \\\n",
      "0  41.098187  -8.554351  NET-PT00015  Rede de Qualidade do Ar do Norte   \n",
      "1  41.199805  -8.644844  NET-PT00015  Rede de Qualidade do Ar do Norte   \n",
      "2  41.206605  -8.552600  NET-PT00015  Rede de Qualidade do Ar do Norte   \n",
      "3  41.235563  -8.618715  NET-PT00015  Rede de Qualidade do Ar do Norte   \n",
      "4  41.162791  -8.590847  NET-PT00015  Rede de Qualidade do Ar do Norte   \n",
      "\n",
      "  rede_aqd_o                   geometry     3763_long       3763_lat  \\\n",
      "0   regional  POINT (-8.55435 41.09819) -35388.726933  158867.677319   \n",
      "1   regional  POINT (-8.64484 41.19981) -42924.770151  170193.796239   \n",
      "2   regional   POINT (-8.5526 41.20661) -35183.611562  170907.573844   \n",
      "3   regional  POINT (-8.61872 41.23556) -40710.864377  174152.466336   \n",
      "4   regional  POINT (-8.59085 41.16279) -38417.071842  166057.858413   \n",
      "\n",
      "   Estacao id Influencia nome Ambiente nome  \n",
      "0        1053           Fundo        Urbana  \n",
      "1        1021           Fundo     Suburbana  \n",
      "2        1023           Fundo        Urbana  \n",
      "3        1024         Tráfego        Urbana  \n",
      "4        1028         Tráfego        Urbana  \n"
     ]
    }
   ],
   "source": [
    "df_merged = gdf.merge(\n",
    "    info_estac[['Estacao nome', 'Estacao id', 'Influencia nome', 'Ambiente nome']],\n",
    "    left_on='nome_estac',\n",
    "    right_on='Estacao nome',\n",
    "    how='left'\n",
    ")\n",
    "\n",
    "df_merged = df_merged.drop(columns=['Estacao nome'])\n",
    "print(df_merged.head())\n",
    "\n",
    "gdf.to_excel(\"apa/estacoes_original.xlsx\")\n",
    "df_merged.to_excel(\"apa/estacoes_infoextra.xlsx\")"
   ]
  },
  {
   "cell_type": "code",
   "execution_count": 54,
   "id": "e4ae0f7e",
   "metadata": {},
   "outputs": [
    {
     "name": "stdout",
     "output_type": "stream",
     "text": [
      "Index([2017-10-14, 2017-10-15, 2017-10-16, 2017-10-17, 2017-10-18], dtype='object', name='Data')\n",
      "Index(['Alverca', 'Anta-Espinho', 'Arcos', 'Aveiro', 'Avenida da Liberdade',\n",
      "       'Avintes', 'Burgães-Santo Tirso', 'Cascais - Escola da Cidadela',\n",
      "       'Cerro', 'Chamusca', 'Cónego Dr. Manuel Faria-Azurém', 'David Neto',\n",
      "       'D.Manuel II-Vermoim', 'Douro Norte', 'Entrecampos',\n",
      "       'Ermesinde-Valongo', 'Ervedeira', 'Escavadeira',\n",
      "       'Estarreja/ Teixugueira', 'Faial', 'Fernando Pó', 'Fidalguinhos',\n",
      "       'Fornelo do Monte', 'Francisco Sá Carneiro-Campanha',\n",
      "       'Fr Bartolomeu Mártires-S.Vitor', 'Frossos-Braga', 'Fundão', 'Ílhavo',\n",
      "       'Instituto Geofísico de Coimbra', 'João Gomes Laranjo-S.Hora',\n",
      "       'Joaquim Magalhães', 'Laranjeiro', 'Lavradio',\n",
      "       'Leça do Balio-Matosinhos', 'Loures-Centro', 'Lourinhã', 'Malpique',\n",
      "       'Meco-Perafita', 'Mem Martins', 'Mindelo-Vila do Conde', 'Monte Chãos',\n",
      "       'Montemor-o-Velho', 'Monte Velho', 'Odivelas-Ramada', 'Olivais',\n",
      "       'Paços de Ferreira', 'Paio Pires',\n",
      "       'Pe Moreira Neves-Castelões de Cepeda', 'Quebedo', 'Quinta do Marquês',\n",
      "       'Reboleira', 'Santa Cruz de Benfica', 'Santana', 'Santiago do Cacém',\n",
      "       'São Gonçalo', 'São João', 'Seara-Matosinhos', 'Sonega', 'Terena',\n",
      "       'VNTelha-Maia', 'proporção'],\n",
      "      dtype='object')\n",
      "              Alverca  Anta-Espinho      Arcos     Aveiro  \\\n",
      "Data                                                        \n",
      "2017-10-14  54.300000     42.208333  54.062500  44.791667   \n",
      "2017-10-15  59.066667     63.333333  49.929167  73.458333   \n",
      "2017-10-16  64.258333     54.500000  64.600000  93.000000   \n",
      "2017-10-17  28.808333     17.541667  31.158333  45.000000   \n",
      "2017-10-18  11.125000      9.458333  10.304167  16.083333   \n",
      "\n",
      "            Avenida da Liberdade    Avintes  Burgães-Santo Tirso  \\\n",
      "Data                                                               \n",
      "2017-10-14             61.962500  31.500000             4.222222   \n",
      "2017-10-15             57.408333  32.000000             1.545455   \n",
      "2017-10-16             67.820833        NaN            30.600000   \n",
      "2017-10-17             23.591667  22.571429            23.812500   \n",
      "2017-10-18             13.220833   9.454545             6.565217   \n",
      "\n",
      "            Cascais - Escola da Cidadela      Cerro   Chamusca  ...  \\\n",
      "Data                                                            ...   \n",
      "2017-10-14                     53.904167  32.041667  36.033333  ...   \n",
      "2017-10-15                     57.825000  30.841667  47.195833  ...   \n",
      "2017-10-16                           NaN  49.977778  82.329167  ...   \n",
      "2017-10-17                           NaN  19.094737  65.591667  ...   \n",
      "2017-10-18                           NaN  14.810000   8.529167  ...   \n",
      "\n",
      "            Santa Cruz de Benfica    Santana  Santiago do Cacém  São Gonçalo  \\\n",
      "Data                                                                           \n",
      "2017-10-14              71.808333  51.045833          36.916667    56.933333   \n",
      "2017-10-15              61.808696  52.725000          39.250000    54.883333   \n",
      "2017-10-16              78.937500   9.433333          82.695652     9.970833   \n",
      "2017-10-17                    NaN  11.787500          46.125000     8.908333   \n",
      "2017-10-18              21.021429  17.429167          30.941176    15.658333   \n",
      "\n",
      "             São João  Seara-Matosinhos     Sonega     Terena  VNTelha-Maia  \\\n",
      "Data                                                                          \n",
      "2017-10-14  79.258333         40.500000  33.083333  55.083333     47.833333   \n",
      "2017-10-15  59.991667         56.500000  31.250000  58.375000     59.291667   \n",
      "2017-10-16  15.283333         55.666667  34.916667  59.208333     42.461538   \n",
      "2017-10-17  19.254167         23.791667  11.791667        NaN     18.285714   \n",
      "2017-10-18  24.783333          9.625000   5.666667  21.666667     10.916667   \n",
      "\n",
      "            proporção  \n",
      "Data                   \n",
      "2017-10-14   0.833333  \n",
      "2017-10-15   0.800000  \n",
      "2017-10-16   0.783333  \n",
      "2017-10-17   0.783333  \n",
      "2017-10-18   0.850000  \n",
      "\n",
      "[5 rows x 61 columns]\n"
     ]
    }
   ],
   "source": [
    "print(Fmedia2017.index)\n",
    "print(Fmedia2017.columns)\n",
    "print(Fmedia2017.head())"
   ]
  },
  {
   "cell_type": "code",
   "execution_count": 353,
   "id": "c2e337f6",
   "metadata": {},
   "outputs": [
    {
     "name": "stdout",
     "output_type": "stream",
     "text": [
      "            Alverca  Anta-Espinho      Arcos     Aveiro  Avenida da Liberdade  \\\n",
      "Data                                                                            \n",
      "2017-10-18   11.125      9.458333  10.304167  16.083333             13.220833   \n",
      "\n",
      "             Avintes  Burgães-Santo Tirso  Cascais - Escola da Cidadela  \\\n",
      "Data                                                                      \n",
      "2017-10-18  9.454545             6.565217                           NaN   \n",
      "\n",
      "            Cerro  Chamusca  ...  Santa Cruz de Benfica    Santana  \\\n",
      "Data                         ...                                     \n",
      "2017-10-18  14.81  8.529167  ...              21.021429  17.429167   \n",
      "\n",
      "            Santiago do Cacém  São Gonçalo   São João  Seara-Matosinhos  \\\n",
      "Data                                                                      \n",
      "2017-10-18          30.941176    15.658333  24.783333             9.625   \n",
      "\n",
      "              Sonega     Terena  VNTelha-Maia  proporção  \n",
      "Data                                                      \n",
      "2017-10-18  5.666667  21.666667     10.916667       0.85  \n",
      "\n",
      "[1 rows x 61 columns]\n"
     ]
    }
   ],
   "source": [
    "Fmedia2017.index = pd.to_datetime(Fmedia2017.index)\n",
    "\n",
    "Fmedia2017_filtrado = Fmedia2017[Fmedia2017.index.date == pd.to_datetime('2017-10-18').date()]\n",
    "print(Fmedia2017_filtrado.head())\n",
    "longtable2017 = Fmedia2017_filtrado.reset_index().rename(columns={'index': 'Data'})"
   ]
  },
  {
   "cell_type": "code",
   "execution_count": 354,
   "id": "89147fa9",
   "metadata": {},
   "outputs": [
    {
     "name": "stdout",
     "output_type": "stream",
     "text": [
      "RangeIndex(start=0, stop=1, step=1)\n"
     ]
    }
   ],
   "source": [
    "print(longtable2017.index)"
   ]
  },
  {
   "cell_type": "code",
   "execution_count": 355,
   "id": "1292b001",
   "metadata": {},
   "outputs": [
    {
     "name": "stdout",
     "output_type": "stream",
     "text": [
      "         Data               Estacao       pm10\n",
      "0  2017-10-18               Alverca  11.125000\n",
      "1  2017-10-18          Anta-Espinho   9.458333\n",
      "2  2017-10-18                 Arcos  10.304167\n",
      "3  2017-10-18                Aveiro  16.083333\n",
      "4  2017-10-18  Avenida da Liberdade  13.220833\n",
      "..        ...                   ...        ...\n",
      "56 2017-10-18      Seara-Matosinhos   9.625000\n",
      "57 2017-10-18                Sonega   5.666667\n",
      "58 2017-10-18                Terena  21.666667\n",
      "59 2017-10-18          VNTelha-Maia  10.916667\n",
      "60 2017-10-18             proporção   0.850000\n",
      "\n",
      "[61 rows x 3 columns]\n"
     ]
    }
   ],
   "source": [
    "longtable2017 = pd.melt(longtable2017, id_vars=['Data'], var_name='Estacao', value_name='pm10')\n",
    "print(longtable2017)"
   ]
  },
  {
   "cell_type": "code",
   "execution_count": 356,
   "id": "e18c272d",
   "metadata": {},
   "outputs": [
    {
     "name": "stdout",
     "output_type": "stream",
     "text": [
      "{'Avintes': 1053, 'Custóias-Matosinhos': 1021, 'Ermesinde-Valongo': 1023, 'D.Manuel II-Vermoim': 1024, 'Francisco Sá Carneiro-Campanha': 1028, 'João Gomes Laranjo-S.Hora': 1030, 'VNTelha-Maia': 1031, 'Leça do Balio-Matosinhos': 1034, 'Estarreja': 2004, 'Lavradio': 3055, 'Paio Pires': 3063, 'Beato': 3070, 'Olivais': 3071, 'Entrecampos': 3072, 'Avenida da Liberdade': 3075, 'Alfragide/Amadora': 3082, 'Monte Chãos': 4001, 'Monte Velho': 4002, 'Sonega': 4003, 'Santiago do Cacém': 4004, 'Odivelas-Ramada': 3097, 'Loures-Centro': 3085, 'Fr Bartolomeu Mártires-S.Vitor': 1041, 'Frossos-Braga': 1042, 'Pe Moreira Neves-Castelões de Cepeda': 1043, 'Paços de Ferreira': 1044, 'Cónego Dr. Manuel Faria-Azurém': 1046, 'Douro Norte': 1048, 'Joaquim Magalhães': 5007, 'David Neto': 5011, 'Meco-Perafita': 1025, 'Aveiro': 2017, 'Ílhavo': 2018, 'Ervedeira': 2019, 'Instituto Geofísico de Coimbra': 2016, 'Fundão': 2020, 'Reboleira': 3084, 'Restelo': 3087, 'Arcos': 3093, 'Quebedo': 3094, 'Quinta do Marquês': 3091, 'Mem Martins': 3089, 'Camarinha': 3092, 'Chamusca': 3096, 'Malpique': 5008, 'Cerro': 5012, 'Laranjeiro': 3083, 'Terena': 4006, 'Minho-Lima': 1047, 'Fornelo do Monte': 2021, 'Coimbra/ Avenida Fernão Magalhães': 2006, 'Alverca': 3101, 'Lourinhã': 3102, 'Fernando Pó': 3099, 'Mindelo-Vila do Conde': 1051, 'Burgães-Santo Tirso': 1052, 'Montemor-o-Velho': 2022, 'Sobreiras-Lordelo do Ouro': 1050, 'Santa Cruz de Benfica': 3100, 'Fidalguinhos': 3103, 'Anta-Espinho': 1054, 'Seara-Matosinhos': 1055, 'Cascais - Escola da Cidadela': 3104, 'Santa Combinha': 1100, 'Escavadeira': 3095}\n"
     ]
    }
   ],
   "source": [
    "#print(df_merged.iloc[:, 12])\n",
    "mapa = df_merged.set_index('nome_estac')['Estacao id'].to_dict()\n",
    "print(mapa)"
   ]
  },
  {
   "cell_type": "code",
   "execution_count": 357,
   "id": "b795335c",
   "metadata": {},
   "outputs": [
    {
     "name": "stdout",
     "output_type": "stream",
     "text": [
      "         Data                               Estacao       pm10\n",
      "0  2017-10-18                               Alverca  11.125000\n",
      "1  2017-10-18                          Anta-Espinho   9.458333\n",
      "2  2017-10-18                                 Arcos  10.304167\n",
      "3  2017-10-18                                Aveiro  16.083333\n",
      "4  2017-10-18                  Avenida da Liberdade  13.220833\n",
      "5  2017-10-18                               Avintes   9.454545\n",
      "6  2017-10-18                   Burgães-Santo Tirso   6.565217\n",
      "7  2017-10-18          Cascais - Escola da Cidadela        NaN\n",
      "8  2017-10-18                                 Cerro  14.810000\n",
      "9  2017-10-18                              Chamusca   8.529167\n",
      "10 2017-10-18        Cónego Dr. Manuel Faria-Azurém  15.500000\n",
      "11 2017-10-18                            David Neto  20.077273\n",
      "12 2017-10-18                   D.Manuel II-Vermoim   9.826087\n",
      "13 2017-10-18                           Douro Norte   5.916667\n",
      "14 2017-10-18                           Entrecampos        NaN\n",
      "15 2017-10-18                     Ermesinde-Valongo        NaN\n",
      "16 2017-10-18                             Ervedeira  36.666667\n",
      "17 2017-10-18                           Escavadeira  21.970833\n",
      "18 2017-10-18                                  2004   8.666667\n",
      "20 2017-10-18                           Fernando Pó   5.983333\n",
      "21 2017-10-18                          Fidalguinhos  13.316667\n",
      "22 2017-10-18                      Fornelo do Monte        NaN\n",
      "23 2017-10-18        Francisco Sá Carneiro-Campanha        NaN\n",
      "24 2017-10-18        Fr Bartolomeu Mártires-S.Vitor  12.666667\n",
      "25 2017-10-18                         Frossos-Braga   2.208333\n",
      "26 2017-10-18                                Fundão   4.125000\n",
      "27 2017-10-18                                Ílhavo  14.250000\n",
      "28 2017-10-18        Instituto Geofísico de Coimbra   5.958333\n",
      "29 2017-10-18             João Gomes Laranjo-S.Hora  12.750000\n",
      "30 2017-10-18                     Joaquim Magalhães  10.645833\n",
      "31 2017-10-18                            Laranjeiro  11.412500\n",
      "32 2017-10-18                              Lavradio        NaN\n",
      "33 2017-10-18              Leça do Balio-Matosinhos   0.000000\n",
      "34 2017-10-18                         Loures-Centro   8.920833\n",
      "35 2017-10-18                              Lourinhã   6.187500\n",
      "36 2017-10-18                              Malpique  15.866667\n",
      "37 2017-10-18                         Meco-Perafita        NaN\n",
      "38 2017-10-18                           Mem Martins  11.458333\n",
      "39 2017-10-18                 Mindelo-Vila do Conde        NaN\n",
      "40 2017-10-18                           Monte Chãos        NaN\n",
      "41 2017-10-18                      Montemor-o-Velho   8.000000\n",
      "42 2017-10-18                           Monte Velho  10.437500\n",
      "43 2017-10-18                       Odivelas-Ramada  17.295833\n",
      "44 2017-10-18                               Olivais   9.191667\n",
      "45 2017-10-18                     Paços de Ferreira  13.333333\n",
      "46 2017-10-18                            Paio Pires  14.779167\n",
      "47 2017-10-18  Pe Moreira Neves-Castelões de Cepeda   5.238095\n",
      "48 2017-10-18                               Quebedo   8.491667\n",
      "49 2017-10-18                     Quinta do Marquês   6.637500\n",
      "50 2017-10-18                             Reboleira   3.733333\n",
      "51 2017-10-18                 Santa Cruz de Benfica  21.021429\n",
      "53 2017-10-18                     Santiago do Cacém  30.941176\n",
      "56 2017-10-18                      Seara-Matosinhos   9.625000\n",
      "57 2017-10-18                                Sonega   5.666667\n",
      "58 2017-10-18                                Terena  21.666667\n",
      "59 2017-10-18                          VNTelha-Maia  10.916667\n"
     ]
    }
   ],
   "source": [
    "longtable2017['Estacao'] = longtable2017['Estacao'].replace('Estarreja/ Teixugueira', mapa[\"Estarreja\"])\n",
    "remove_list2017 = [\"Faial\", \"Santana\", \"São Gonçalo\", \"São João\", \"proporção\"]\n",
    "longtable2017 = longtable2017[~longtable2017['Estacao'].isin(remove_list2017)]\n",
    "print(longtable2017)\n",
    "longtable2017.to_excel(\"apa/sem_ilhas.xlsx\")"
   ]
  },
  {
   "cell_type": "code",
   "execution_count": 358,
   "id": "ab7f12ba",
   "metadata": {},
   "outputs": [
    {
     "name": "stdout",
     "output_type": "stream",
     "text": [
      "         Data  Estacao       pm10\n",
      "0  2017-10-18   3101.0  11.125000\n",
      "1  2017-10-18   1054.0   9.458333\n",
      "2  2017-10-18   3093.0  10.304167\n",
      "3  2017-10-18   2017.0  16.083333\n",
      "4  2017-10-18   3075.0  13.220833\n",
      "5  2017-10-18   1053.0   9.454545\n",
      "6  2017-10-18   1052.0   6.565217\n",
      "8  2017-10-18   5012.0  14.810000\n",
      "9  2017-10-18   3096.0   8.529167\n",
      "10 2017-10-18   1046.0  15.500000\n",
      "11 2017-10-18   5011.0  20.077273\n",
      "12 2017-10-18   1024.0   9.826087\n",
      "13 2017-10-18   1048.0   5.916667\n",
      "16 2017-10-18   2019.0  36.666667\n",
      "17 2017-10-18   3095.0  21.970833\n",
      "18 2017-10-18   2004.0   8.666667\n",
      "20 2017-10-18   3099.0   5.983333\n",
      "21 2017-10-18   3103.0  13.316667\n",
      "24 2017-10-18   1041.0  12.666667\n",
      "25 2017-10-18   1042.0   2.208333\n",
      "26 2017-10-18   2020.0   4.125000\n",
      "27 2017-10-18   2018.0  14.250000\n",
      "28 2017-10-18   2016.0   5.958333\n",
      "29 2017-10-18   1030.0  12.750000\n",
      "30 2017-10-18   5007.0  10.645833\n",
      "31 2017-10-18   3083.0  11.412500\n",
      "34 2017-10-18   3085.0   8.920833\n",
      "35 2017-10-18   3102.0   6.187500\n",
      "36 2017-10-18   5008.0  15.866667\n",
      "38 2017-10-18   3089.0  11.458333\n",
      "41 2017-10-18   2022.0   8.000000\n",
      "42 2017-10-18   4002.0  10.437500\n",
      "43 2017-10-18   3097.0  17.295833\n",
      "44 2017-10-18   3071.0   9.191667\n",
      "45 2017-10-18   1044.0  13.333333\n",
      "46 2017-10-18   3063.0  14.779167\n",
      "47 2017-10-18   1043.0   5.238095\n",
      "48 2017-10-18   3094.0   8.491667\n",
      "49 2017-10-18   3091.0   6.637500\n",
      "50 2017-10-18   3084.0   3.733333\n",
      "51 2017-10-18   3100.0  21.021429\n",
      "53 2017-10-18   4004.0  30.941176\n",
      "56 2017-10-18   1055.0   9.625000\n",
      "57 2017-10-18   4003.0   5.666667\n",
      "58 2017-10-18   4006.0  21.666667\n",
      "59 2017-10-18   1031.0  10.916667\n"
     ]
    },
    {
     "name": "stderr",
     "output_type": "stream",
     "text": [
      "/tmp/ipykernel_3411/905663907.py:2: FutureWarning: Downcasting object dtype arrays on .fillna, .ffill, .bfill is deprecated and will change in a future version. Call result.infer_objects(copy=False) instead. To opt-in to the future behavior, set `pd.set_option('future.no_silent_downcasting', True)`\n",
      "  longtable2017['Estacao'] = longtable2017['Estacao'].map(mapa).fillna(longtable2017['Estacao'])\n"
     ]
    }
   ],
   "source": [
    "longtable2017 = longtable2017[(longtable2017['pm10'] != 0) & (longtable2017['pm10'].notna())]\n",
    "longtable2017['Estacao'] = longtable2017['Estacao'].map(mapa).fillna(longtable2017['Estacao'])\n",
    "print(longtable2017)\n",
    "longtable2017.to_excel(\"apa/longatable2017.xlsx\", index=False)"
   ]
  },
  {
   "cell_type": "code",
   "execution_count": 359,
   "id": "6442498d",
   "metadata": {},
   "outputs": [
    {
     "name": "stdout",
     "output_type": "stream",
     "text": [
      "            Alverca  Anta-Espinho      Arcos  Aveiro  Avenida da Liberdade  \\\n",
      "Data                                                                         \n",
      "2018-06-20      NaN     13.681818  36.491667  27.125             48.416667   \n",
      "\n",
      "            Avintes  Burgães-Santo Tirso  Cascais - Escola da Cidadela  \\\n",
      "Data                                                                     \n",
      "2018-06-20     27.2            24.454545                      41.12381   \n",
      "\n",
      "                Cerro   Chamusca  ...  Santa Cruz de Benfica    Santana  \\\n",
      "Data                              ...                                     \n",
      "2018-06-20  14.458333  29.045833  ...                    NaN  10.658333   \n",
      "\n",
      "            São Gonçalo   São João  Seara-Matosinhos     Sonega     Terena  \\\n",
      "Data                                                                         \n",
      "2018-06-20    11.616667  18.520833              25.0  19.291667  25.333333   \n",
      "\n",
      "            VNTelha-Maia  Alfragide/Amadora  proporção  \n",
      "Data                                                    \n",
      "2018-06-20     25.705882                NaN   0.866667  \n",
      "\n",
      "[1 rows x 61 columns]\n"
     ]
    }
   ],
   "source": [
    "Fmedia2018.index = pd.to_datetime(Fmedia2018.index)\n",
    "\n",
    "Fmedia2018_filtrado = Fmedia2018[Fmedia2018.index.date == pd.to_datetime('2018-06-20').date()]\n",
    "print(Fmedia2018_filtrado.head())\n",
    "longtable2018 = Fmedia2018_filtrado.reset_index().rename(columns={'index': 'Data'})"
   ]
  },
  {
   "cell_type": "code",
   "execution_count": 360,
   "id": "5aacb2e4",
   "metadata": {},
   "outputs": [
    {
     "name": "stdout",
     "output_type": "stream",
     "text": [
      "         Data  Estacao       pm10\n",
      "1  2018-06-20     1054  13.681818\n",
      "2  2018-06-20     3093  36.491667\n",
      "3  2018-06-20     2017  27.125000\n",
      "4  2018-06-20     3075  48.416667\n",
      "5  2018-06-20     1053  27.200000\n",
      "6  2018-06-20     1052  24.454545\n",
      "7  2018-06-20     3104  41.123810\n",
      "8  2018-06-20     5012  14.458333\n",
      "9  2018-06-20     3096  29.045833\n",
      "10 2018-06-20     2006  37.583333\n",
      "11 2018-06-20     1046  18.833333\n",
      "12 2018-06-20     5011  38.291667\n",
      "14 2018-06-20     1048  10.750000\n",
      "15 2018-06-20     3072  40.195833\n",
      "16 2018-06-20     1023  27.208333\n",
      "17 2018-06-20     2019  31.458333\n",
      "18 2018-06-20     3095  35.287500\n",
      "19 2018-06-20     2004  17.894737\n",
      "21 2018-06-20     3099  38.337500\n",
      "22 2018-06-20     2021  14.473684\n",
      "23 2018-06-20     1028  17.227273\n",
      "25 2018-06-20     1042  10.083333\n",
      "26 2018-06-20     2020  18.416667\n",
      "27 2018-06-20     2018  32.833333\n",
      "28 2018-06-20     2016  28.458333\n",
      "29 2018-06-20     1030  27.285714\n",
      "30 2018-06-20     5007  30.441667\n",
      "31 2018-06-20     3083  38.629167\n",
      "32 2018-06-20     3055  39.979167\n",
      "34 2018-06-20     3085  25.637500\n",
      "35 2018-06-20     3102  25.845833\n",
      "36 2018-06-20     5008  43.416667\n",
      "37 2018-06-20     1025  20.250000\n",
      "38 2018-06-20     3089  27.720833\n",
      "39 2018-06-20     1051  16.583333\n",
      "42 2018-06-20     2022  28.625000\n",
      "43 2018-06-20     3097  43.254167\n",
      "44 2018-06-20     3071  36.341667\n",
      "45 2018-06-20     1044  27.791667\n",
      "46 2018-06-20     3063  38.658333\n",
      "47 2018-06-20     1043   7.000000\n",
      "48 2018-06-20     3094  39.858333\n",
      "49 2018-06-20     3091  28.629167\n",
      "50 2018-06-20     3084  31.620833\n",
      "55 2018-06-20     1055  25.000000\n",
      "56 2018-06-20     4003  19.291667\n",
      "57 2018-06-20     4006  25.333333\n",
      "58 2018-06-20     1031  25.705882\n"
     ]
    }
   ],
   "source": [
    "longtable2018 = pd.melt(longtable2018, id_vars=['Data'], var_name='Estacao', value_name='pm10')\n",
    "longtable2018['Estacao'] = longtable2018['Estacao'].replace('Estarreja/ Teixugueira', mapa[\"Estarreja\"])\n",
    "remove_list2018 = [\"Faial\", \"Santana\", \"São Gonçalo\", \"São João\", \"proporção\"]\n",
    "longtable2018 = longtable2018[~longtable2018['Estacao'].isin(remove_list2018)]\n",
    "\n",
    "longtable2018 = longtable2018[(longtable2018['pm10'] != 0) & (longtable2018['pm10'].notna())]\n",
    "longtable2018['Estacao'] = longtable2018['Estacao'].map(mapa).fillna(longtable2018['Estacao'])\n",
    "print(longtable2018)\n",
    "longtable2017.to_excel(\"apa/longatable2018.xlsx\", index=False)"
   ]
  },
  {
   "cell_type": "code",
   "execution_count": 361,
   "id": "3c9b4a20",
   "metadata": {},
   "outputs": [
    {
     "name": "stdout",
     "output_type": "stream",
     "text": [
      "                      time   lat   lon       pm10      3763_long  \\\n",
      "755040 2017-10-14 11:30:00  36.5 -10.0  42.453941 -167265.612117   \n",
      "755041 2017-10-14 11:30:00  36.5  -9.9  42.392410 -158305.172793   \n",
      "755042 2017-10-14 11:30:00  36.5  -9.8  42.162560 -149344.875659   \n",
      "755043 2017-10-14 11:30:00  36.5  -9.7  41.917164 -140384.712685   \n",
      "755044 2017-10-14 11:30:00  36.5  -9.6  42.237843 -131424.675835   \n",
      "\n",
      "             3763_lat  \n",
      "755040 -350049.532044  \n",
      "755041 -350218.603496  \n",
      "755042 -350378.361097  \n",
      "755043 -350528.806258  \n",
      "755044 -350669.940311  \n"
     ]
    }
   ],
   "source": [
    "\"\"\"9 vizinhos - https://www.google.com/maps/d/u/0/edit?mid=1OosQpm0BzMA6xXo_5GvOsZ7JpMByYFU&ll=39.087048646342055%2C-8.049999999999988&z=7\"\"\"\n",
    "print(camaras2017.head())"
   ]
  },
  {
   "cell_type": "code",
   "execution_count": 362,
   "id": "6468ae66",
   "metadata": {},
   "outputs": [
    {
     "name": "stdout",
     "output_type": "stream",
     "text": [
      "                      time   lat   lon       pm10      3763_long  \\\n",
      "765600 2017-10-18 11:30:00  36.5 -10.0  13.599668 -167265.612117   \n",
      "765601 2017-10-18 11:30:00  36.5  -9.9  13.412668 -158305.172793   \n",
      "765602 2017-10-18 11:30:00  36.5  -9.8  13.204295 -149344.875659   \n",
      "765603 2017-10-18 11:30:00  36.5  -9.7  13.097076 -140384.712685   \n",
      "765604 2017-10-18 11:30:00  36.5  -9.6  12.967110 -131424.675835   \n",
      "\n",
      "             3763_lat  \n",
      "765600 -350049.532044  \n",
      "765601 -350218.603496  \n",
      "765602 -350378.361097  \n",
      "765603 -350528.806258  \n",
      "765604 -350669.940311  \n",
      "                      time   lat  lon       pm10      3763_long       3763_lat\n",
      "768235 2017-10-18 11:30:00  43.0 -6.5  16.272829  133166.524410  371319.110964\n",
      "768236 2017-10-18 11:30:00  43.0 -6.4  13.677632  141320.872736  371482.524421\n",
      "768237 2017-10-18 11:30:00  43.0 -6.3  12.745512  149475.251732  371655.653689\n",
      "768238 2017-10-18 11:30:00  43.0 -6.2  12.116454  157629.663144  371838.499941\n",
      "768239 2017-10-18 11:30:00  43.0 -6.1  12.044427  165784.108715  372031.064418\n"
     ]
    }
   ],
   "source": [
    "cams2017_cortado = camaras2017.iloc[-2640:].copy()\n",
    "#cams2017_cortado = camaras2017.iloc[:2640].copy()\n",
    "cams2017_cortado.to_excel(\"cams/2017_cortado.xlsx\")\n",
    "#cortado2 = camaras2017.iloc[-640:].copy()\n",
    "#cortado2.to_excel(\"cams/cortado2.xlsx\")\n",
    "\n",
    "geodata2017cams = gpd.GeoDataFrame(\n",
    "    cams2017_cortado,\n",
    "    geometry=gpd.points_from_xy(\n",
    "        cams2017_cortado['3763_long'], \n",
    "        cams2017_cortado['3763_lat']\n",
    "    ),\n",
    "    crs=\"EPSG:3763\"\n",
    ")\n",
    "print(cams2017_cortado.head())\n",
    "print(cams2017_cortado.tail(5))\n"
   ]
  },
  {
   "cell_type": "code",
   "execution_count": 363,
   "id": "d1dbdc74",
   "metadata": {},
   "outputs": [
    {
     "name": "stdout",
     "output_type": "stream",
     "text": [
      "                      time   lat   lon       pm10      3763_long  \\\n",
      "765600 2017-10-18 11:30:00  36.5 -10.0  13.599668 -167265.612117   \n",
      "765601 2017-10-18 11:30:00  36.5  -9.9  13.412668 -158305.172793   \n",
      "765602 2017-10-18 11:30:00  36.5  -9.8  13.204295 -149344.875659   \n",
      "765603 2017-10-18 11:30:00  36.5  -9.7  13.097076 -140384.712685   \n",
      "765604 2017-10-18 11:30:00  36.5  -9.6  12.967110 -131424.675835   \n",
      "...                    ...   ...   ...        ...            ...   \n",
      "768235 2017-10-18 11:30:00  43.0  -6.5  16.272829  133166.524410   \n",
      "768236 2017-10-18 11:30:00  43.0  -6.4  13.677632  141320.872736   \n",
      "768237 2017-10-18 11:30:00  43.0  -6.3  12.745512  149475.251732   \n",
      "768238 2017-10-18 11:30:00  43.0  -6.2  12.116454  157629.663144   \n",
      "768239 2017-10-18 11:30:00  43.0  -6.1  12.044427  165784.108715   \n",
      "\n",
      "             3763_lat                         geometry  \n",
      "765600 -350049.532044  POINT (-167265.612 -350049.532)  \n",
      "765601 -350218.603496  POINT (-158305.173 -350218.603)  \n",
      "765602 -350378.361097  POINT (-149344.876 -350378.361)  \n",
      "765603 -350528.806258  POINT (-140384.713 -350528.806)  \n",
      "765604 -350669.940311   POINT (-131424.676 -350669.94)  \n",
      "...               ...                              ...  \n",
      "768235  371319.110964    POINT (133166.524 371319.111)  \n",
      "768236  371482.524421    POINT (141320.873 371482.524)  \n",
      "768237  371655.653689    POINT (149475.252 371655.654)  \n",
      "768238  371838.499941      POINT (157629.663 371838.5)  \n",
      "768239  372031.064418    POINT (165784.109 372031.064)  \n",
      "\n",
      "[2640 rows x 7 columns]\n"
     ]
    }
   ],
   "source": [
    "print(geodata2017cams)"
   ]
  },
  {
   "cell_type": "code",
   "execution_count": 364,
   "id": "507c9dfa",
   "metadata": {},
   "outputs": [
    {
     "name": "stdout",
     "output_type": "stream",
     "text": [
      "     codigo_est                      nome_estac  data_inici    data_fim  \\\n",
      "0   STA-PT01053                         Avintes  12/07/2010  0000/00/00   \n",
      "1   STA-PT01021             Custóias-Matosinhos  01/09/1998  0000/00/00   \n",
      "2   STA-PT01023               Ermesinde-Valongo  01/10/1998  0000/00/00   \n",
      "3   STA-PT01024             D.Manuel II-Vermoim  01/11/1999  0000/00/00   \n",
      "4   STA-PT01028  Francisco Sá Carneiro-Campanha  19/09/2000  0000/00/00   \n",
      "..          ...                             ...         ...         ...   \n",
      "60  STA-PT01054                    Anta-Espinho  25/02/2011  0000/00/00   \n",
      "61  STA-PT01055                Seara-Matosinhos  23/01/2013  0000/00/00   \n",
      "62  STA-PT03104    Cascais - Escola da Cidadela  22/01/2016  0000/00/00   \n",
      "63  STA-PT01100                  Santa Combinha  01/05/2019  0000/00/00   \n",
      "64  STA-PT03095                     Escavadeira  01/09/2001  0000/00/00   \n",
      "\n",
      "     latitude  longitude   rede_codig  \\\n",
      "0   41.098187  -8.554351  NET-PT00015   \n",
      "1   41.199805  -8.644844  NET-PT00015   \n",
      "2   41.206605  -8.552600  NET-PT00015   \n",
      "3   41.235563  -8.618715  NET-PT00015   \n",
      "4   41.162791  -8.590847  NET-PT00015   \n",
      "..        ...        ...          ...   \n",
      "60  40.999498  -8.623279  NET-PT00015   \n",
      "61  41.187924  -8.672224  NET-PT00015   \n",
      "62  38.701392  -9.429254  NET-PT00002   \n",
      "63  41.571944  -6.887222  NET-PT00015   \n",
      "64  38.660895  -9.068005  NET-PT00002   \n",
      "\n",
      "                                           rede_nome rede_aqd_o  \\\n",
      "0                   Rede de Qualidade do Ar do Norte   regional   \n",
      "1                   Rede de Qualidade do Ar do Norte   regional   \n",
      "2                   Rede de Qualidade do Ar do Norte   regional   \n",
      "3                   Rede de Qualidade do Ar do Norte   regional   \n",
      "4                   Rede de Qualidade do Ar do Norte   regional   \n",
      "..                                               ...        ...   \n",
      "60                  Rede de Qualidade do Ar do Norte   regional   \n",
      "61                  Rede de Qualidade do Ar do Norte   regional   \n",
      "62  Rede de Qualidade do Ar de Lisboa e Vale do Tejo   regional   \n",
      "63                  Rede de Qualidade do Ar do Norte   regional   \n",
      "64  Rede de Qualidade do Ar de Lisboa e Vale do Tejo   regional   \n",
      "\n",
      "                           geometry      3763_long       3763_lat  \n",
      "0     POINT (-35388.727 158867.677)  -35388.726933  158867.677319  \n",
      "1      POINT (-42924.77 170193.796)  -42924.770151  170193.796239  \n",
      "2     POINT (-35183.612 170907.574)  -35183.611562  170907.573844  \n",
      "3     POINT (-40710.864 174152.466)  -40710.864377  174152.466336  \n",
      "4     POINT (-38417.072 166057.858)  -38417.071842  166057.858413  \n",
      "..                              ...            ...            ...  \n",
      "60    POINT (-41240.984 147938.005)  -41240.983793  147938.005060  \n",
      "61    POINT (-45229.611 168888.186)  -45229.611077  168888.185576  \n",
      "62  POINT (-112752.967 -106543.046) -112752.967323 -106543.045842  \n",
      "63    POINT (103912.518 212147.539)  103912.517850  212147.538525  \n",
      "64   POINT (-81372.684 -111421.344)  -81372.683667 -111421.343717  \n",
      "\n",
      "[65 rows x 12 columns]\n"
     ]
    }
   ],
   "source": [
    "geodataestacoes= gpd.GeoDataFrame(\n",
    "    df_merged,\n",
    "    geometry=gpd.points_from_xy(\n",
    "        df_merged['3763_long'], \n",
    "        df_merged['3763_lat']\n",
    "    ),\n",
    "    crs=\"EPSG:3763\"\n",
    ")\n",
    "print(geodataestacoes.iloc[:, :-3])"
   ]
  },
  {
   "cell_type": "code",
   "execution_count": 365,
   "id": "6a3a34c3",
   "metadata": {},
   "outputs": [
    {
     "name": "stdout",
     "output_type": "stream",
     "text": [
      "[[-35388.72693303 158867.67731898]\n",
      " [-42924.77015087 170193.79623906]\n",
      " [-35183.61156175 170907.57384441]\n",
      " [-40710.86437655 174152.4663364 ]\n",
      " [-38417.07184248 166057.85841318]]\n",
      "[[-167265.61211736 -350049.53204386]\n",
      " [-158305.17279284 -350218.60349628]\n",
      " [-149344.87565942 -350378.36109687]\n",
      " [-140384.71268495 -350528.80625844]\n",
      " [-131424.67583459 -350669.94031139]]\n"
     ]
    }
   ],
   "source": [
    "station_coords = np.array(list(geodataestacoes.geometry.apply(lambda geom: (geom.x, geom.y))))\n",
    "cam_coords = np.array(list(geodata2017cams.geometry.apply(lambda geom: (geom.x, geom.y))))\n",
    "print(station_coords[:5])\n",
    "print(cam_coords[:5])"
   ]
  },
  {
   "cell_type": "code",
   "execution_count": 366,
   "id": "3808703d",
   "metadata": {},
   "outputs": [
    {
     "name": "stdout",
     "output_type": "stream",
     "text": [
      "[[ 3840.27682592  4570.47468883 11560.01294454 11823.0222478\n",
      "  11938.93013218]\n",
      " [ 3761.67623677  4626.67855144 11706.06538606 11745.43536609\n",
      "  12012.49555501]\n",
      " [ 4042.90126657  4472.50904248 11107.29103369 11270.48607049\n",
      "  12385.34485523]\n",
      " [ 4250.02767155  7326.2671149   7878.1262606   9879.7570067\n",
      "  10710.17440987]\n",
      " [ 4203.16952641  7015.70047242  8670.63608058 10047.72501252\n",
      "  10335.40403245]\n",
      " [ 3468.5922866   5510.76111617 10044.85123309 10920.7819824\n",
      "  11595.27383193]\n",
      " [ 6246.60531415  6687.30822309  7331.07521135  7711.49115655\n",
      "  12833.38852711]\n",
      " [ 3366.87522602  6035.39122778  9482.91700805 10722.79274811\n",
      "  11266.32838442]\n",
      " [ 5373.23438679  7069.53674028  7302.42864841  8629.52335886\n",
      "  12121.9779791 ]\n",
      " [ 5494.60398077  5697.48030533  8680.05920659  8810.10609709\n",
      "  13392.37421006]\n",
      " [ 2804.00410989  7520.34619769  8909.50595053 10531.96269737\n",
      "  11313.86728734]\n",
      " [ 3946.6637139   7469.28531988  8324.36617686 10461.1183124\n",
      "  10637.71615913]\n",
      " [ 3414.04164193  7773.22503112  8726.59869231  9908.31694722\n",
      "  11180.87005506]\n",
      " [ 6873.29759765  6981.24129313  7123.8987168   7227.96120525\n",
      "  14036.3151364 ]\n",
      " [ 4650.78747823  5239.61740109  9629.59154393  9927.03492275\n",
      "  12928.08486772]\n",
      " [ 4366.53485515  6815.96508833  9130.74088655 10298.61752103\n",
      "  10520.08001313]\n",
      " [ 6047.30728793  6921.89216523  7418.78839885  8149.0058001\n",
      "  13133.91626789]\n",
      " [ 2553.92356949  8550.14094693  9018.21685605  9254.71219779\n",
      "  12166.00506597]\n",
      " [ 3865.08946175  7431.72240696  8138.74360292 10324.03949797\n",
      "  11376.60946068]\n",
      " [ 2238.00118411  8868.86926245  8873.07478035  9253.03937617\n",
      "  12340.12972023]\n",
      " [ 1498.38795045  7256.73480332 10138.14358619 10792.73239725\n",
      "  11598.71667207]\n",
      " [ 4505.36551275  6501.25945365  8396.60143641  9614.53510859\n",
      "  12215.88464846]\n",
      " [ 5569.48722487  5582.55263853  9606.18875688  9608.86238079\n",
      "  10444.43983909]\n",
      " [ 4935.72494695  5834.78683349  8512.77732533  9064.51361333\n",
      "  12399.60648279]\n",
      " [ 3299.16187754  5258.66661705 10764.26617854 11515.78805627\n",
      "  11611.12705544]\n",
      " [ 3516.33328228  6975.33473937  8474.59291968 10400.21998216\n",
      "  10789.86216245]\n",
      " [ 5528.13352703  5594.26708288  9768.98048524  9801.47944562\n",
      "  10268.53541831]\n",
      " [ 3277.83953154  7956.6234908   8238.19026904  9671.9156599\n",
      "  10978.12514657]\n",
      " [ 2899.03727982  6735.8121597   9726.86109485 11396.05411475\n",
      "  11468.64423345]\n",
      " [ 5672.69123839  6668.34241066  7803.96884557  8554.14269913\n",
      "  13336.50906203]\n",
      " [ 3756.31213232  7593.58274386  8125.53014294 10141.60752524\n",
      "  10464.13957488]\n",
      " [ 5795.6353861   6036.04959117  8067.88523857  8242.04586506\n",
      "  13189.1989195 ]\n",
      " [ 2572.76352617  6180.29521351 10371.58135426 10879.09443037\n",
      "  11797.99651859]\n",
      " [ 2796.94281307  8394.65899391  8403.08942931  9553.26293828\n",
      "  11539.80698323]\n",
      " [ 1399.23516431  7537.09790585  9595.95503172 10215.86216983\n",
      "  12089.0722587 ]\n",
      " [ 3671.44847677  7433.43257087  9238.65805021  9302.93173773\n",
      "  11270.498075  ]\n",
      " [ 5651.36993251  6625.39498526  7881.43742635  8609.14184649\n",
      "  12361.7286314 ]\n",
      " [ 1040.80696846  7902.40779275  9543.95350043 10497.48709089\n",
      "  11767.97213679]\n",
      " [ 3338.55805187  7839.7600275   8761.92502479  9882.63377125\n",
      "  11269.2361035 ]\n",
      " [ 3038.93622951  8028.05294848  8393.07597083 10304.17024\n",
      "  11206.29175795]\n",
      " [ 1964.16928052  6747.55275072 10657.2254328  11090.88776523\n",
      "  11455.79689845]\n",
      " [ 4476.81547069  4717.30348427 10486.98878823 10592.12609902\n",
      "  12993.19287166]\n",
      " [ 4202.73567653  7280.32326277  7956.65361251  9929.69918461\n",
      "  11595.91115131]\n",
      " [ 5820.03391512  6630.34111957  7727.30888441  8356.83719048\n",
      "  12511.02282364]\n",
      " [ 4515.98583337  4564.38308866 11093.06080567 11112.8877442\n",
      "  12808.67071508]\n",
      " [ 2349.55201458  7106.03857664  9894.47286631 10850.76313944\n",
      "  11950.61623187]\n",
      " [ 5479.3827702   6449.35081759  7954.96018164  8652.59195425\n",
      "  13035.04203816]\n",
      " [ 1862.88129584  8812.52058062  9001.67942416  9241.57863999\n",
      "  12629.13669639]\n",
      " [  562.4205231   7803.33166706  8825.42960978 10884.85543538\n",
      "  11353.15076025]\n",
      " [ 4896.15655591  6208.5594419   9775.49976259  9776.23783398\n",
      "  10489.39824795]\n",
      " [ 3398.95894147  5758.69304514  9942.12602004 10973.79625945\n",
      "  11614.84241993]\n",
      " [ 3455.11523769  5246.80989665 11308.14496289 11938.08114101\n",
      "  11978.69596797]\n",
      " [ 4628.38815611  5081.84402129  9763.97881514  9987.30292679\n",
      "  12880.39824605]\n",
      " [ 4199.62750384  7000.20632933  8999.14981009 10295.14271112\n",
      "  10595.39583286]\n",
      " [ 1978.65248981  6693.91674396 10163.70902785 10324.17706951\n",
      "  12141.69041539]\n",
      " [ 6094.86642636  6830.72426807  7207.89745554  7841.41601731\n",
      "  12739.88551709]\n",
      " [ 2660.12649055  5870.71478866 11166.11358053 11177.65340235\n",
      "  11654.04453327]\n",
      " [ 6292.79780814  6779.27901184  7228.98857319  7654.95384505\n",
      "  12961.24377357]\n",
      " [ 5418.60304471  5687.88459766 10116.0171207  10257.8204798\n",
      "  10376.25737198]\n",
      " [ 6977.68159128  6989.66770318  7119.68462584  7131.62759609\n",
      "  14076.94088513]\n",
      " [ 1959.42273712  6455.3578683  10372.45681719 11222.27019587\n",
      "  11331.75140459]\n",
      " [ 2688.54356078  6205.52534431 10039.38544648 10802.79521067\n",
      "  11494.18397116]\n",
      " [ 2549.88785751  6157.16344709 11239.7729591  11246.47912055\n",
      "  11541.66628355]\n",
      " [ 3293.61373364  7913.5959547   8062.30628943  9908.07616805\n",
      "  10810.13227113]\n",
      " [ 5157.50025287  7312.06886031  7339.52683221  8987.36184831\n",
      "  12279.63604993]]\n",
      "65\n"
     ]
    }
   ],
   "source": [
    "tree = cKDTree(cam_coords)\n",
    "distances, indices = tree.query(station_coords, k=5)\n",
    "print(distances)\n",
    "print(len(distances))"
   ]
  },
  {
   "cell_type": "code",
   "execution_count": 367,
   "id": "fac49980",
   "metadata": {},
   "outputs": [
    {
     "name": "stdout",
     "output_type": "stream",
     "text": [
      "[[1854 1855 1814 1815 1894]\n",
      " [1894 1893 1854 1934 1853]\n",
      " [1894 1895 1934 1935 1893]\n",
      " [1894 1934 1893 1933 1895]\n",
      " [1894 1854 1895 1893 1855]\n",
      " [1893 1894 1853 1854 1892]\n",
      " [1933 1893 1934 1894 1932]\n",
      " [1894 1893 1934 1933 1895]\n",
      " [1734 1694 1735 1695 1733]\n",
      " [ 890  889  850  849  891]\n",
      " [ 849  850  889  848  890]\n",
      " [ 889  929  888  928  890]\n",
      " [ 929  889  928  930  888]\n",
      " [ 889  888  929  928  890]\n",
      " [ 889  888  929  928  890]\n",
      " [ 888  928  887  889  927]\n",
      " [ 612  572  611  571  613]\n",
      " [ 652  612  653  651  613]\n",
      " [ 573  572  533  532  574]\n",
      " [ 613  614  653  612  654]\n",
      " [ 928  929  927  968  888]\n",
      " [ 928  929  968  969  927]\n",
      " [2016 2056 2015 2055 2017]\n",
      " [2055 2056 2015 2016 2054]\n",
      " [1897 1896 1937 1936 1898]\n",
      " [1936 1937 1896 1897 1935]\n",
      " [1977 2017 1978 2018 1976]\n",
      " [1982 1942 1983 1981 1943]\n",
      " [ 221  220  261  222  260]\n",
      " [ 255  254  295  294  256]\n",
      " [1893 1933 1892 1894 1932]\n",
      " [1654 1653 1694 1693 1655]\n",
      " [1653 1654 1613 1652 1614]\n",
      " [1371 1411 1372 1370 1412]\n",
      " [1496 1495 1497 1536 1456]\n",
      " [1507 1547 1508 1506 1548]\n",
      " [ 928  888  927  887  929]\n",
      " [ 888  887  889  928  848]\n",
      " [ 811  851  812  810  852]\n",
      " [ 811  812  851  810  852]\n",
      " [ 887  886  888  847  927]\n",
      " [ 927  926  887  886  928]\n",
      " [ 811  812  851  852  810]\n",
      " [1175 1135 1176 1136 1174]\n",
      " [ 258  257  218  217  298]\n",
      " [ 343  344  383  342  384]\n",
      " [ 888  889  848  849  887]\n",
      " [ 866  867  865  906  907]\n",
      " [2133 2134 2132 2173 2093]\n",
      " [1659 1699 1658 1660 1698]\n",
      " [1496 1495 1536 1535 1497]\n",
      " [ 970  969  930 1010  929]\n",
      " [1128 1127 1088 1087 1129]\n",
      " [ 853  893  854  852  894]\n",
      " [1933 1932 1934 1973 1972]\n",
      " [1975 1935 1976 1936 1974]\n",
      " [1493 1494 1492 1533 1453]\n",
      " [1853 1893 1854 1894 1852]\n",
      " [ 888  928  887  927  889]\n",
      " [ 890  850  889  849  891]\n",
      " [1814 1813 1815 1774 1854]\n",
      " [1893 1894 1853 1892 1854]\n",
      " [ 886  885  926  887  846]\n",
      " [2071 2072 2031 2070 2032]\n",
      " [ 889  849  890  850  888]]\n"
     ]
    }
   ],
   "source": [
    "print(indices)"
   ]
  },
  {
   "cell_type": "code",
   "execution_count": 368,
   "id": "2a9e6c77",
   "metadata": {},
   "outputs": [
    {
     "name": "stdout",
     "output_type": "stream",
     "text": [
      "                         Estacao 2  Estacao  pm10_weighted\n",
      "0                          Avintes     1053       8.987380\n",
      "1              Custóias-Matosinhos     1021       9.848542\n",
      "2                Ermesinde-Valongo     1023       9.814257\n",
      "3              D.Manuel II-Vermoim     1024      10.027411\n",
      "4   Francisco Sá Carneiro-Campanha     1028       9.630101\n",
      "..                             ...      ...            ...\n",
      "60                    Anta-Espinho     1054       8.919388\n",
      "61                Seara-Matosinhos     1055       9.708123\n",
      "62    Cascais - Escola da Cidadela     3104       9.551993\n",
      "63                  Santa Combinha     1100       5.375636\n",
      "64                     Escavadeira     3095      10.501586\n",
      "\n",
      "[65 rows x 3 columns]\n"
     ]
    }
   ],
   "source": [
    "weighted_pm10 = []\n",
    "for i in range(len(geodataestacoes)):\n",
    "    dists = distances[i]\n",
    "    idxs = indices[i]\n",
    "\n",
    "    dists = np.where(dists == 0, 0.001, dists)\n",
    "    weights = 1 / (dists**2)\n",
    "    pm10_vals = geodata2017cams.iloc[idxs]['pm10'].values\n",
    "\n",
    "    weighted_avg = np.average(pm10_vals, weights=weights)\n",
    "    weighted_pm10.append({\n",
    "        #'date': geodata2017cams.iloc[0]['time'], \n",
    "        'Estacao 2': geodataestacoes.iloc[i]['nome_estac'],\n",
    "        'Estacao': geodataestacoes.iloc[i]['Estacao id'],\n",
    "        'pm10_weighted': weighted_avg\n",
    "    })\n",
    "\n",
    "df = pd.DataFrame(weighted_pm10)\n",
    "print(df)\n",
    "longtable2017 = longtable2017.merge(df, on='Estacao', how='left')\n",
    "longtable2017.to_excel(\"cams/idw2017.xlsx\")"
   ]
  },
  {
   "cell_type": "code",
   "execution_count": 369,
   "id": "dc32d73b",
   "metadata": {},
   "outputs": [
    {
     "name": "stdout",
     "output_type": "stream",
     "text": [
      "        Data  Estacao       pm10             Estacao 2  pm10_weighted\n",
      "0 2017-10-18   3101.0  11.125000               Alverca      10.765913\n",
      "1 2017-10-18   1054.0   9.458333          Anta-Espinho       8.919388\n",
      "2 2017-10-18   3093.0  10.304167                 Arcos       9.510128\n",
      "3 2017-10-18   2017.0  16.083333                Aveiro      10.536745\n",
      "4 2017-10-18   3075.0  13.220833  Avenida da Liberdade      10.615695\n"
     ]
    }
   ],
   "source": [
    "print(longtable2017.head())"
   ]
  },
  {
   "cell_type": "code",
   "execution_count": 370,
   "id": "18cab56b",
   "metadata": {},
   "outputs": [
    {
     "data": {
      "image/png": "[encoded data removed]",
      "text/plain": [
       "<Figure size 800x600 with 1 Axes>"
      ]
     },
     "metadata": {},
     "output_type": "display_data"
    }
   ],
   "source": [
    "plt.figure(figsize=(8, 6))\n",
    "sns.scatterplot(data=longtable2017, x='pm10', y='pm10_weighted')\n",
    "# Add 1:1 reference line\n",
    "max_val = max(longtable2017['pm10'].max(), longtable2017['pm10_weighted'].max())\n",
    "plt.plot([0, max_val], [0, max_val], 'r--', label='1:1 line')\n",
    "\n",
    "# Labels and title\n",
    "plt.xlabel('Observed PM₁₀ (Station)')\n",
    "plt.ylabel('IDW Estimated PM₁₀')\n",
    "plt.title('Observed vs IDW-Estimated PM₁₀')\n",
    "plt.legend()\n",
    "plt.grid(True)\n",
    "plt.tight_layout()\n",
    "plt.show()"
   ]
  },
  {
   "cell_type": "code",
   "execution_count": null,
   "id": "f2fd5402",
   "metadata": {},
   "outputs": [],
   "source": []
  },
  {
   "cell_type": "code",
   "execution_count": null,
   "id": "0440b2aa",
   "metadata": {},
   "outputs": [],
   "source": []
  }
 ],
 "metadata": {
  "kernelspec": {
   "display_name": ".venv",
   "language": "python",
   "name": "python3"
  },
  "language_info": {
   "codemirror_mode": {
    "name": "ipython",
    "version": 3
   },
   "file_extension": ".py",
   "mimetype": "text/x-python",
   "name": "python",
   "nbconvert_exporter": "python",
   "pygments_lexer": "ipython3",
   "version": "3.13.3"
  }
 },
 "nbformat": 4,
 "nbformat_minor": 5
}
