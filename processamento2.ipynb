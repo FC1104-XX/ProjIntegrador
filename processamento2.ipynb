{
 "cells": [
  {
   "cell_type": "code",
   "execution_count": 45,
   "id": "163931d6",
   "metadata": {},
   "outputs": [],
   "source": [
    "import geopandas as gpd\n",
    "import pandas as pd"
   ]
  },
  {
   "cell_type": "code",
   "execution_count": 46,
   "id": "98f9e9ff",
   "metadata": {},
   "outputs": [],
   "source": [
    "gdf = gpd.read_file(\"cos/COS2018_v1/COS2018_v1.shp\")"
   ]
  },
  {
   "cell_type": "code",
   "execution_count": 47,
   "id": "3475c15b",
   "metadata": {},
   "outputs": [
    {
     "name": "stdout",
     "output_type": "stream",
     "text": [
      "   ID                      COS2018_n1 COS2018_n4  \\\n",
      "0   1  1.Territórios artificializados    1.1.1.1   \n",
      "1   2  1.Territórios artificializados    1.1.1.1   \n",
      "2   3  1.Territórios artificializados    1.1.1.1   \n",
      "3   4  1.Territórios artificializados    1.1.1.1   \n",
      "4   5  1.Territórios artificializados    1.1.1.1   \n",
      "\n",
      "                                          COS2018_Lg        AREA  \\\n",
      "0  1.1.1.1 Tecido edificado contínuo predominante...    6.309516   \n",
      "1  1.1.1.1 Tecido edificado contínuo predominante...   21.540695   \n",
      "2  1.1.1.1 Tecido edificado contínuo predominante...  266.076909   \n",
      "3  1.1.1.1 Tecido edificado contínuo predominante...  153.211479   \n",
      "4  1.1.1.1 Tecido edificado contínuo predominante...    5.183394   \n",
      "\n",
      "                                            geometry  \n",
      "0  POLYGON ((25207.049 -293385.504, 25209.111 -29...  \n",
      "1  POLYGON ((17318.84 -292885.36, 17309.82 -29293...  \n",
      "2  POLYGON ((17873.42 -292850.54, 17898.22 -29285...  \n",
      "3  POLYGON ((26593.434 -291806.366, 26596.32 -291...  \n",
      "4  POLYGON ((26123.249 -291487.497, 26132.171 -29...  \n"
     ]
    }
   ],
   "source": [
    "print(gdf.head())"
   ]
  },
  {
   "cell_type": "code",
   "execution_count": 48,
   "id": "bda00d29",
   "metadata": {},
   "outputs": [],
   "source": [
    "#gdf.to_excel(\"cos/cos1.xlsx\")"
   ]
  },
  {
   "cell_type": "code",
   "execution_count": 49,
   "id": "2a65f922",
   "metadata": {},
   "outputs": [
    {
     "name": "stdout",
     "output_type": "stream",
     "text": [
      "['1.Territórios artificializados' '2.Agricultura' '3.Pastagens'\n",
      " '4.Superfícies agroflorestais' '5.Florestas' '6.Matos'\n",
      " '7. Espaços descobertos ou com pouca vegetação' '8.Zonas húmidas'\n",
      " '9.Massas de água superficiais']\n"
     ]
    }
   ],
   "source": [
    "classes1 = gdf[\"COS2018_n1\"].unique()\n",
    "classes2 = gdf[\"COS2018_n4\"].unique()\n",
    "classes3 = gdf[\"COS2018_Lg\"].unique()\n",
    "print(classes1)"
   ]
  },
  {
   "cell_type": "code",
   "execution_count": 50,
   "id": "257f7ccb",
   "metadata": {},
   "outputs": [
    {
     "name": "stdout",
     "output_type": "stream",
     "text": [
      "['1.1.1.1' '1.1.1.2' '1.1.3.1' '1.1.2.1' '1.1.2.2' '1.2.1.1' '1.2.2.1'\n",
      " '1.2.3.1' '1.6.5.1' '1.3.1.1' '1.3.2.1' '1.3.2.2' '1.3.1.2' '1.4.1.1'\n",
      " '1.4.1.2' '1.4.2.1' '1.4.2.2' '1.4.2.3' '1.4.3.1' '1.4.3.2' '1.5.1.1'\n",
      " '1.5.1.2' '1.5.2.1' '1.5.2.2' '1.5.3.1' '1.1.3.2' '1.7.1.1' '1.6.4.1'\n",
      " '1.6.1.1' '1.6.1.2' '1.6.2.1' '1.6.2.2' '1.6.3.1' '2.1.1.1' '2.4.1.1'\n",
      " '2.1.1.2' '2.2.1.1' '2.2.2.1' '2.2.3.1' '3.1.1.1' '2.3.1.1' '2.3.1.2'\n",
      " '2.3.1.3' '2.3.2.1' '2.3.3.1' '4.1.1.1' '4.1.1.2' '4.1.1.3' '4.1.1.4'\n",
      " '4.1.1.5' '4.1.1.6' '4.1.1.7' '5.1.1.1' '5.1.1.2' '5.1.1.3' '5.1.1.4'\n",
      " '5.1.1.5' '5.1.1.6' '5.1.1.7' '5.1.2.1' '5.1.2.2' '5.1.2.3' '3.1.2.1'\n",
      " '6.1.1.1' '7.1.1.1' '7.1.1.2' '7.1.2.1' '7.1.3.1' '8.1.1.1' '8.1.2.1'\n",
      " '9.3.1.1' '8.1.2.2' '9.1.1.1' '9.1.1.2' '9.1.2.1' '9.1.2.2' '9.1.2.3'\n",
      " '9.1.2.4' '9.1.2.5' '9.2.1.1' '9.3.2.1' '9.3.3.1' '9.3.4.1']\n"
     ]
    }
   ],
   "source": [
    "print(classes2)"
   ]
  },
  {
   "cell_type": "code",
   "execution_count": 51,
   "id": "c8296c27",
   "metadata": {},
   "outputs": [
    {
     "name": "stdout",
     "output_type": "stream",
     "text": [
      "['1.1.1.1 Tecido edificado contínuo predominantemente vertical'\n",
      " '1.1.1.2 Tecido edificado contínuo predominantemente horizontal'\n",
      " '1.1.3.1 Áreas de estacionamentos e logradouros'\n",
      " '1.1.2.1 Tecido edificado descontínuo'\n",
      " '1.1.2.2 Tecido edificado descontínuo esparso' '1.2.1.1 Indústria'\n",
      " '1.2.2.1 Comércio' '1.2.3.1 Instalações agrícolas'\n",
      " '1.6.5.1 Outros equipamentos e instalações turísticas'\n",
      " '1.3.1.1 Infraestruturas de produção de energia renovável'\n",
      " '1.3.2.1 Infraestruturas para captação, tratamento e abastecimento de águas para consumo'\n",
      " '1.3.2.2 Infraestruturas de tratamento de resíduos e águas residuais'\n",
      " '1.3.1.2 Infraestruturas de produção de energia não renovável'\n",
      " '1.4.1.1 Rede viária e espaços associados'\n",
      " '1.4.1.2 Rede ferroviária e espaços associados'\n",
      " '1.4.2.1 Terminais portuários de mar e de rio'\n",
      " '1.4.2.2 Estaleiros navais e docas secas' '1.4.2.3 Marinas e docas pesca'\n",
      " '1.4.3.1 Aeroportos' '1.4.3.2 Aeródromos' '1.5.1.1 Minas a céu aberto'\n",
      " '1.5.1.2 Pedreiras' '1.5.2.1 Aterros' '1.5.2.2 Lixeiras e Sucatas'\n",
      " '1.5.3.1 Áreas em construção' '1.1.3.2 Espaços vazios sem construção'\n",
      " '1.7.1.1 Parques e jardins' '1.6.4.1 Cemitérios'\n",
      " '1.6.1.1 Campos de golfe' '1.6.1.2 Instalações desportivas'\n",
      " '1.6.2.1 Parques de campismo' '1.6.2.2 Equipamentos de lazer'\n",
      " '1.6.3.1 Equipamentos culturais'\n",
      " '2.1.1.1 Culturas temporárias de sequeiro e regadio'\n",
      " '2.4.1.1 Agricultura protegida e viveiros' '2.1.1.2 Arrozais'\n",
      " '2.2.1.1 Vinhas' '2.2.2.1 Pomares' '2.2.3.1 Olivais'\n",
      " '3.1.1.1 Pastagens melhoradas'\n",
      " '2.3.1.1 Culturas temporárias e/ou pastagens melhoradas associadas a vinha'\n",
      " '2.3.1.2 Culturas temporárias e/ou pastagens melhoradas associadas a pomar'\n",
      " '2.3.1.3 Culturas temporárias e/ou pastagens melhoradas associadas a olival'\n",
      " '2.3.2.1 Mosaicos culturais e parcelares complexos'\n",
      " '2.3.3.1 Agricultura com espaços naturais e seminaturais'\n",
      " '4.1.1.1 SAF de sobreiro' '4.1.1.2 SAF de azinheira'\n",
      " '4.1.1.3 SAF de outros carvalhos' '4.1.1.4 SAF de pinheiro manso'\n",
      " '4.1.1.5 SAF de outras espécies' '4.1.1.6 SAF de sobreiro com azinheira'\n",
      " '4.1.1.7 SAF de outras misturas' '5.1.1.1 Florestas de sobreiro'\n",
      " '5.1.1.2 Florestas de azinheira' '5.1.1.3 Florestas de outros carvalhos'\n",
      " '5.1.1.4 Florestas de castanheiro' '5.1.1.5 Florestas de eucalipto'\n",
      " '5.1.1.6 Florestas de espécies invasoras'\n",
      " '5.1.1.7 Florestas de outras folhosas'\n",
      " '5.1.2.1 Florestas de pinheiro bravo'\n",
      " '5.1.2.2 Florestas de pinheiro manso'\n",
      " '5.1.2.3 Florestas de outras resinosas' '3.1.2.1 Pastagens espontâneas'\n",
      " '6.1.1.1 Matos' '7.1.1.1 Praias, dunas e areais interiores'\n",
      " '7.1.1.2 Praias, dunas e areais costeiros' '7.1.2.1 Rocha nua'\n",
      " '7.1.3.1 Vegetação esparsa' '8.1.1.1 Pauis' '8.1.2.1 Sapais'\n",
      " '9.3.1.1 Salinas' '8.1.2.2 Zonas entremarés'\n",
      " '9.1.1.1 Cursos de água naturais'\n",
      " '9.1.1.2 Cursos de água modificados ou artificializados'\n",
      " '9.1.2.1 Lagos e lagoas interiores artificiais'\n",
      " '9.1.2.2 Lagos e lagoas interiores naturais'\n",
      " '9.1.2.3 Albufeiras de barragens'\n",
      " '9.1.2.4 Albufeiras de represas ou de açudes' '9.1.2.5 Charcas'\n",
      " '9.2.1.1 Aquicultura' '9.3.2.1 Lagoas costeiras'\n",
      " '9.3.3.1 Desembocaduras fluviais' '9.3.4.1 Oceano']\n"
     ]
    }
   ],
   "source": [
    "print(classes3)"
   ]
  },
  {
   "cell_type": "code",
   "execution_count": 52,
   "id": "a16a9528",
   "metadata": {},
   "outputs": [],
   "source": [
    "def classify_land_use(code):\n",
    "    if code.startswith('1.1') or code.startswith('1.2.1') or code.startswith('1.2.2') or \\\n",
    "       code.startswith('1.3') or code.startswith('1.5'):\n",
    "        return 'Urbanizado'\n",
    "    elif code.startswith('1.4'):\n",
    "        return 'Transporte'\n",
    "    else:\n",
    "        return 'Outros'\n",
    "\n",
    "gdf['Uso_solo_simplificado'] = gdf['COS2018_n4'].apply(classify_land_use)"
   ]
  },
  {
   "cell_type": "code",
   "execution_count": 53,
   "id": "ce5c82cf",
   "metadata": {},
   "outputs": [
    {
     "name": "stdout",
     "output_type": "stream",
     "text": [
      "   ID                      COS2018_n1 COS2018_n4  \\\n",
      "0   1  1.Territórios artificializados    1.1.1.1   \n",
      "1   2  1.Territórios artificializados    1.1.1.1   \n",
      "2   3  1.Territórios artificializados    1.1.1.1   \n",
      "3   4  1.Territórios artificializados    1.1.1.1   \n",
      "4   5  1.Territórios artificializados    1.1.1.1   \n",
      "\n",
      "                                          COS2018_Lg        AREA  \\\n",
      "0  1.1.1.1 Tecido edificado contínuo predominante...    6.309516   \n",
      "1  1.1.1.1 Tecido edificado contínuo predominante...   21.540695   \n",
      "2  1.1.1.1 Tecido edificado contínuo predominante...  266.076909   \n",
      "3  1.1.1.1 Tecido edificado contínuo predominante...  153.211479   \n",
      "4  1.1.1.1 Tecido edificado contínuo predominante...    5.183394   \n",
      "\n",
      "                                            geometry Uso_solo_simplificado  \n",
      "0  POLYGON ((25207.049 -293385.504, 25209.111 -29...            Urbanizado  \n",
      "1  POLYGON ((17318.84 -292885.36, 17309.82 -29293...            Urbanizado  \n",
      "2  POLYGON ((17873.42 -292850.54, 17898.22 -29285...            Urbanizado  \n",
      "3  POLYGON ((26593.434 -291806.366, 26596.32 -291...            Urbanizado  \n",
      "4  POLYGON ((26123.249 -291487.497, 26132.171 -29...            Urbanizado  \n"
     ]
    }
   ],
   "source": [
    "print(gdf.head())"
   ]
  },
  {
   "cell_type": "code",
   "execution_count": 54,
   "id": "62ca3500",
   "metadata": {},
   "outputs": [
    {
     "name": "stdout",
     "output_type": "stream",
     "text": [
      "   Unnamed: 0       Data  Estacao       pm10             Estacao 2  \\\n",
      "0           0 2018-06-20     1054  13.681818          Anta-Espinho   \n",
      "1           1 2018-06-20     3093  36.491667                 Arcos   \n",
      "2           2 2018-06-20     2017  27.125000                Aveiro   \n",
      "3           3 2018-06-20     3075  48.416667  Avenida da Liberdade   \n",
      "4           4 2018-06-20     1053  27.200000               Avintes   \n",
      "\n",
      "   pm10_weighted  \n",
      "0      20.646031  \n",
      "1      32.937641  \n",
      "2      18.858698  \n",
      "3      32.890849  \n",
      "4      21.891247  \n",
      "        Data  Estacao id               Estacao       pm10  pm10_weighted\n",
      "0 2018-06-20        1054          Anta-Espinho  13.681818      20.646031\n",
      "1 2018-06-20        3093                 Arcos  36.491667      32.937641\n",
      "2 2018-06-20        2017                Aveiro  27.125000      18.858698\n",
      "3 2018-06-20        3075  Avenida da Liberdade  48.416667      32.890849\n",
      "4 2018-06-20        1053               Avintes  27.200000      21.891247\n"
     ]
    }
   ],
   "source": [
    "longtable2018 = pd.read_excel(\"cams/idw2018.xlsx\")\n",
    "print(longtable2018.head())\n",
    "longtable = longtable2018[['Data', 'Estacao', 'Estacao 2', \"pm10\", \"pm10_weighted\"]]\n",
    "longtable = longtable.rename(columns={'Estacao': 'Estacao id', \"Estacao 2\": \"Estacao\"})\n",
    "print(longtable.head())"
   ]
  },
  {
   "cell_type": "code",
   "execution_count": 55,
   "id": "bfb41b16",
   "metadata": {},
   "outputs": [
    {
     "name": "stdout",
     "output_type": "stream",
     "text": [
      "   Unnamed: 0   codigo_est                      nome_estac  data_inici  \\\n",
      "0           0  STA-PT01053                         Avintes  12/07/2010   \n",
      "1           1  STA-PT01021             Custóias-Matosinhos  01/09/1998   \n",
      "2           2  STA-PT01023               Ermesinde-Valongo  01/10/1998   \n",
      "3           3  STA-PT01024             D.Manuel II-Vermoim  01/11/1999   \n",
      "4           4  STA-PT01028  Francisco Sá Carneiro-Campanha  19/09/2000   \n",
      "\n",
      "     data_fim   latitude  longitude   rede_codig  \\\n",
      "0  0000/00/00  41.098187  -8.554351  NET-PT00015   \n",
      "1  0000/00/00  41.199805  -8.644844  NET-PT00015   \n",
      "2  0000/00/00  41.206605  -8.552600  NET-PT00015   \n",
      "3  0000/00/00  41.235563  -8.618715  NET-PT00015   \n",
      "4  0000/00/00  41.162791  -8.590847  NET-PT00015   \n",
      "\n",
      "                          rede_nome rede_aqd_o  \\\n",
      "0  Rede de Qualidade do Ar do Norte   regional   \n",
      "1  Rede de Qualidade do Ar do Norte   regional   \n",
      "2  Rede de Qualidade do Ar do Norte   regional   \n",
      "3  Rede de Qualidade do Ar do Norte   regional   \n",
      "4  Rede de Qualidade do Ar do Norte   regional   \n",
      "\n",
      "                                        geometry     3763_long       3763_lat  \\\n",
      "0  POINT (-8.554350999999997 41.098186999999996) -35388.726933  158867.677319   \n",
      "1  POINT (-8.644843999999978 41.199805000000026) -42924.770151  170193.796239   \n",
      "2  POINT (-8.552599999999984 41.206605000000025) -35183.611562  170907.573844   \n",
      "3   POINT (-8.618715000000009 41.23556300000001) -40710.864377  174152.466336   \n",
      "4   POINT (-8.590846999999997 41.16279100000003) -38417.071842  166057.858413   \n",
      "\n",
      "   Estacao id Influencia nome Ambiente nome  \n",
      "0        1053           Fundo        Urbana  \n",
      "1        1021           Fundo     Suburbana  \n",
      "2        1023           Fundo        Urbana  \n",
      "3        1024         Tráfego        Urbana  \n",
      "4        1028         Tráfego        Urbana  \n"
     ]
    }
   ],
   "source": [
    "estacoes = pd.read_excel(\"apa/estacoes_infoextra.xlsx\")\n",
    "print(estacoes.head())"
   ]
  },
  {
   "cell_type": "code",
   "execution_count": 56,
   "id": "7efc46b0",
   "metadata": {},
   "outputs": [],
   "source": [
    "merge_cols = [\"Estacao id\", \"3763_long\", \"3763_lat\"]\n",
    "#print(estacoes.columns.tolist())\n",
    "#print(longtable.columns.tolist())\n",
    "longtable = longtable.merge(estacoes[merge_cols], on='Estacao id', how='left')"
   ]
  },
  {
   "cell_type": "code",
   "execution_count": 57,
   "id": "59ba771a",
   "metadata": {},
   "outputs": [
    {
     "name": "stdout",
     "output_type": "stream",
     "text": [
      "        Data  Estacao id               Estacao       pm10  pm10_weighted  \\\n",
      "0 2018-06-20        1054          Anta-Espinho  13.681818      20.646031   \n",
      "1 2018-06-20        3093                 Arcos  36.491667      32.937641   \n",
      "2 2018-06-20        2017                Aveiro  27.125000      18.858698   \n",
      "3 2018-06-20        3075  Avenida da Liberdade  48.416667      32.890849   \n",
      "4 2018-06-20        1053               Avintes  27.200000      21.891247   \n",
      "\n",
      "      3763_long       3763_lat  \n",
      "0 -41240.983793  147938.005060  \n",
      "1 -66272.452636 -126138.602836  \n",
      "2 -43558.434663  107718.402059  \n",
      "3 -88100.749963 -104660.100318  \n",
      "4 -35388.726933  158867.677319  \n"
     ]
    }
   ],
   "source": [
    "print(longtable.head())\n"
   ]
  },
  {
   "cell_type": "code",
   "execution_count": 58,
   "id": "e5646bc4",
   "metadata": {},
   "outputs": [
    {
     "name": "stdout",
     "output_type": "stream",
     "text": [
      "        Data  Estacao id               Estacao       pm10  pm10_weighted  \\\n",
      "0 2018-06-20        1054          Anta-Espinho  13.681818      20.646031   \n",
      "1 2018-06-20        3093                 Arcos  36.491667      32.937641   \n",
      "2 2018-06-20        2017                Aveiro  27.125000      18.858698   \n",
      "3 2018-06-20        3075  Avenida da Liberdade  48.416667      32.890849   \n",
      "4 2018-06-20        1053               Avintes  27.200000      21.891247   \n",
      "\n",
      "      3763_long       3763_lat                        geometry  \n",
      "0 -41240.983793  147938.005060   POINT (-41240.984 147938.005)  \n",
      "1 -66272.452636 -126138.602836  POINT (-66272.453 -126138.603)  \n",
      "2 -43558.434663  107718.402059   POINT (-43558.435 107718.402)  \n",
      "3 -88100.749963 -104660.100318     POINT (-88100.75 -104660.1)  \n",
      "4 -35388.726933  158867.677319   POINT (-35388.727 158867.677)  \n"
     ]
    }
   ],
   "source": [
    "points2018 = gpd.GeoDataFrame(\n",
    "    longtable,\n",
    "    geometry=gpd.points_from_xy(longtable['3763_long'], longtable['3763_lat']),\n",
    "    crs=\"EPSG:3763\"  # use the correct CRS for your data\n",
    ")\n",
    "print(points2018.head())"
   ]
  },
  {
   "cell_type": "code",
   "execution_count": 60,
   "id": "e9cc4fae",
   "metadata": {},
   "outputs": [
    {
     "name": "stdout",
     "output_type": "stream",
     "text": [
      "        Data  Estacao id               Estacao       pm10  pm10_weighted  \\\n",
      "0 2018-06-20        1054          Anta-Espinho  13.681818      20.646031   \n",
      "1 2018-06-20        3093                 Arcos  36.491667      32.937641   \n",
      "2 2018-06-20        2017                Aveiro  27.125000      18.858698   \n",
      "3 2018-06-20        3075  Avenida da Liberdade  48.416667      32.890849   \n",
      "4 2018-06-20        1053               Avintes  27.200000      21.891247   \n",
      "\n",
      "      3763_long       3763_lat                        geometry  index_right  \\\n",
      "0 -41240.983793  147938.005060   POINT (-41240.984 147938.005)       533697   \n",
      "1 -66272.452636 -126138.602836  POINT (-66272.453 -126138.603)          131   \n",
      "2 -43558.434663  107718.402059   POINT (-43558.435 107718.402)        67200   \n",
      "3 -88100.749963 -104660.100318     POINT (-88100.75 -104660.1)        69920   \n",
      "4 -35388.726933  158867.677319   POINT (-35388.727 158867.677)        76576   \n",
      "\n",
      "  Uso_solo_simplificado  \n",
      "0                Outros  \n",
      "1            Urbanizado  \n",
      "2                Outros  \n",
      "3            Transporte  \n",
      "4                Outros  \n"
     ]
    }
   ],
   "source": [
    "class_lt = gpd.sjoin(points2018, gdf[['geometry', \"Uso_solo_simplificado\"]], how='left', predicate='within')\n",
    "print(class_lt.head())"
   ]
  },
  {
   "cell_type": "code",
   "execution_count": 62,
   "id": "3ee994a2",
   "metadata": {},
   "outputs": [
    {
     "name": "stdout",
     "output_type": "stream",
     "text": [
      "EPSG:3763\n",
      "EPSG:3763\n"
     ]
    }
   ],
   "source": [
    "print(points2018.crs)\n",
    "print(gdf.crs)"
   ]
  },
  {
   "cell_type": "code",
   "execution_count": 64,
   "id": "06666075",
   "metadata": {},
   "outputs": [
    {
     "name": "stdout",
     "output_type": "stream",
     "text": [
      "        Data  Estacao id               Estacao       pm10  pm10_weighted  \\\n",
      "0 2018-06-20        1054          Anta-Espinho  13.681818      20.646031   \n",
      "1 2018-06-20        3093                 Arcos  36.491667      32.937641   \n",
      "2 2018-06-20        2017                Aveiro  27.125000      18.858698   \n",
      "3 2018-06-20        3075  Avenida da Liberdade  48.416667      32.890849   \n",
      "4 2018-06-20        1053               Avintes  27.200000      21.891247   \n",
      "\n",
      "  Uso_solo_simplificado  \n",
      "0                Outros  \n",
      "1            Urbanizado  \n",
      "2                Outros  \n",
      "3            Transporte  \n",
      "4                Outros  \n"
     ]
    }
   ],
   "source": [
    "longtable = class_lt[['Data', 'Estacao id', 'Estacao', \"pm10\", \"pm10_weighted\", \"Uso_solo_simplificado\"]]\n",
    "print(longtable.head())"
   ]
  },
  {
   "cell_type": "code",
   "execution_count": 68,
   "id": "ee6a324d",
   "metadata": {},
   "outputs": [
    {
     "name": "stdout",
     "output_type": "stream",
     "text": [
      "        Data  Estacao id               Estacao       pm10  pm10_weighted  \\\n",
      "0 2018-06-20        1054          Anta-Espinho  13.681818      20.646031   \n",
      "1 2018-06-20        3093                 Arcos  36.491667      32.937641   \n",
      "2 2018-06-20        2017                Aveiro  27.125000      18.858698   \n",
      "3 2018-06-20        3075  Avenida da Liberdade  48.416667      32.890849   \n",
      "4 2018-06-20        1053               Avintes  27.200000      21.891247   \n",
      "\n",
      "  Uso_solo_simplificado  Urbanizado  Transporte  \n",
      "0                Outros           0           0  \n",
      "1            Urbanizado           1           0  \n",
      "2                Outros           0           0  \n",
      "3            Transporte           0           1  \n",
      "4                Outros           0           0  \n"
     ]
    },
    {
     "name": "stderr",
     "output_type": "stream",
     "text": [
      "/tmp/ipykernel_22573/3744974765.py:3: SettingWithCopyWarning: \n",
      "A value is trying to be set on a copy of a slice from a DataFrame.\n",
      "Try using .loc[row_indexer,col_indexer] = value instead\n",
      "\n",
      "See the caveats in the documentation: https://pandas.pydata.org/pandas-docs/stable/user_guide/indexing.html#returning-a-view-versus-a-copy\n",
      "  longtable['Urbanizado'] = dummies.get('Urbanizado', pd.Series(0, index=longtable.index)).astype(int)\n",
      "/tmp/ipykernel_22573/3744974765.py:4: SettingWithCopyWarning: \n",
      "A value is trying to be set on a copy of a slice from a DataFrame.\n",
      "Try using .loc[row_indexer,col_indexer] = value instead\n",
      "\n",
      "See the caveats in the documentation: https://pandas.pydata.org/pandas-docs/stable/user_guide/indexing.html#returning-a-view-versus-a-copy\n",
      "  longtable['Transporte'] = dummies.get('Transporte', pd.Series(0, index=longtable.index)).astype(int)\n"
     ]
    }
   ],
   "source": [
    "dummies = pd.get_dummies(longtable['Uso_solo_simplificado'])\n",
    "\n",
    "longtable['Urbanizado'] = dummies.get('Urbanizado', pd.Series(0, index=longtable.index)).astype(int)\n",
    "longtable['Transporte'] = dummies.get('Transporte', pd.Series(0, index=longtable.index)).astype(int)\n",
    "print(longtable.head())\n"
   ]
  },
  {
   "cell_type": "code",
   "execution_count": 74,
   "id": "ec94f53d",
   "metadata": {},
   "outputs": [
    {
     "name": "stdout",
     "output_type": "stream",
     "text": [
      "        Data  Estacao id               Estacao       pm10  pm10_weighted  \\\n",
      "0 2018-06-20        1054          Anta-Espinho  13.681818      20.646031   \n",
      "1 2018-06-20        3093                 Arcos  36.491667      32.937641   \n",
      "2 2018-06-20        2017                Aveiro  27.125000      18.858698   \n",
      "3 2018-06-20        3075  Avenida da Liberdade  48.416667      32.890849   \n",
      "4 2018-06-20        1053               Avintes  27.200000      21.891247   \n",
      "\n",
      "   Urbanizado  Transporte  \n",
      "0           0           0  \n",
      "1           1           0  \n",
      "2           0           0  \n",
      "3           0           1  \n",
      "4           0           0  \n"
     ]
    }
   ],
   "source": [
    "longtable.to_excel(\"cos/longtable_com_soloescrito.xlsx\")\n",
    "longtable = longtable[[\"Data\", \"Estacao id\", \"Estacao\", \"pm10\", \"pm10_weighted\", \"Urbanizado\", \"Transporte\"]]\n",
    "print(longtable.head())\n",
    "longtable.to_excel(\"cos/longtable.xlsx\")"
   ]
  },
  {
   "cell_type": "code",
   "execution_count": null,
   "id": "3cf56748",
   "metadata": {},
   "outputs": [],
   "source": []
  }
 ],
 "metadata": {
  "kernelspec": {
   "display_name": ".venv",
   "language": "python",
   "name": "python3"
  },
  "language_info": {
   "codemirror_mode": {
    "name": "ipython",
    "version": 3
   },
   "file_extension": ".py",
   "mimetype": "text/x-python",
   "name": "python",
   "nbconvert_exporter": "python",
   "pygments_lexer": "ipython3",
   "version": "3.13.3"
  }
 },
 "nbformat": 4,
 "nbformat_minor": 5
}
