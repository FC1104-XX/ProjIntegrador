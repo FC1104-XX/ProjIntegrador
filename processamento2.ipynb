{
 "cells": [
  {
   "cell_type": "code",
   "execution_count": 1,
   "id": "163931d6",
   "metadata": {},
   "outputs": [],
   "source": [
    "import geopandas as gpd\n",
    "import pandas as pd\n",
    "import matplotlib.pyplot as plt"
   ]
  },
  {
   "cell_type": "code",
   "execution_count": 2,
   "id": "98f9e9ff",
   "metadata": {},
   "outputs": [],
   "source": [
    "gdf = gpd.read_file(\"cos/COS2018_v1/COS2018_v1.shp\")"
   ]
  },
  {
   "cell_type": "code",
   "execution_count": 3,
   "id": "3475c15b",
   "metadata": {},
   "outputs": [
    {
     "name": "stdout",
     "output_type": "stream",
     "text": [
      "   ID                      COS2018_n1 COS2018_n4  \\\n",
      "0   1  1.Territórios artificializados    1.1.1.1   \n",
      "1   2  1.Territórios artificializados    1.1.1.1   \n",
      "2   3  1.Territórios artificializados    1.1.1.1   \n",
      "3   4  1.Territórios artificializados    1.1.1.1   \n",
      "4   5  1.Territórios artificializados    1.1.1.1   \n",
      "\n",
      "                                          COS2018_Lg        AREA  \\\n",
      "0  1.1.1.1 Tecido edificado contínuo predominante...    6.309516   \n",
      "1  1.1.1.1 Tecido edificado contínuo predominante...   21.540695   \n",
      "2  1.1.1.1 Tecido edificado contínuo predominante...  266.076909   \n",
      "3  1.1.1.1 Tecido edificado contínuo predominante...  153.211479   \n",
      "4  1.1.1.1 Tecido edificado contínuo predominante...    5.183394   \n",
      "\n",
      "                                            geometry  \n",
      "0  POLYGON ((25207.049 -293385.504, 25209.111 -29...  \n",
      "1  POLYGON ((17318.84 -292885.36, 17309.82 -29293...  \n",
      "2  POLYGON ((17873.42 -292850.54, 17898.22 -29285...  \n",
      "3  POLYGON ((26593.434 -291806.366, 26596.32 -291...  \n",
      "4  POLYGON ((26123.249 -291487.497, 26132.171 -29...  \n"
     ]
    }
   ],
   "source": [
    "print(gdf.head())"
   ]
  },
  {
   "cell_type": "code",
   "execution_count": 4,
   "id": "bda00d29",
   "metadata": {},
   "outputs": [],
   "source": [
    "#gdf.to_excel(\"cos/cos1.xlsx\")"
   ]
  },
  {
   "cell_type": "code",
   "execution_count": 5,
   "id": "2a65f922",
   "metadata": {},
   "outputs": [
    {
     "name": "stdout",
     "output_type": "stream",
     "text": [
      "['1.Territórios artificializados' '2.Agricultura' '3.Pastagens'\n",
      " '4.Superfícies agroflorestais' '5.Florestas' '6.Matos'\n",
      " '7. Espaços descobertos ou com pouca vegetação' '8.Zonas húmidas'\n",
      " '9.Massas de água superficiais']\n"
     ]
    }
   ],
   "source": [
    "classes1 = gdf[\"COS2018_n1\"].unique()\n",
    "classes2 = gdf[\"COS2018_n4\"].unique()\n",
    "classes3 = gdf[\"COS2018_Lg\"].unique()\n",
    "print(classes1)"
   ]
  },
  {
   "cell_type": "code",
   "execution_count": 6,
   "id": "257f7ccb",
   "metadata": {},
   "outputs": [
    {
     "name": "stdout",
     "output_type": "stream",
     "text": [
      "['1.1.1.1' '1.1.1.2' '1.1.3.1' '1.1.2.1' '1.1.2.2' '1.2.1.1' '1.2.2.1'\n",
      " '1.2.3.1' '1.6.5.1' '1.3.1.1' '1.3.2.1' '1.3.2.2' '1.3.1.2' '1.4.1.1'\n",
      " '1.4.1.2' '1.4.2.1' '1.4.2.2' '1.4.2.3' '1.4.3.1' '1.4.3.2' '1.5.1.1'\n",
      " '1.5.1.2' '1.5.2.1' '1.5.2.2' '1.5.3.1' '1.1.3.2' '1.7.1.1' '1.6.4.1'\n",
      " '1.6.1.1' '1.6.1.2' '1.6.2.1' '1.6.2.2' '1.6.3.1' '2.1.1.1' '2.4.1.1'\n",
      " '2.1.1.2' '2.2.1.1' '2.2.2.1' '2.2.3.1' '3.1.1.1' '2.3.1.1' '2.3.1.2'\n",
      " '2.3.1.3' '2.3.2.1' '2.3.3.1' '4.1.1.1' '4.1.1.2' '4.1.1.3' '4.1.1.4'\n",
      " '4.1.1.5' '4.1.1.6' '4.1.1.7' '5.1.1.1' '5.1.1.2' '5.1.1.3' '5.1.1.4'\n",
      " '5.1.1.5' '5.1.1.6' '5.1.1.7' '5.1.2.1' '5.1.2.2' '5.1.2.3' '3.1.2.1'\n",
      " '6.1.1.1' '7.1.1.1' '7.1.1.2' '7.1.2.1' '7.1.3.1' '8.1.1.1' '8.1.2.1'\n",
      " '9.3.1.1' '8.1.2.2' '9.1.1.1' '9.1.1.2' '9.1.2.1' '9.1.2.2' '9.1.2.3'\n",
      " '9.1.2.4' '9.1.2.5' '9.2.1.1' '9.3.2.1' '9.3.3.1' '9.3.4.1']\n"
     ]
    }
   ],
   "source": [
    "print(classes2)"
   ]
  },
  {
   "cell_type": "code",
   "execution_count": 7,
   "id": "c8296c27",
   "metadata": {},
   "outputs": [
    {
     "name": "stdout",
     "output_type": "stream",
     "text": [
      "['1.1.1.1 Tecido edificado contínuo predominantemente vertical'\n",
      " '1.1.1.2 Tecido edificado contínuo predominantemente horizontal'\n",
      " '1.1.3.1 Áreas de estacionamentos e logradouros'\n",
      " '1.1.2.1 Tecido edificado descontínuo'\n",
      " '1.1.2.2 Tecido edificado descontínuo esparso' '1.2.1.1 Indústria'\n",
      " '1.2.2.1 Comércio' '1.2.3.1 Instalações agrícolas'\n",
      " '1.6.5.1 Outros equipamentos e instalações turísticas'\n",
      " '1.3.1.1 Infraestruturas de produção de energia renovável'\n",
      " '1.3.2.1 Infraestruturas para captação, tratamento e abastecimento de águas para consumo'\n",
      " '1.3.2.2 Infraestruturas de tratamento de resíduos e águas residuais'\n",
      " '1.3.1.2 Infraestruturas de produção de energia não renovável'\n",
      " '1.4.1.1 Rede viária e espaços associados'\n",
      " '1.4.1.2 Rede ferroviária e espaços associados'\n",
      " '1.4.2.1 Terminais portuários de mar e de rio'\n",
      " '1.4.2.2 Estaleiros navais e docas secas' '1.4.2.3 Marinas e docas pesca'\n",
      " '1.4.3.1 Aeroportos' '1.4.3.2 Aeródromos' '1.5.1.1 Minas a céu aberto'\n",
      " '1.5.1.2 Pedreiras' '1.5.2.1 Aterros' '1.5.2.2 Lixeiras e Sucatas'\n",
      " '1.5.3.1 Áreas em construção' '1.1.3.2 Espaços vazios sem construção'\n",
      " '1.7.1.1 Parques e jardins' '1.6.4.1 Cemitérios'\n",
      " '1.6.1.1 Campos de golfe' '1.6.1.2 Instalações desportivas'\n",
      " '1.6.2.1 Parques de campismo' '1.6.2.2 Equipamentos de lazer'\n",
      " '1.6.3.1 Equipamentos culturais'\n",
      " '2.1.1.1 Culturas temporárias de sequeiro e regadio'\n",
      " '2.4.1.1 Agricultura protegida e viveiros' '2.1.1.2 Arrozais'\n",
      " '2.2.1.1 Vinhas' '2.2.2.1 Pomares' '2.2.3.1 Olivais'\n",
      " '3.1.1.1 Pastagens melhoradas'\n",
      " '2.3.1.1 Culturas temporárias e/ou pastagens melhoradas associadas a vinha'\n",
      " '2.3.1.2 Culturas temporárias e/ou pastagens melhoradas associadas a pomar'\n",
      " '2.3.1.3 Culturas temporárias e/ou pastagens melhoradas associadas a olival'\n",
      " '2.3.2.1 Mosaicos culturais e parcelares complexos'\n",
      " '2.3.3.1 Agricultura com espaços naturais e seminaturais'\n",
      " '4.1.1.1 SAF de sobreiro' '4.1.1.2 SAF de azinheira'\n",
      " '4.1.1.3 SAF de outros carvalhos' '4.1.1.4 SAF de pinheiro manso'\n",
      " '4.1.1.5 SAF de outras espécies' '4.1.1.6 SAF de sobreiro com azinheira'\n",
      " '4.1.1.7 SAF de outras misturas' '5.1.1.1 Florestas de sobreiro'\n",
      " '5.1.1.2 Florestas de azinheira' '5.1.1.3 Florestas de outros carvalhos'\n",
      " '5.1.1.4 Florestas de castanheiro' '5.1.1.5 Florestas de eucalipto'\n",
      " '5.1.1.6 Florestas de espécies invasoras'\n",
      " '5.1.1.7 Florestas de outras folhosas'\n",
      " '5.1.2.1 Florestas de pinheiro bravo'\n",
      " '5.1.2.2 Florestas de pinheiro manso'\n",
      " '5.1.2.3 Florestas de outras resinosas' '3.1.2.1 Pastagens espontâneas'\n",
      " '6.1.1.1 Matos' '7.1.1.1 Praias, dunas e areais interiores'\n",
      " '7.1.1.2 Praias, dunas e areais costeiros' '7.1.2.1 Rocha nua'\n",
      " '7.1.3.1 Vegetação esparsa' '8.1.1.1 Pauis' '8.1.2.1 Sapais'\n",
      " '9.3.1.1 Salinas' '8.1.2.2 Zonas entremarés'\n",
      " '9.1.1.1 Cursos de água naturais'\n",
      " '9.1.1.2 Cursos de água modificados ou artificializados'\n",
      " '9.1.2.1 Lagos e lagoas interiores artificiais'\n",
      " '9.1.2.2 Lagos e lagoas interiores naturais'\n",
      " '9.1.2.3 Albufeiras de barragens'\n",
      " '9.1.2.4 Albufeiras de represas ou de açudes' '9.1.2.5 Charcas'\n",
      " '9.2.1.1 Aquicultura' '9.3.2.1 Lagoas costeiras'\n",
      " '9.3.3.1 Desembocaduras fluviais' '9.3.4.1 Oceano']\n"
     ]
    }
   ],
   "source": [
    "print(classes3)"
   ]
  },
  {
   "cell_type": "code",
   "execution_count": 8,
   "id": "a16a9528",
   "metadata": {},
   "outputs": [],
   "source": [
    "def classify_land_use(code):\n",
    "    if code.startswith('1.1') or code.startswith('1.2.1') or code.startswith('1.2.2') or \\\n",
    "       code.startswith('1.3') or code.startswith('1.5'):\n",
    "        return 'Urbanizado'\n",
    "    elif code.startswith('1.4'):\n",
    "        return 'Transporte'\n",
    "    else:\n",
    "        return 'Outros'\n",
    "\n",
    "gdf['Uso_solo_simplificado'] = gdf['COS2018_n4'].apply(classify_land_use)"
   ]
  },
  {
   "cell_type": "code",
   "execution_count": 9,
   "id": "ce5c82cf",
   "metadata": {},
   "outputs": [
    {
     "name": "stdout",
     "output_type": "stream",
     "text": [
      "   ID                      COS2018_n1 COS2018_n4  \\\n",
      "0   1  1.Territórios artificializados    1.1.1.1   \n",
      "1   2  1.Territórios artificializados    1.1.1.1   \n",
      "2   3  1.Territórios artificializados    1.1.1.1   \n",
      "3   4  1.Territórios artificializados    1.1.1.1   \n",
      "4   5  1.Territórios artificializados    1.1.1.1   \n",
      "\n",
      "                                          COS2018_Lg        AREA  \\\n",
      "0  1.1.1.1 Tecido edificado contínuo predominante...    6.309516   \n",
      "1  1.1.1.1 Tecido edificado contínuo predominante...   21.540695   \n",
      "2  1.1.1.1 Tecido edificado contínuo predominante...  266.076909   \n",
      "3  1.1.1.1 Tecido edificado contínuo predominante...  153.211479   \n",
      "4  1.1.1.1 Tecido edificado contínuo predominante...    5.183394   \n",
      "\n",
      "                                            geometry Uso_solo_simplificado  \n",
      "0  POLYGON ((25207.049 -293385.504, 25209.111 -29...            Urbanizado  \n",
      "1  POLYGON ((17318.84 -292885.36, 17309.82 -29293...            Urbanizado  \n",
      "2  POLYGON ((17873.42 -292850.54, 17898.22 -29285...            Urbanizado  \n",
      "3  POLYGON ((26593.434 -291806.366, 26596.32 -291...            Urbanizado  \n",
      "4  POLYGON ((26123.249 -291487.497, 26132.171 -29...            Urbanizado  \n"
     ]
    }
   ],
   "source": [
    "print(gdf.head())"
   ]
  },
  {
   "cell_type": "code",
   "execution_count": 10,
   "id": "62ca3500",
   "metadata": {},
   "outputs": [
    {
     "name": "stdout",
     "output_type": "stream",
     "text": [
      "   Unnamed: 0       Data  Estacao       pm10             Estacao 2  \\\n",
      "0           0 2018-06-20     1054  13.681818          Anta-Espinho   \n",
      "1           1 2018-06-20     3093  36.491667                 Arcos   \n",
      "2           2 2018-06-20     2017  27.125000                Aveiro   \n",
      "3           3 2018-06-20     3075  48.416667  Avenida da Liberdade   \n",
      "4           4 2018-06-20     1053  27.200000               Avintes   \n",
      "\n",
      "   pm10_weighted  \n",
      "0      20.646031  \n",
      "1      32.937641  \n",
      "2      18.858698  \n",
      "3      32.890849  \n",
      "4      21.891247  \n",
      "        Data  Estacao id               Estacao       pm10  pm10_weighted\n",
      "0 2018-06-20        1054          Anta-Espinho  13.681818      20.646031\n",
      "1 2018-06-20        3093                 Arcos  36.491667      32.937641\n",
      "2 2018-06-20        2017                Aveiro  27.125000      18.858698\n",
      "3 2018-06-20        3075  Avenida da Liberdade  48.416667      32.890849\n",
      "4 2018-06-20        1053               Avintes  27.200000      21.891247\n"
     ]
    }
   ],
   "source": [
    "longtable2018 = pd.read_excel(\"cams/idw2018.xlsx\")\n",
    "print(longtable2018.head())\n",
    "longtable = longtable2018[['Data', 'Estacao', 'Estacao 2', \"pm10\", \"pm10_weighted\"]]\n",
    "longtable = longtable.rename(columns={'Estacao': 'Estacao id', \"Estacao 2\": \"Estacao\"})\n",
    "print(longtable.head())"
   ]
  },
  {
   "cell_type": "code",
   "execution_count": 11,
   "id": "bfb41b16",
   "metadata": {},
   "outputs": [
    {
     "name": "stdout",
     "output_type": "stream",
     "text": [
      "   Unnamed: 0   codigo_est                      nome_estac  data_inici  \\\n",
      "0           0  STA-PT01053                         Avintes  12/07/2010   \n",
      "1           1  STA-PT01021             Custóias-Matosinhos  01/09/1998   \n",
      "2           2  STA-PT01023               Ermesinde-Valongo  01/10/1998   \n",
      "3           3  STA-PT01024             D.Manuel II-Vermoim  01/11/1999   \n",
      "4           4  STA-PT01028  Francisco Sá Carneiro-Campanha  19/09/2000   \n",
      "\n",
      "     data_fim   latitude  longitude   rede_codig  \\\n",
      "0  0000/00/00  41.098187  -8.554351  NET-PT00015   \n",
      "1  0000/00/00  41.199805  -8.644844  NET-PT00015   \n",
      "2  0000/00/00  41.206605  -8.552600  NET-PT00015   \n",
      "3  0000/00/00  41.235563  -8.618715  NET-PT00015   \n",
      "4  0000/00/00  41.162791  -8.590847  NET-PT00015   \n",
      "\n",
      "                          rede_nome rede_aqd_o  \\\n",
      "0  Rede de Qualidade do Ar do Norte   regional   \n",
      "1  Rede de Qualidade do Ar do Norte   regional   \n",
      "2  Rede de Qualidade do Ar do Norte   regional   \n",
      "3  Rede de Qualidade do Ar do Norte   regional   \n",
      "4  Rede de Qualidade do Ar do Norte   regional   \n",
      "\n",
      "                                        geometry     3763_long       3763_lat  \\\n",
      "0  POINT (-8.554350999999997 41.098186999999996) -35388.726933  158867.677319   \n",
      "1  POINT (-8.644843999999978 41.199805000000026) -42924.770151  170193.796239   \n",
      "2  POINT (-8.552599999999984 41.206605000000025) -35183.611562  170907.573844   \n",
      "3   POINT (-8.618715000000009 41.23556300000001) -40710.864377  174152.466336   \n",
      "4   POINT (-8.590846999999997 41.16279100000003) -38417.071842  166057.858413   \n",
      "\n",
      "   Estacao id Influencia nome Ambiente nome  \n",
      "0        1053           Fundo        Urbana  \n",
      "1        1021           Fundo     Suburbana  \n",
      "2        1023           Fundo        Urbana  \n",
      "3        1024         Tráfego        Urbana  \n",
      "4        1028         Tráfego        Urbana  \n"
     ]
    }
   ],
   "source": [
    "estacoes = pd.read_excel(\"apa/estacoes_infoextra.xlsx\")\n",
    "print(estacoes.head())"
   ]
  },
  {
   "cell_type": "code",
   "execution_count": 12,
   "id": "7efc46b0",
   "metadata": {},
   "outputs": [],
   "source": [
    "merge_cols = [\"Estacao id\", \"3763_long\", \"3763_lat\"]\n",
    "#print(estacoes.columns.tolist())\n",
    "#print(longtable.columns.tolist())\n",
    "longtable = longtable.merge(estacoes[merge_cols], on='Estacao id', how='left')"
   ]
  },
  {
   "cell_type": "code",
   "execution_count": 13,
   "id": "59ba771a",
   "metadata": {},
   "outputs": [
    {
     "name": "stdout",
     "output_type": "stream",
     "text": [
      "        Data  Estacao id               Estacao       pm10  pm10_weighted  \\\n",
      "0 2018-06-20        1054          Anta-Espinho  13.681818      20.646031   \n",
      "1 2018-06-20        3093                 Arcos  36.491667      32.937641   \n",
      "2 2018-06-20        2017                Aveiro  27.125000      18.858698   \n",
      "3 2018-06-20        3075  Avenida da Liberdade  48.416667      32.890849   \n",
      "4 2018-06-20        1053               Avintes  27.200000      21.891247   \n",
      "\n",
      "      3763_long       3763_lat  \n",
      "0 -41240.983793  147938.005060  \n",
      "1 -66272.452636 -126138.602836  \n",
      "2 -43558.434663  107718.402059  \n",
      "3 -88100.749963 -104660.100318  \n",
      "4 -35388.726933  158867.677319  \n"
     ]
    }
   ],
   "source": [
    "print(longtable.head())\n"
   ]
  },
  {
   "cell_type": "code",
   "execution_count": 14,
   "id": "e5646bc4",
   "metadata": {},
   "outputs": [
    {
     "name": "stdout",
     "output_type": "stream",
     "text": [
      "        Data  Estacao id               Estacao       pm10  pm10_weighted  \\\n",
      "0 2018-06-20        1054          Anta-Espinho  13.681818      20.646031   \n",
      "1 2018-06-20        3093                 Arcos  36.491667      32.937641   \n",
      "2 2018-06-20        2017                Aveiro  27.125000      18.858698   \n",
      "3 2018-06-20        3075  Avenida da Liberdade  48.416667      32.890849   \n",
      "4 2018-06-20        1053               Avintes  27.200000      21.891247   \n",
      "\n",
      "      3763_long       3763_lat                        geometry  \n",
      "0 -41240.983793  147938.005060   POINT (-41240.984 147938.005)  \n",
      "1 -66272.452636 -126138.602836  POINT (-66272.453 -126138.603)  \n",
      "2 -43558.434663  107718.402059   POINT (-43558.435 107718.402)  \n",
      "3 -88100.749963 -104660.100318     POINT (-88100.75 -104660.1)  \n",
      "4 -35388.726933  158867.677319   POINT (-35388.727 158867.677)  \n"
     ]
    }
   ],
   "source": [
    "points2018 = gpd.GeoDataFrame(\n",
    "    longtable,\n",
    "    geometry=gpd.points_from_xy(longtable['3763_long'], longtable['3763_lat']),\n",
    "    crs=\"EPSG:3763\"  # use the correct CRS for your data\n",
    ")\n",
    "print(points2018.head())"
   ]
  },
  {
   "cell_type": "code",
   "execution_count": 15,
   "id": "e9cc4fae",
   "metadata": {},
   "outputs": [
    {
     "name": "stdout",
     "output_type": "stream",
     "text": [
      "        Data  Estacao id               Estacao       pm10  pm10_weighted  \\\n",
      "0 2018-06-20        1054          Anta-Espinho  13.681818      20.646031   \n",
      "1 2018-06-20        3093                 Arcos  36.491667      32.937641   \n",
      "2 2018-06-20        2017                Aveiro  27.125000      18.858698   \n",
      "3 2018-06-20        3075  Avenida da Liberdade  48.416667      32.890849   \n",
      "4 2018-06-20        1053               Avintes  27.200000      21.891247   \n",
      "\n",
      "      3763_long       3763_lat                        geometry  index_right  \\\n",
      "0 -41240.983793  147938.005060   POINT (-41240.984 147938.005)       533697   \n",
      "1 -66272.452636 -126138.602836  POINT (-66272.453 -126138.603)          131   \n",
      "2 -43558.434663  107718.402059   POINT (-43558.435 107718.402)        67200   \n",
      "3 -88100.749963 -104660.100318     POINT (-88100.75 -104660.1)        69920   \n",
      "4 -35388.726933  158867.677319   POINT (-35388.727 158867.677)        76576   \n",
      "\n",
      "  Uso_solo_simplificado  \n",
      "0                Outros  \n",
      "1            Urbanizado  \n",
      "2                Outros  \n",
      "3            Transporte  \n",
      "4                Outros  \n"
     ]
    }
   ],
   "source": [
    "class_lt = gpd.sjoin(points2018, gdf[['geometry', \"Uso_solo_simplificado\"]], how='left', predicate='within')\n",
    "print(class_lt.head())"
   ]
  },
  {
   "cell_type": "code",
   "execution_count": 16,
   "id": "3ee994a2",
   "metadata": {},
   "outputs": [
    {
     "name": "stdout",
     "output_type": "stream",
     "text": [
      "EPSG:3763\n",
      "EPSG:3763\n"
     ]
    }
   ],
   "source": [
    "print(points2018.crs)\n",
    "print(gdf.crs)"
   ]
  },
  {
   "cell_type": "code",
   "execution_count": 17,
   "id": "06666075",
   "metadata": {},
   "outputs": [
    {
     "name": "stdout",
     "output_type": "stream",
     "text": [
      "        Data  Estacao id               Estacao       pm10  pm10_weighted  \\\n",
      "0 2018-06-20        1054          Anta-Espinho  13.681818      20.646031   \n",
      "1 2018-06-20        3093                 Arcos  36.491667      32.937641   \n",
      "2 2018-06-20        2017                Aveiro  27.125000      18.858698   \n",
      "3 2018-06-20        3075  Avenida da Liberdade  48.416667      32.890849   \n",
      "4 2018-06-20        1053               Avintes  27.200000      21.891247   \n",
      "\n",
      "  Uso_solo_simplificado  \n",
      "0                Outros  \n",
      "1            Urbanizado  \n",
      "2                Outros  \n",
      "3            Transporte  \n",
      "4                Outros  \n"
     ]
    }
   ],
   "source": [
    "longtable = class_lt[['Data', 'Estacao id', 'Estacao', \"pm10\", \"pm10_weighted\", \"Uso_solo_simplificado\"]]\n",
    "print(longtable.head())"
   ]
  },
  {
   "cell_type": "code",
   "execution_count": 18,
   "id": "ee6a324d",
   "metadata": {},
   "outputs": [],
   "source": [
    "#dummies = pd.get_dummies(longtable['Uso_solo_simplificado'])\n",
    "\n",
    "#longtable['Urbanizado'] = dummies.get('Urbanizado', pd.Series(0, index=longtable.index)).astype(int)\n",
    "#longtable['Transporte'] = dummies.get('Transporte', pd.Series(0, index=longtable.index)).astype(int)\n",
    "#print(longtable.head())\n"
   ]
  },
  {
   "cell_type": "code",
   "execution_count": 19,
   "id": "ec94f53d",
   "metadata": {},
   "outputs": [],
   "source": [
    "#longtable.to_excel(\"cos/longtable_com_soloescrito.xlsx\")\n",
    "#longtable = longtable[[\"Data\", \"Estacao id\", \"Estacao\", \"pm10\", \"pm10_weighted\", \"Urbanizado\", \"Transporte\"]]\n",
    "#print(longtable.head())\n",
    "#longtable.to_excel(\"cos/longtable.xlsx\")"
   ]
  },
  {
   "cell_type": "code",
   "execution_count": 20,
   "id": "3cf56748",
   "metadata": {},
   "outputs": [],
   "source": [
    "import geopandas as gpd\n",
    "import pandas as pd\n",
    "\n",
    "# Ensure CRS match (in meters)\n",
    "points2018 = points2018.to_crs(gdf.crs)\n",
    "\n",
    "# Define buffer distances (excluding 175m here)\n",
    "buffer_distances = [250, 500, 750, 1000]\n",
    "results = []\n",
    "\n",
    "for dist in buffer_distances:\n",
    "    buffered = points2018.copy()\n",
    "    buffered[\"geometry\"] = buffered.geometry.buffer(dist)\n",
    "    buffered[\"point_index\"] = buffered.index\n",
    "\n",
    "    intersected = gpd.overlay(\n",
    "        buffered,\n",
    "        gdf[[\"geometry\", \"Uso_solo_simplificado\"]],\n",
    "        how='intersection'\n",
    "    )\n",
    "\n",
    "    intersected[\"area\"] = intersected.geometry.area\n",
    "    intersected[\"point_index\"] = intersected[\"point_index\"]\n",
    "\n",
    "    grouped = (\n",
    "        intersected\n",
    "        .groupby([\"point_index\", \"Uso_solo_simplificado\"])[\"area\"]\n",
    "        .sum()\n",
    "        .reset_index()\n",
    "    )\n",
    "\n",
    "    total_area = grouped.groupby(\"point_index\")[\"area\"].sum().rename(\"total_area\").reset_index()\n",
    "    grouped = grouped.merge(total_area, on=\"point_index\")\n",
    "\n",
    "    grouped[\"percentage\"] = grouped[\"area\"] / grouped[\"total_area\"] * 100\n",
    "    grouped[\"buffer_radius_m\"] = dist\n",
    "    results.append(grouped)\n",
    "\n",
    "# Combine all distances\n",
    "final_df = pd.concat(results, ignore_index=True)\n",
    "\n",
    "# Get dominant class per buffer\n",
    "dominant = final_df.loc[\n",
    "    final_df.groupby([\"point_index\", \"buffer_radius_m\"])[\"percentage\"].idxmax()\n",
    "].copy()\n",
    "\n",
    "# ---- NEW PART: Force \"Transporte\" if present in 175m buffer ----\n",
    "\n",
    "# Step 1: Filter Transporte polygons\n",
    "transporte_polygons = gdf[gdf[\"Uso_solo_simplificado\"] == \"Transporte\"]\n",
    "\n",
    "# Step 2: Create 175m buffer around points\n",
    "buffer_175 = points2018.copy()\n",
    "buffer_175[\"geometry\"] = buffer_175.geometry.buffer(175)\n",
    "buffer_175[\"point_index\"] = buffer_175.index\n",
    "\n",
    "# Step 3: Spatial join to find intersections with Transporte\n",
    "buffered_with_transporte = gpd.sjoin(\n",
    "    buffer_175[[\"geometry\", \"point_index\"]],\n",
    "    transporte_polygons[[\"geometry\"]],\n",
    "    how=\"inner\",\n",
    "    predicate=\"intersects\"\n",
    ")\n",
    "\n",
    "# Step 4: Get point indices where Transporte was found at 175m\n",
    "transporte_175_indices = buffered_with_transporte[\"point_index\"].unique()\n",
    "\n",
    "dominant[\"Uso_solo_simplificado\"] = dominant.apply(\n",
    "    lambda row: \"Transporte\" if row[\"point_index\"] in transporte_175_indices else row[\"Uso_solo_simplificado\"],\n",
    "    axis=1\n",
    ")\n"
   ]
  },
  {
   "cell_type": "code",
   "execution_count": 26,
   "id": "725e4098",
   "metadata": {},
   "outputs": [],
   "source": [
    "final_df.to_excel(\"cos/todas_as_classes.xlsx\")\n",
    "dominant.to_excel(\"cos/dominant.xlsx\")\n",
    "\n",
    "f_250 = final_df[final_df[\"buffer_radius_m\"] == 250].reset_index(drop=True)\n",
    "df_500 = final_df[final_df[\"buffer_radius_m\"] == 500].reset_index(drop=True)\n",
    "df_750 = final_df[final_df[\"buffer_radius_m\"] == 750].reset_index(drop=True)\n",
    "df_1000 = final_df[final_df[\"buffer_radius_m\"] == 1000].reset_index(drop=True)\n"
   ]
  },
  {
   "cell_type": "code",
   "execution_count": 35,
   "id": "f65177ad",
   "metadata": {},
   "outputs": [
    {
     "name": "stdout",
     "output_type": "stream",
     "text": [
      "     point_index Uso_solo_simplificado          area    total_area  \\\n",
      "0              0                Outros  1.492777e+05  1.960343e+05   \n",
      "108            0                Outros  5.517885e+05  7.841371e+05   \n",
      "229            0                Outros  1.114068e+06  1.764309e+06   \n",
      "357            0                Outros  1.868295e+06  3.136548e+06   \n",
      "3              1            Urbanizado  1.037632e+05  1.960343e+05   \n",
      "..           ...                   ...           ...           ...   \n",
      "484           46                Outros  3.050511e+06  3.136548e+06   \n",
      "107           47            Urbanizado  1.196785e+05  1.960343e+05   \n",
      "228           47            Urbanizado  4.044508e+05  7.841371e+05   \n",
      "356           47            Urbanizado  1.011553e+06  1.764309e+06   \n",
      "488           47            Urbanizado  1.724125e+06  3.136548e+06   \n",
      "\n",
      "     percentage  buffer_radius_m  \n",
      "0     76.148774              250  \n",
      "108   70.368883              500  \n",
      "229   63.144745              750  \n",
      "357   59.565322             1000  \n",
      "3     52.931174              250  \n",
      "..          ...              ...  \n",
      "484   97.256926             1000  \n",
      "107   61.049801              250  \n",
      "228   51.579091              500  \n",
      "356   57.334219              750  \n",
      "488   54.968874             1000  \n",
      "\n",
      "[192 rows x 6 columns]\n"
     ]
    }
   ],
   "source": [
    "print(dominant)"
   ]
  },
  {
   "cell_type": "code",
   "execution_count": 36,
   "id": "56c54429",
   "metadata": {},
   "outputs": [],
   "source": [
    "# Filter to just the 250m dominant classes\n",
    "dominant_250 = dominant[dominant[\"buffer_radius_m\"] == 250][[\"point_index\", \"Uso_solo_simplificado\"]]\n",
    "\n",
    "# Merge into longtable using index as point ID\n",
    "longtable_with_class = longtable.copy()\n",
    "longtable_with_class[\"Uso_solo_simplificado_250m\"] = longtable_with_class.index.map(\n",
    "    dominant_250.set_index(\"point_index\")[\"Uso_solo_simplificado\"]\n",
    ")\n",
    "\n",
    "dominant_500 = dominant[dominant[\"buffer_radius_m\"] == 500][[\"point_index\", \"Uso_solo_simplificado\"]]\n",
    "\n",
    "longtable_with_class[\"Uso_solo_simplificado_500m\"] = longtable_with_class.index.map(\n",
    "    dominant_500.set_index(\"point_index\")[\"Uso_solo_simplificado\"]\n",
    ")\n",
    "\n",
    "\n",
    "dominant_750 = dominant[dominant[\"buffer_radius_m\"] == 750][[\"point_index\", \"Uso_solo_simplificado\"]]\n",
    "\n",
    "longtable_with_class[\"Uso_solo_simplificado_750m\"] = longtable_with_class.index.map(\n",
    "    dominant_500.set_index(\"point_index\")[\"Uso_solo_simplificado\"]\n",
    ")\n",
    "\n",
    "\n",
    "dominant_1000 = dominant[dominant[\"buffer_radius_m\"] == 1000][[\"point_index\", \"Uso_solo_simplificado\"]]\n",
    "\n",
    "longtable_with_class[\"Uso_solo_simplificado_1000m\"] = longtable_with_class.index.map(\n",
    "    dominant_500.set_index(\"point_index\")[\"Uso_solo_simplificado\"]\n",
    ")"
   ]
  },
  {
   "cell_type": "code",
   "execution_count": 37,
   "id": "4b5ec9fd",
   "metadata": {},
   "outputs": [
    {
     "name": "stdout",
     "output_type": "stream",
     "text": [
      "        Data  Estacao id               Estacao       pm10  pm10_weighted  \\\n",
      "0 2018-06-20        1054          Anta-Espinho  13.681818      20.646031   \n",
      "1 2018-06-20        3093                 Arcos  36.491667      32.937641   \n",
      "2 2018-06-20        2017                Aveiro  27.125000      18.858698   \n",
      "3 2018-06-20        3075  Avenida da Liberdade  48.416667      32.890849   \n",
      "4 2018-06-20        1053               Avintes  27.200000      21.891247   \n",
      "\n",
      "  Uso_solo_simplificado Uso_solo_simplificado_250m Uso_solo_simplificado_500m  \\\n",
      "0                Outros                     Outros                     Outros   \n",
      "1            Urbanizado                 Urbanizado                 Urbanizado   \n",
      "2                Outros                 Urbanizado                 Urbanizado   \n",
      "3            Transporte                 Transporte                 Transporte   \n",
      "4                Outros                     Outros                     Outros   \n",
      "\n",
      "  Uso_solo_simplificado_750m Uso_solo_simplificado_1000m  \n",
      "0                     Outros                      Outros  \n",
      "1                 Urbanizado                  Urbanizado  \n",
      "2                 Urbanizado                  Urbanizado  \n",
      "3                 Transporte                  Transporte  \n",
      "4                     Outros                      Outros  \n"
     ]
    }
   ],
   "source": [
    "print(longtable_with_class.head())\n",
    "longtable_with_class.to_excel(\"cos/variosbuffers.xlsx\")"
   ]
  },
  {
   "cell_type": "code",
   "execution_count": 38,
   "id": "f1efe341",
   "metadata": {},
   "outputs": [
    {
     "data": {
      "text/plain": [
       "<Figure size 800x500 with 0 Axes>"
      ]
     },
     "metadata": {},
     "output_type": "display_data"
    },
    {
     "data": {
      "image/png": "[encoded data removed]",
      "text/plain": [
       "<Figure size 640x480 with 1 Axes>"
      ]
     },
     "metadata": {},
     "output_type": "display_data"
    },
    {
     "data": {
      "text/plain": [
       "<Figure size 800x500 with 0 Axes>"
      ]
     },
     "metadata": {},
     "output_type": "display_data"
    },
    {
     "data": {
      "image/png": "[encoded data removed]",
      "text/plain": [
       "<Figure size 640x480 with 1 Axes>"
      ]
     },
     "metadata": {},
     "output_type": "display_data"
    },
    {
     "data": {
      "text/plain": [
       "<Figure size 800x500 with 0 Axes>"
      ]
     },
     "metadata": {},
     "output_type": "display_data"
    },
    {
     "data": {
      "image/png": "[encoded data removed]",
      "text/plain": [
       "<Figure size 640x480 with 1 Axes>"
      ]
     },
     "metadata": {},
     "output_type": "display_data"
    },
    {
     "data": {
      "text/plain": [
       "<Figure size 800x500 with 0 Axes>"
      ]
     },
     "metadata": {},
     "output_type": "display_data"
    },
    {
     "data": {
      "image/png": "[encoded data removed]",
      "text/plain": [
       "<Figure size 640x480 with 1 Axes>"
      ]
     },
     "metadata": {},
     "output_type": "display_data"
    },
    {
     "data": {
      "text/plain": [
       "<Figure size 800x500 with 0 Axes>"
      ]
     },
     "metadata": {},
     "output_type": "display_data"
    },
    {
     "data": {
      "image/png": "[encoded data removed]",
      "text/plain": [
       "<Figure size 640x480 with 1 Axes>"
      ]
     },
     "metadata": {},
     "output_type": "display_data"
    }
   ],
   "source": [
    "\n",
    "class_columns = [\n",
    "    \"Uso_solo_simplificado\",\n",
    "    \"Uso_solo_simplificado_250m\",\n",
    "    \"Uso_solo_simplificado_500m\",\n",
    "    \"Uso_solo_simplificado_750m\",\n",
    "    \"Uso_solo_simplificado_1000m\"\n",
    "]\n",
    "\n",
    "titles = [\n",
    "    \"PM10 por Uso_solo_simplificado\",\n",
    "    \"PM10 por (250m buffer)\",\n",
    "    \"PM10 por (500m buffer)\",\n",
    "    \"PM10 por (750m buffer)\",\n",
    "    \"PM10 por (1000m buffer)\"\n",
    "]\n",
    "\n",
    "# Loop and plot each boxplot\n",
    "for col, title in zip(class_columns, titles):\n",
    "    data = longtable_with_class[[col, \"pm10\"]].dropna()\n",
    "    data.columns = [\"Class\", \"PM10\"]\n",
    "\n",
    "    plt.figure(figsize=(8, 5))\n",
    "    data.boxplot(by=\"Class\", column=\"PM10\", grid=False)\n",
    "    plt.title(title)\n",
    "    plt.suptitle(\"\")\n",
    "    plt.xlabel(\"Land Use Class\")\n",
    "    plt.ylabel(\"PM10 (µg/m³)\")\n",
    "    plt.xticks(rotation=45)\n",
    "    plt.tight_layout()\n",
    "    plt.show()\n"
   ]
  },
  {
   "cell_type": "code",
   "execution_count": null,
   "id": "5b763729",
   "metadata": {},
   "outputs": [],
   "source": []
  },
  {
   "cell_type": "code",
   "execution_count": null,
   "id": "7395aa96",
   "metadata": {},
   "outputs": [],
   "source": []
  },
  {
   "cell_type": "code",
   "execution_count": null,
   "id": "dfbc0d3c",
   "metadata": {},
   "outputs": [],
   "source": []
  },
  {
   "cell_type": "code",
   "execution_count": null,
   "id": "4b1a63cf",
   "metadata": {},
   "outputs": [],
   "source": []
  },
  {
   "cell_type": "code",
   "execution_count": null,
   "id": "1dddc846",
   "metadata": {},
   "outputs": [],
   "source": []
  },
  {
   "cell_type": "code",
   "execution_count": null,
   "id": "db4f9a8d",
   "metadata": {},
   "outputs": [],
   "source": []
  }
 ],
 "metadata": {
  "kernelspec": {
   "display_name": ".venv",
   "language": "python",
   "name": "python3"
  },
  "language_info": {
   "codemirror_mode": {
    "name": "ipython",
    "version": 3
   },
   "file_extension": ".py",
   "mimetype": "text/x-python",
   "name": "python",
   "nbconvert_exporter": "python",
   "pygments_lexer": "ipython3",
   "version": "3.13.3"
  }
 },
 "nbformat": 4,
 "nbformat_minor": 5
}
